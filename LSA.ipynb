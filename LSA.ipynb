{
 "cells": [
  {
   "cell_type": "code",
   "execution_count": 1,
   "id": "c32c1b81",
   "metadata": {},
   "outputs": [],
   "source": [
    "import numpy as np\n",
    "import pandas as pd\n",
    "from sklearn.ensemble import RandomForestClassifier\n",
    "from sklearn.model_selection import train_test_split\n",
    "from nltk.corpus import stopwords\n",
    "from nltk.tokenize import RegexpTokenizer\n",
    "import re\n",
    "import nltk\n",
    "import string\n",
    "from sklearn.feature_extraction.text import TfidfVectorizer\n",
    "from sklearn.decomposition import TruncatedSVD\n",
    "import seaborn as sns\n",
    "import matplotlib.pyplot as plt\n",
    "import os\n",
    "import json\n",
    "import pandas as pd\n",
    "from datetime import datetime\n",
    "import csv"
   ]
  },
  {
   "cell_type": "markdown",
   "id": "0c913d93",
   "metadata": {},
   "source": [
    "# Truncated SVD -- LSA (Latent Semantic Analysis)"
   ]
  },
  {
   "cell_type": "markdown",
   "id": "61571641",
   "metadata": {},
   "source": [
    "Essai d'une methode de classification de messages courts"
   ]
  },
  {
   "cell_type": "markdown",
   "id": "e5390784",
   "metadata": {},
   "source": [
    "## Données"
   ]
  },
  {
   "cell_type": "code",
   "execution_count": 5,
   "id": "6f804c9a",
   "metadata": {},
   "outputs": [],
   "source": [
    "data_1 = pd.read_json('Data\\messages_chat_seance1\\\\0dfd43cb-9957-4102-954a-899ca075e56d.json')\n",
    "data_2 = pd.read_json('Data\\messages_chat_seance1\\\\1db9dee2-2702-457f-aa07-6b60589446ce.json')\n",
    "data_3 = pd.read_json('Data\\messages_chat_seance1\\\\2ccf746f-62b9-4690-8bff-59c49fb2c310.json')"
   ]
  },
  {
   "cell_type": "code",
   "execution_count": 6,
   "id": "0bf20a7f",
   "metadata": {},
   "outputs": [],
   "source": [
    "##Fonction(s) pour traiter les messages\n",
    "\n",
    "def parse_json_files_in_folder(folder_path):\n",
    "    \"\"\"\n",
    "    Parses all JSON files in a folder and concatenates them into a pandas DataFrame.\n",
    "\n",
    "    Args:\n",
    "        folder_path (str): The path to the folder containing the JSON files.\n",
    "\n",
    "    Returns:\n",
    "        pandas.DataFrame: A DataFrame containing the concatenated data from all JSON files.\n",
    "    \"\"\"\n",
    "    all_data = pd.DataFrame()\n",
    "    groupid = 0\n",
    "    for filename in os.listdir(folder_path):\n",
    "        if filename.endswith(\".json\"):\n",
    "            filepath = os.path.join(folder_path, filename)\n",
    "            data = pd.read_json(filepath)\n",
    "            data['groupID'] = groupid\n",
    "            data['fileID'] = filename[:-5]\n",
    "            all_data = pd.concat([all_data,data],axis = 0)\n",
    "            groupid += 1\n",
    "    all_data.reset_index(inplace = True, drop = True)\n",
    "    all_data.index.names = [\"messageID\"]\n",
    "    # extracting date from timestamp\n",
    "    all_data['date'] = [datetime.date(d) for d in all_data['timestamp']] \n",
    "\n",
    "    # extracting time from timestamp\n",
    "    all_data['time'] = [datetime.time(d).replace(microsecond=0) for d in all_data['timestamp']]\n",
    "    all_data.drop(['timestamp'],axis = 1,inplace = True)\n",
    "    return all_data\n"
   ]
  },
  {
   "cell_type": "code",
   "execution_count": 9,
   "id": "b7576566",
   "metadata": {},
   "outputs": [
    {
     "name": "stdout",
     "output_type": "stream",
     "text": [
      "seance1_df shape :  (451, 7)\n"
     ]
    },
    {
     "data": {
      "text/html": [
       "<div>\n",
       "<style scoped>\n",
       "    .dataframe tbody tr th:only-of-type {\n",
       "        vertical-align: middle;\n",
       "    }\n",
       "\n",
       "    .dataframe tbody tr th {\n",
       "        vertical-align: top;\n",
       "    }\n",
       "\n",
       "    .dataframe thead th {\n",
       "        text-align: right;\n",
       "    }\n",
       "</style>\n",
       "<table border=\"1\" class=\"dataframe\">\n",
       "  <thead>\n",
       "    <tr style=\"text-align: right;\">\n",
       "      <th></th>\n",
       "      <th>user</th>\n",
       "      <th>role</th>\n",
       "      <th>message</th>\n",
       "      <th>groupID</th>\n",
       "      <th>fileID</th>\n",
       "      <th>date</th>\n",
       "      <th>time</th>\n",
       "    </tr>\n",
       "    <tr>\n",
       "      <th>messageID</th>\n",
       "      <th></th>\n",
       "      <th></th>\n",
       "      <th></th>\n",
       "      <th></th>\n",
       "      <th></th>\n",
       "      <th></th>\n",
       "      <th></th>\n",
       "    </tr>\n",
       "  </thead>\n",
       "  <tbody>\n",
       "    <tr>\n",
       "      <th>0</th>\n",
       "      <td>186202.0</td>\n",
       "      <td>Navigator</td>\n",
       "      <td>Tu es qui ,</td>\n",
       "      <td>0</td>\n",
       "      <td>023a3090-7b0a-48c4-93f0-c200d9afce41</td>\n",
       "      <td>2024-10-09</td>\n",
       "      <td>04:38:10</td>\n",
       "    </tr>\n",
       "    <tr>\n",
       "      <th>1</th>\n",
       "      <td>186202.0</td>\n",
       "      <td>Navigator</td>\n",
       "      <td>On se met 5 partout ok ?</td>\n",
       "      <td>0</td>\n",
       "      <td>023a3090-7b0a-48c4-93f0-c200d9afce41</td>\n",
       "      <td>2024-10-09</td>\n",
       "      <td>04:38:23</td>\n",
       "    </tr>\n",
       "    <tr>\n",
       "      <th>2</th>\n",
       "      <td>183897.0</td>\n",
       "      <td>Driver</td>\n",
       "      <td>Opé</td>\n",
       "      <td>1</td>\n",
       "      <td>0435458c-dc49-4094-b970-1db125fc235c</td>\n",
       "      <td>2024-10-09</td>\n",
       "      <td>04:21:22</td>\n",
       "    </tr>\n",
       "    <tr>\n",
       "      <th>3</th>\n",
       "      <td>183897.0</td>\n",
       "      <td>Driver</td>\n",
       "      <td>Opé lmkt</td>\n",
       "      <td>1</td>\n",
       "      <td>0435458c-dc49-4094-b970-1db125fc235c</td>\n",
       "      <td>2024-10-09</td>\n",
       "      <td>04:21:39</td>\n",
       "    </tr>\n",
       "    <tr>\n",
       "      <th>4</th>\n",
       "      <td>193392.0</td>\n",
       "      <td>Navigator</td>\n",
       "      <td>A PAR SA LE COUZ</td>\n",
       "      <td>1</td>\n",
       "      <td>0435458c-dc49-4094-b970-1db125fc235c</td>\n",
       "      <td>2024-10-09</td>\n",
       "      <td>04:21:46</td>\n",
       "    </tr>\n",
       "  </tbody>\n",
       "</table>\n",
       "</div>"
      ],
      "text/plain": [
       "               user       role                   message  groupID  \\\n",
       "messageID                                                           \n",
       "0          186202.0  Navigator               Tu es qui ,        0   \n",
       "1          186202.0  Navigator  On se met 5 partout ok ?        0   \n",
       "2          183897.0     Driver                       Opé        1   \n",
       "3          183897.0     Driver                  Opé lmkt        1   \n",
       "4          193392.0  Navigator         A PAR SA LE COUZ         1   \n",
       "\n",
       "                                         fileID        date      time  \n",
       "messageID                                                              \n",
       "0          023a3090-7b0a-48c4-93f0-c200d9afce41  2024-10-09  04:38:10  \n",
       "1          023a3090-7b0a-48c4-93f0-c200d9afce41  2024-10-09  04:38:23  \n",
       "2          0435458c-dc49-4094-b970-1db125fc235c  2024-10-09  04:21:22  \n",
       "3          0435458c-dc49-4094-b970-1db125fc235c  2024-10-09  04:21:39  \n",
       "4          0435458c-dc49-4094-b970-1db125fc235c  2024-10-09  04:21:46  "
      ]
     },
     "execution_count": 9,
     "metadata": {},
     "output_type": "execute_result"
    }
   ],
   "source": [
    "seance1_df = parse_json_files_in_folder('Data\\messages_chat_seance1')\n",
    "print(\"seance1_df shape : \",seance1_df.shape)\n",
    "seance1_df.head()"
   ]
  },
  {
   "cell_type": "code",
   "execution_count": 10,
   "id": "6e541a06",
   "metadata": {},
   "outputs": [
    {
     "name": "stdout",
     "output_type": "stream",
     "text": [
      "seance2_df shape :  (1315, 7)\n"
     ]
    },
    {
     "data": {
      "text/html": [
       "<div>\n",
       "<style scoped>\n",
       "    .dataframe tbody tr th:only-of-type {\n",
       "        vertical-align: middle;\n",
       "    }\n",
       "\n",
       "    .dataframe tbody tr th {\n",
       "        vertical-align: top;\n",
       "    }\n",
       "\n",
       "    .dataframe thead th {\n",
       "        text-align: right;\n",
       "    }\n",
       "</style>\n",
       "<table border=\"1\" class=\"dataframe\">\n",
       "  <thead>\n",
       "    <tr style=\"text-align: right;\">\n",
       "      <th></th>\n",
       "      <th>groupID</th>\n",
       "      <th>fileID</th>\n",
       "      <th>user</th>\n",
       "      <th>role</th>\n",
       "      <th>message</th>\n",
       "      <th>date</th>\n",
       "      <th>time</th>\n",
       "    </tr>\n",
       "    <tr>\n",
       "      <th>messageID</th>\n",
       "      <th></th>\n",
       "      <th></th>\n",
       "      <th></th>\n",
       "      <th></th>\n",
       "      <th></th>\n",
       "      <th></th>\n",
       "      <th></th>\n",
       "    </tr>\n",
       "  </thead>\n",
       "  <tbody>\n",
       "    <tr>\n",
       "      <th>0</th>\n",
       "      <td>1</td>\n",
       "      <td>00c09563-99f4-42da-9346-d73355a9b8d9</td>\n",
       "      <td>183337.0</td>\n",
       "      <td>Driver</td>\n",
       "      <td>bonjour</td>\n",
       "      <td>2024-11-12</td>\n",
       "      <td>04:30:24</td>\n",
       "    </tr>\n",
       "    <tr>\n",
       "      <th>1</th>\n",
       "      <td>1</td>\n",
       "      <td>00c09563-99f4-42da-9346-d73355a9b8d9</td>\n",
       "      <td>145133.0</td>\n",
       "      <td>Navigator</td>\n",
       "      <td>bonjour</td>\n",
       "      <td>2024-11-12</td>\n",
       "      <td>04:30:44</td>\n",
       "    </tr>\n",
       "    <tr>\n",
       "      <th>2</th>\n",
       "      <td>1</td>\n",
       "      <td>00c09563-99f4-42da-9346-d73355a9b8d9</td>\n",
       "      <td>145133.0</td>\n",
       "      <td>Navigator</td>\n",
       "      <td>tu es bloqué?</td>\n",
       "      <td>2024-11-12</td>\n",
       "      <td>04:36:03</td>\n",
       "    </tr>\n",
       "    <tr>\n",
       "      <th>3</th>\n",
       "      <td>1</td>\n",
       "      <td>00c09563-99f4-42da-9346-d73355a9b8d9</td>\n",
       "      <td>145133.0</td>\n",
       "      <td>Driver</td>\n",
       "      <td>hésite pas si t'as une idée</td>\n",
       "      <td>2024-11-12</td>\n",
       "      <td>04:39:50</td>\n",
       "    </tr>\n",
       "    <tr>\n",
       "      <th>4</th>\n",
       "      <td>1</td>\n",
       "      <td>00c09563-99f4-42da-9346-d73355a9b8d9</td>\n",
       "      <td>183337.0</td>\n",
       "      <td>Navigator</td>\n",
       "      <td>ok</td>\n",
       "      <td>2024-11-12</td>\n",
       "      <td>04:40:06</td>\n",
       "    </tr>\n",
       "  </tbody>\n",
       "</table>\n",
       "</div>"
      ],
      "text/plain": [
       "           groupID                                fileID      user       role  \\\n",
       "messageID                                                                       \n",
       "0                1  00c09563-99f4-42da-9346-d73355a9b8d9  183337.0     Driver   \n",
       "1                1  00c09563-99f4-42da-9346-d73355a9b8d9  145133.0  Navigator   \n",
       "2                1  00c09563-99f4-42da-9346-d73355a9b8d9  145133.0  Navigator   \n",
       "3                1  00c09563-99f4-42da-9346-d73355a9b8d9  145133.0     Driver   \n",
       "4                1  00c09563-99f4-42da-9346-d73355a9b8d9  183337.0  Navigator   \n",
       "\n",
       "                               message        date      time  \n",
       "messageID                                                     \n",
       "0                             bonjour   2024-11-12  04:30:24  \n",
       "1                              bonjour  2024-11-12  04:30:44  \n",
       "2                        tu es bloqué?  2024-11-12  04:36:03  \n",
       "3          hésite pas si t'as une idée  2024-11-12  04:39:50  \n",
       "4                                  ok   2024-11-12  04:40:06  "
      ]
     },
     "execution_count": 10,
     "metadata": {},
     "output_type": "execute_result"
    }
   ],
   "source": [
    "seance2_df = parse_json_files_in_folder('Data\\messages_chat_seance2')\n",
    "print(\"seance2_df shape : \",seance2_df.shape)\n",
    "seance2_df.head()"
   ]
  },
  {
   "cell_type": "code",
   "execution_count": 11,
   "id": "2caf4621",
   "metadata": {},
   "outputs": [
    {
     "data": {
      "text/html": [
       "<div>\n",
       "<style scoped>\n",
       "    .dataframe tbody tr th:only-of-type {\n",
       "        vertical-align: middle;\n",
       "    }\n",
       "\n",
       "    .dataframe tbody tr th {\n",
       "        vertical-align: top;\n",
       "    }\n",
       "\n",
       "    .dataframe thead th {\n",
       "        text-align: right;\n",
       "    }\n",
       "</style>\n",
       "<table border=\"1\" class=\"dataframe\">\n",
       "  <thead>\n",
       "    <tr style=\"text-align: right;\">\n",
       "      <th></th>\n",
       "      <th>user</th>\n",
       "      <th>role</th>\n",
       "      <th>message</th>\n",
       "      <th>groupID</th>\n",
       "      <th>fileID</th>\n",
       "      <th>date</th>\n",
       "      <th>time</th>\n",
       "    </tr>\n",
       "    <tr>\n",
       "      <th>messageID</th>\n",
       "      <th></th>\n",
       "      <th></th>\n",
       "      <th></th>\n",
       "      <th></th>\n",
       "      <th></th>\n",
       "      <th></th>\n",
       "      <th></th>\n",
       "    </tr>\n",
       "  </thead>\n",
       "  <tbody>\n",
       "    <tr>\n",
       "      <th>0</th>\n",
       "      <td>186202.0</td>\n",
       "      <td>Navigator</td>\n",
       "      <td>Tu es qui ,</td>\n",
       "      <td>0</td>\n",
       "      <td>023a3090-7b0a-48c4-93f0-c200d9afce41</td>\n",
       "      <td>2024-10-09</td>\n",
       "      <td>04:38:10</td>\n",
       "    </tr>\n",
       "    <tr>\n",
       "      <th>1</th>\n",
       "      <td>186202.0</td>\n",
       "      <td>Navigator</td>\n",
       "      <td>On se met 5 partout ok ?</td>\n",
       "      <td>0</td>\n",
       "      <td>023a3090-7b0a-48c4-93f0-c200d9afce41</td>\n",
       "      <td>2024-10-09</td>\n",
       "      <td>04:38:23</td>\n",
       "    </tr>\n",
       "    <tr>\n",
       "      <th>2</th>\n",
       "      <td>183897.0</td>\n",
       "      <td>Driver</td>\n",
       "      <td>Opé</td>\n",
       "      <td>1</td>\n",
       "      <td>0435458c-dc49-4094-b970-1db125fc235c</td>\n",
       "      <td>2024-10-09</td>\n",
       "      <td>04:21:22</td>\n",
       "    </tr>\n",
       "    <tr>\n",
       "      <th>3</th>\n",
       "      <td>183897.0</td>\n",
       "      <td>Driver</td>\n",
       "      <td>Opé lmkt</td>\n",
       "      <td>1</td>\n",
       "      <td>0435458c-dc49-4094-b970-1db125fc235c</td>\n",
       "      <td>2024-10-09</td>\n",
       "      <td>04:21:39</td>\n",
       "    </tr>\n",
       "    <tr>\n",
       "      <th>4</th>\n",
       "      <td>193392.0</td>\n",
       "      <td>Navigator</td>\n",
       "      <td>A PAR SA LE COUZ</td>\n",
       "      <td>1</td>\n",
       "      <td>0435458c-dc49-4094-b970-1db125fc235c</td>\n",
       "      <td>2024-10-09</td>\n",
       "      <td>04:21:46</td>\n",
       "    </tr>\n",
       "  </tbody>\n",
       "</table>\n",
       "</div>"
      ],
      "text/plain": [
       "               user       role                   message  groupID  \\\n",
       "messageID                                                           \n",
       "0          186202.0  Navigator               Tu es qui ,        0   \n",
       "1          186202.0  Navigator  On se met 5 partout ok ?        0   \n",
       "2          183897.0     Driver                       Opé        1   \n",
       "3          183897.0     Driver                  Opé lmkt        1   \n",
       "4          193392.0  Navigator         A PAR SA LE COUZ         1   \n",
       "\n",
       "                                         fileID        date      time  \n",
       "messageID                                                              \n",
       "0          023a3090-7b0a-48c4-93f0-c200d9afce41  2024-10-09  04:38:10  \n",
       "1          023a3090-7b0a-48c4-93f0-c200d9afce41  2024-10-09  04:38:23  \n",
       "2          0435458c-dc49-4094-b970-1db125fc235c  2024-10-09  04:21:22  \n",
       "3          0435458c-dc49-4094-b970-1db125fc235c  2024-10-09  04:21:39  \n",
       "4          0435458c-dc49-4094-b970-1db125fc235c  2024-10-09  04:21:46  "
      ]
     },
     "execution_count": 11,
     "metadata": {},
     "output_type": "execute_result"
    }
   ],
   "source": [
    "all_messages_df = pd.concat([seance1_df,seance2_df],axis = 0,ignore_index = True)\n",
    "all_messages_df.index.names=['messageID']\n",
    "#print(all_messages_df.head(5),all_messages_df.tail(5))\n",
    "all_messages_df.head()"
   ]
  },
  {
   "cell_type": "code",
   "execution_count": 12,
   "id": "530c6735",
   "metadata": {},
   "outputs": [
    {
     "name": "stdout",
     "output_type": "stream",
     "text": [
      "451\n",
      "1315\n",
      "1766\n"
     ]
    }
   ],
   "source": [
    "#Messages sous forme de tableau\n",
    "seance1_msg = seance1_df['message'].values #Récupère les valeurs de la colonne message et en fait une liste\n",
    "print(len(seance1_msg))\n",
    "#print(seance1_msg)\n",
    "seance2_msg = seance2_df['message'].values #Récupère les valeurs de la colonne message et en fait une liste\n",
    "print(len(seance2_msg))\n",
    "#print(seance2_msg)\n",
    "all_msg= all_messages_df['message'].values\n",
    "print(len(all_msg))"
   ]
  },
  {
   "cell_type": "markdown",
   "id": "e1b47125",
   "metadata": {},
   "source": [
    "## LSA"
   ]
  },
  {
   "cell_type": "code",
   "execution_count": 13,
   "id": "c38f5cdd",
   "metadata": {},
   "outputs": [
    {
     "name": "stdout",
     "output_type": "stream",
     "text": [
      "['étées', 'ma', 'soyez', 'fûmes', 'ta', 'fusse', 't', 'qu', 'avaient', 'fussions', 'auront', 'aies', 'ou', 'étés', 'êtes', 'fût', 'ayante', 'serai', 'votre', 'eussent', 'du', 'fussent', 'eu', 'avions', 'moi', 'te', 'ai', 'vos', 'au', 'aviez', 'ne', 'son', 'seras', 'fut', 'serions', 'ses', 'que', 'eue', 'furent', 'des', 'n', 'eusses', 'eûmes', 'était', 'lui', 'ce', 'vous', 'toi', 'fus', 'seront', 'étaient', 'une', 'avais', 'avons', 'fusses', 'elle', 'eus', 'été', 'pas', 'étais', 'en', 'serais', 'tu', 'serons', 'eût', 'eusse', 'étante', 'auriez', 'le', 'fûtes', 'ces', 'aurais', 'ils', 'étiez', 'fussiez', 'eurent', 'sera', 'm', 'et', 'la', 'as', 'sont', 'nous', 'mes', 'avez', 'nos', 'eussiez', 'par', 'avait', 's', 'ait', 'ayons', 'les', 'mais', 'y', 'eussions', 'dans', 'j', 'suis', 'soyons', 'd', 'même', 'est', 'aurons', 'il', 'es', 'eûtes', 'à', 'auras', 'mon', 'aux', 'étée', 'aient', 'leur', 'ayantes', 'tes', 'serez', 'aurez', 'auraient', 'me', 'je', 'aie', 'aura', 'étions', 'un', 'eues', 'eut', 'serait', 'sommes', 'ont', 'on', 'seriez', 'étantes', 'ayez', 'avec', 'qui', 'l', 'ayants', 'aurai', 'étant', 'sur', 'ton', 'de', 'c', 'soient', 'aurions', 'aurait', 'eux', 'étants', 'ayant', 'pour', 'seraient', 'soit', 'sois', 'sa', 'notre', 'se']\n"
     ]
    }
   ],
   "source": [
    "tokenizer = RegexpTokenizer(r'\\b\\w{3,}\\b') #garde les mots d'au moins trois lettres, avec dans les mots soit des lettres, soit des chiffres (pas de caractères spéciaux)\n",
    "stop_words = list(set(stopwords.words(\"french\"))) #On enlève les mots communs sans interêt en français ; on garde ceux en anglais car indique probablement du code\n",
    "print(stop_words)\n",
    "stop_words += list(string.punctuation)"
   ]
  },
  {
   "cell_type": "code",
   "execution_count": 14,
   "id": "0197f7ca",
   "metadata": {},
   "outputs": [
    {
     "name": "stdout",
     "output_type": "stream",
     "text": [
      "Shape : (1766, 20)\n"
     ]
    },
    {
     "name": "stderr",
     "output_type": "stream",
     "text": [
      "c:\\Users\\cbd65\\anaconda3\\envs\\jupyterenv\\lib\\site-packages\\sklearn\\feature_extraction\\text.py:517: UserWarning: The parameter 'token_pattern' will not be used since 'tokenizer' is not None'\n",
      "  warnings.warn(\n"
     ]
    },
    {
     "data": {
      "text/html": [
       "<div>\n",
       "<style scoped>\n",
       "    .dataframe tbody tr th:only-of-type {\n",
       "        vertical-align: middle;\n",
       "    }\n",
       "\n",
       "    .dataframe tbody tr th {\n",
       "        vertical-align: top;\n",
       "    }\n",
       "\n",
       "    .dataframe thead th {\n",
       "        text-align: right;\n",
       "    }\n",
       "</style>\n",
       "<table border=\"1\" class=\"dataframe\">\n",
       "  <thead>\n",
       "    <tr style=\"text-align: right;\">\n",
       "      <th></th>\n",
       "      <th>accord</th>\n",
       "      <th>alors</th>\n",
       "      <th>bon</th>\n",
       "      <th>code</th>\n",
       "      <th>comment</th>\n",
       "      <th>faire</th>\n",
       "      <th>fait</th>\n",
       "      <th>faut</th>\n",
       "      <th>main</th>\n",
       "      <th>marche</th>\n",
       "      <th>non</th>\n",
       "      <th>ouais</th>\n",
       "      <th>oui</th>\n",
       "      <th>peut</th>\n",
       "      <th>peux</th>\n",
       "      <th>quoi</th>\n",
       "      <th>sais</th>\n",
       "      <th>salut</th>\n",
       "      <th>veux</th>\n",
       "      <th>vois</th>\n",
       "    </tr>\n",
       "  </thead>\n",
       "  <tbody>\n",
       "    <tr>\n",
       "      <th>0</th>\n",
       "      <td>0.0</td>\n",
       "      <td>0.0</td>\n",
       "      <td>0.0</td>\n",
       "      <td>0.0</td>\n",
       "      <td>0.0</td>\n",
       "      <td>0.0</td>\n",
       "      <td>0.0</td>\n",
       "      <td>0.0</td>\n",
       "      <td>0.0</td>\n",
       "      <td>0.0</td>\n",
       "      <td>0.0</td>\n",
       "      <td>0.0</td>\n",
       "      <td>0.0</td>\n",
       "      <td>0.0</td>\n",
       "      <td>0.0</td>\n",
       "      <td>0.0</td>\n",
       "      <td>0.0</td>\n",
       "      <td>0.0</td>\n",
       "      <td>0.0</td>\n",
       "      <td>0.0</td>\n",
       "    </tr>\n",
       "    <tr>\n",
       "      <th>1</th>\n",
       "      <td>0.0</td>\n",
       "      <td>0.0</td>\n",
       "      <td>0.0</td>\n",
       "      <td>0.0</td>\n",
       "      <td>0.0</td>\n",
       "      <td>0.0</td>\n",
       "      <td>0.0</td>\n",
       "      <td>0.0</td>\n",
       "      <td>0.0</td>\n",
       "      <td>0.0</td>\n",
       "      <td>0.0</td>\n",
       "      <td>0.0</td>\n",
       "      <td>0.0</td>\n",
       "      <td>0.0</td>\n",
       "      <td>0.0</td>\n",
       "      <td>0.0</td>\n",
       "      <td>0.0</td>\n",
       "      <td>0.0</td>\n",
       "      <td>0.0</td>\n",
       "      <td>0.0</td>\n",
       "    </tr>\n",
       "  </tbody>\n",
       "</table>\n",
       "</div>"
      ],
      "text/plain": [
       "   accord  alors  bon  code  comment  faire  fait  faut  main  marche  non  \\\n",
       "0     0.0    0.0  0.0   0.0      0.0    0.0   0.0   0.0   0.0     0.0  0.0   \n",
       "1     0.0    0.0  0.0   0.0      0.0    0.0   0.0   0.0   0.0     0.0  0.0   \n",
       "\n",
       "   ouais  oui  peut  peux  quoi  sais  salut  veux  vois  \n",
       "0    0.0  0.0   0.0   0.0   0.0   0.0    0.0   0.0   0.0  \n",
       "1    0.0  0.0   0.0   0.0   0.0   0.0    0.0   0.0   0.0  "
      ]
     },
     "execution_count": 14,
     "metadata": {},
     "output_type": "execute_result"
    }
   ],
   "source": [
    "#tf-idf = Term Frequency Inverse Document Frequency of records\n",
    "#tf = term frequency\n",
    "#idf = inverse codument frequency (les mots les plus communs dans les documents semblent moins significatifs)\n",
    "tfidf = TfidfVectorizer(lowercase=True, #Convertir tous les caractères en lowercase avant de tokenize\n",
    "                        stop_words=stop_words,\n",
    "                        tokenizer=tokenizer.tokenize,\n",
    "                        max_df=0.7, #ignore les items ayant une fréquence supérieure à x\n",
    "                        min_df=0.015 #ignore les items ayant une fréquence inférieure à x\n",
    "                        )\n",
    "\n",
    "tfidf_train_sparse = tfidf.fit_transform(all_msg) # equivalent à fit puis transform : fit entraine le modèle, transform applique le modele sur le dataset\n",
    "#Crée un DF avec les résultats\n",
    "tfidf_train_df = pd.DataFrame(tfidf_train_sparse.toarray(), #transforme une matrice en tableau 2D\n",
    "                        columns=tfidf.get_feature_names_out()) #get output feature names for transfomation = les mots // les noms des colonnes ?\n",
    "\n",
    "print('Shape :',tfidf_train_df.shape)\n",
    "tfidf_train_df.head(2)"
   ]
  },
  {
   "cell_type": "code",
   "execution_count": 15,
   "id": "41c76f09",
   "metadata": {},
   "outputs": [
    {
     "name": "stdout",
     "output_type": "stream",
     "text": [
      "V_T shape :  (20, 20)\n"
     ]
    }
   ],
   "source": [
    "#Transforme la matrice du dessus en une autre plus réduite en utilisant la décomposition en valeurs singulières A = U * Sigma * V_T.\n",
    "\n",
    "#n_components = dimension de l'output (100 recommendé pour LSA, doit être <= au nombre de features)\n",
    "lsa_obj = TruncatedSVD(n_components=20, n_iter=100, random_state=42)\n",
    "tfidf_lsa_data = lsa_obj.fit_transform(tfidf_train_df)\n",
    "Sigma = lsa_obj.singular_values_ # Matrice centrale, valeurs correcspondant à chaque composant sélectionné\n",
    "V_T = lsa_obj.components_.T # components_ = vecteurs singuliers de droite de l'input data\n",
    "print(\"V_T shape : \",V_T.shape)"
   ]
  },
  {
   "cell_type": "code",
   "execution_count": 16,
   "id": "e8b0024c",
   "metadata": {},
   "outputs": [
    {
     "data": {
      "image/png": "[encoded data removed]",
      "text/plain": [
       "<Figure size 640x480 with 1 Axes>"
      ]
     },
     "metadata": {},
     "output_type": "display_data"
    }
   ],
   "source": [
    "#Affichage de l'importance de chaque composante\n",
    "axis_object = sns.barplot(x=list(range(len(Sigma))), y = Sigma)\n",
    "plt.xlabel(\"Latent component\")\n",
    "plt.ylabel('Relative importance of each component')\n",
    "plt.title(\"Singluar values\")\n",
    "plt.show(axis_object)"
   ]
  },
  {
   "cell_type": "code",
   "execution_count": 17,
   "id": "36751238",
   "metadata": {},
   "outputs": [
    {
     "data": {
      "text/html": [
       "<div>\n",
       "<style scoped>\n",
       "    .dataframe tbody tr th:only-of-type {\n",
       "        vertical-align: middle;\n",
       "    }\n",
       "\n",
       "    .dataframe tbody tr th {\n",
       "        vertical-align: top;\n",
       "    }\n",
       "\n",
       "    .dataframe thead th {\n",
       "        text-align: right;\n",
       "    }\n",
       "</style>\n",
       "<table border=\"1\" class=\"dataframe\">\n",
       "  <thead>\n",
       "    <tr style=\"text-align: right;\">\n",
       "      <th></th>\n",
       "      <th>Latent_concept_0</th>\n",
       "      <th>Latent_concept_1</th>\n",
       "      <th>Latent_concept_2</th>\n",
       "      <th>Latent_concept_3</th>\n",
       "      <th>Latent_concept_4</th>\n",
       "      <th>Latent_concept_5</th>\n",
       "      <th>Latent_concept_6</th>\n",
       "      <th>Latent_concept_7</th>\n",
       "      <th>Latent_concept_8</th>\n",
       "      <th>Latent_concept_9</th>\n",
       "      <th>Latent_concept_10</th>\n",
       "      <th>Latent_concept_11</th>\n",
       "      <th>Latent_concept_12</th>\n",
       "      <th>Latent_concept_13</th>\n",
       "      <th>Latent_concept_14</th>\n",
       "      <th>Latent_concept_15</th>\n",
       "      <th>Latent_concept_16</th>\n",
       "      <th>Latent_concept_17</th>\n",
       "      <th>Latent_concept_18</th>\n",
       "      <th>Latent_concept_19</th>\n",
       "    </tr>\n",
       "  </thead>\n",
       "  <tbody>\n",
       "    <tr>\n",
       "      <th>accord</th>\n",
       "      <td>0.000928</td>\n",
       "      <td>0.016293</td>\n",
       "      <td>0.000171</td>\n",
       "      <td>-0.003118</td>\n",
       "      <td>0.001658</td>\n",
       "      <td>0.006144</td>\n",
       "      <td>-0.000157</td>\n",
       "      <td>0.000856</td>\n",
       "      <td>-0.036171</td>\n",
       "      <td>0.050127</td>\n",
       "      <td>0.160689</td>\n",
       "      <td>0.984804</td>\n",
       "      <td>0.010571</td>\n",
       "      <td>0.005504</td>\n",
       "      <td>-0.000655</td>\n",
       "      <td>0.003536</td>\n",
       "      <td>-0.003030</td>\n",
       "      <td>-0.005970</td>\n",
       "      <td>-0.000479</td>\n",
       "      <td>0.001616</td>\n",
       "    </tr>\n",
       "    <tr>\n",
       "      <th>alors</th>\n",
       "      <td>0.049660</td>\n",
       "      <td>0.017007</td>\n",
       "      <td>0.035078</td>\n",
       "      <td>0.024378</td>\n",
       "      <td>-0.017633</td>\n",
       "      <td>-0.011354</td>\n",
       "      <td>-0.029615</td>\n",
       "      <td>0.020229</td>\n",
       "      <td>-0.060315</td>\n",
       "      <td>-0.004037</td>\n",
       "      <td>-0.011294</td>\n",
       "      <td>-0.004270</td>\n",
       "      <td>0.070625</td>\n",
       "      <td>0.059487</td>\n",
       "      <td>0.791988</td>\n",
       "      <td>-0.015817</td>\n",
       "      <td>0.008033</td>\n",
       "      <td>-0.553939</td>\n",
       "      <td>-0.216302</td>\n",
       "      <td>-0.013155</td>\n",
       "    </tr>\n",
       "    <tr>\n",
       "      <th>bon</th>\n",
       "      <td>0.985261</td>\n",
       "      <td>-0.064074</td>\n",
       "      <td>-0.122452</td>\n",
       "      <td>0.026434</td>\n",
       "      <td>-0.012944</td>\n",
       "      <td>-0.064455</td>\n",
       "      <td>-0.005331</td>\n",
       "      <td>-0.032283</td>\n",
       "      <td>0.010439</td>\n",
       "      <td>-0.007084</td>\n",
       "      <td>0.009906</td>\n",
       "      <td>0.000213</td>\n",
       "      <td>-0.032917</td>\n",
       "      <td>0.002660</td>\n",
       "      <td>-0.048351</td>\n",
       "      <td>-0.010608</td>\n",
       "      <td>0.006613</td>\n",
       "      <td>0.008716</td>\n",
       "      <td>-0.005879</td>\n",
       "      <td>0.010858</td>\n",
       "    </tr>\n",
       "  </tbody>\n",
       "</table>\n",
       "</div>"
      ],
      "text/plain": [
       "        Latent_concept_0  Latent_concept_1  Latent_concept_2  \\\n",
       "accord          0.000928          0.016293          0.000171   \n",
       "alors           0.049660          0.017007          0.035078   \n",
       "bon             0.985261         -0.064074         -0.122452   \n",
       "\n",
       "        Latent_concept_3  Latent_concept_4  Latent_concept_5  \\\n",
       "accord         -0.003118          0.001658          0.006144   \n",
       "alors           0.024378         -0.017633         -0.011354   \n",
       "bon             0.026434         -0.012944         -0.064455   \n",
       "\n",
       "        Latent_concept_6  Latent_concept_7  Latent_concept_8  \\\n",
       "accord         -0.000157          0.000856         -0.036171   \n",
       "alors          -0.029615          0.020229         -0.060315   \n",
       "bon            -0.005331         -0.032283          0.010439   \n",
       "\n",
       "        Latent_concept_9  Latent_concept_10  Latent_concept_11  \\\n",
       "accord          0.050127           0.160689           0.984804   \n",
       "alors          -0.004037          -0.011294          -0.004270   \n",
       "bon            -0.007084           0.009906           0.000213   \n",
       "\n",
       "        Latent_concept_12  Latent_concept_13  Latent_concept_14  \\\n",
       "accord           0.010571           0.005504          -0.000655   \n",
       "alors            0.070625           0.059487           0.791988   \n",
       "bon             -0.032917           0.002660          -0.048351   \n",
       "\n",
       "        Latent_concept_15  Latent_concept_16  Latent_concept_17  \\\n",
       "accord           0.003536          -0.003030          -0.005970   \n",
       "alors           -0.015817           0.008033          -0.553939   \n",
       "bon             -0.010608           0.006613           0.008716   \n",
       "\n",
       "        Latent_concept_18  Latent_concept_19  \n",
       "accord          -0.000479           0.001616  \n",
       "alors           -0.216302          -0.013155  \n",
       "bon             -0.005879           0.010858  "
      ]
     },
     "execution_count": 17,
     "metadata": {},
     "output_type": "execute_result"
    }
   ],
   "source": [
    "#Transformation de V_T en DF pour une utilisation plus facile\n",
    "term_topic_matrix = pd.DataFrame(data=V_T,\n",
    "                                index = tfidf_train_df.columns,\n",
    "                                columns = [f'Latent_concept_{r}' for r in range(0,V_T.shape[1])])\n",
    "term_topic_matrix.head(3)"
   ]
  },
  {
   "cell_type": "code",
   "execution_count": 18,
   "id": "1d9d571a",
   "metadata": {},
   "outputs": [],
   "source": [
    "def visualize_top_bottom_terms_component(matrix,nbComponent):\n",
    "    name_col = 'Latent_concept_'+str(nbComponent)\n",
    "    data = matrix[name_col]\n",
    "    data = data.sort_values(ascending=False)\n",
    "    top_10 = data[:10]\n",
    "    data = data.sort_values(ascending=True)\n",
    "    bottom_10 = data[:10]\n",
    "    #fig,axes = plt.subplots(nrows=1, ncols=2,figsize=(5,5))\n",
    "\n",
    "    fig, (ax1,ax2) = plt.subplots(1,2)\n",
    "\n",
    "    y_pos = np.arange(len(top_10.index))\n",
    "\n",
    "    ax1.barh(y_pos, top_10.values, align='center')\n",
    "    ax1.set_yticks(y_pos, labels=top_10.index)\n",
    "    ax1.invert_yaxis()  # labels read top-to-bottom\n",
    "    ax1.set_title('Component '+str(nbComponent)+' : Top 10')\n",
    "\n",
    "    #fig, ax = plt.subplots(1,2,2)\n",
    "\n",
    "    y_pos = np.arange(len(bottom_10.index))\n",
    "\n",
    "    ax2.barh(y_pos, bottom_10.values, align='center')\n",
    "    ax2.set_yticks(y_pos, labels=bottom_10.index)\n",
    "    ax2.invert_yaxis()  # labels read top-to-bottom\n",
    "    ax2.set_title('Component '+str(nbComponent)+' : Bottom 10')\n",
    "\n",
    "    plt.tight_layout()\n",
    "    plt.show()\n"
   ]
  },
  {
   "cell_type": "code",
   "execution_count": 19,
   "id": "65c01c80",
   "metadata": {},
   "outputs": [
    {
     "data": {
      "image/png": "[encoded data removed]",
      "text/plain": [
       "<Figure size 640x480 with 2 Axes>"
      ]
     },
     "metadata": {},
     "output_type": "display_data"
    }
   ],
   "source": [
    "visualize_top_bottom_terms_component(term_topic_matrix,1)"
   ]
  },
  {
   "cell_type": "code",
   "execution_count": 20,
   "id": "c624fa3c",
   "metadata": {},
   "outputs": [
    {
     "data": {
      "image/png": "[encoded data removed]",
      "text/plain": [
       "<Figure size 640x480 with 2 Axes>"
      ]
     },
     "metadata": {},
     "output_type": "display_data"
    }
   ],
   "source": [
    "visualize_top_bottom_terms_component(term_topic_matrix,2)"
   ]
  },
  {
   "cell_type": "code",
   "execution_count": 21,
   "id": "49a5dece",
   "metadata": {},
   "outputs": [
    {
     "data": {
      "image/png": "[encoded data removed]",
      "text/plain": [
       "<Figure size 640x480 with 2 Axes>"
      ]
     },
     "metadata": {},
     "output_type": "display_data"
    }
   ],
   "source": [
    "visualize_top_bottom_terms_component(term_topic_matrix,5)"
   ]
  },
  {
   "cell_type": "code",
   "execution_count": 22,
   "id": "45375112",
   "metadata": {},
   "outputs": [
    {
     "data": {
      "image/png": "[encoded data removed]",
      "text/plain": [
       "<Figure size 640x480 with 2 Axes>"
      ]
     },
     "metadata": {},
     "output_type": "display_data"
    }
   ],
   "source": [
    "visualize_top_bottom_terms_component(term_topic_matrix,10)"
   ]
  },
  {
   "cell_type": "code",
   "execution_count": null,
   "id": "d6a91ae6",
   "metadata": {},
   "outputs": [],
   "source": []
  },
  {
   "cell_type": "code",
   "execution_count": null,
   "id": "4adf9f08",
   "metadata": {},
   "outputs": [],
   "source": []
  },
  {
   "cell_type": "code",
   "execution_count": null,
   "id": "b25d31cc",
   "metadata": {},
   "outputs": [],
   "source": []
  },
  {
   "cell_type": "code",
   "execution_count": null,
   "id": "d9c265e1",
   "metadata": {},
   "outputs": [],
   "source": []
  }
 ],
 "metadata": {
  "kernelspec": {
   "display_name": "jupyterenv",
   "language": "python",
   "name": "python3"
  },
  "language_info": {
   "codemirror_mode": {
    "name": "ipython",
    "version": 3
   },
   "file_extension": ".py",
   "mimetype": "text/x-python",
   "name": "python",
   "nbconvert_exporter": "python",
   "pygments_lexer": "ipython3",
   "version": "3.9.21"
  }
 },
 "nbformat": 4,
 "nbformat_minor": 5
}
