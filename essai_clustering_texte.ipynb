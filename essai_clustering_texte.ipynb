{
  "cells": [
    {
      "cell_type": "markdown",
      "metadata": {},
      "source": [
        "### Imports"
      ]
    },
    {
      "cell_type": "code",
      "execution_count": 2,
      "metadata": {
        "id": "hAFDY1_yg3Aw"
      },
      "outputs": [],
      "source": [
        "import numpy as np\n",
        "import pandas as pd\n",
        "from sklearn.ensemble import RandomForestClassifier\n",
        "from sklearn.model_selection import train_test_split\n",
        "from nltk.corpus import stopwords\n",
        "from nltk.tokenize import RegexpTokenizer\n",
        "import re\n",
        "import nltk\n",
        "import string\n",
        "from sklearn.feature_extraction.text import TfidfVectorizer\n",
        "from sklearn.decomposition import TruncatedSVD"
      ]
    },
    {
      "cell_type": "code",
      "execution_count": null,
      "metadata": {},
      "outputs": [],
      "source": [
        "#A ne pas executer si déjà téléchargés\n",
        "#nltk.download('stopwords')\n",
        "#nltk.download('punkt')\n",
        "#nltk.download('wordnet')"
      ]
    },
    {
      "cell_type": "markdown",
      "metadata": {
        "id": "AuPtbcKkLJcs"
      },
      "source": [
        "### Test avec fetch20newsgroup"
      ]
    },
    {
      "cell_type": "code",
      "execution_count": 3,
      "metadata": {
        "colab": {
          "base_uri": "https://localhost:8080/"
        },
        "collapsed": true,
        "id": "n3YGT1NQg6tf",
        "outputId": "0a6f9790-dded-40fb-a9ed-ee94666b38e8"
      },
      "outputs": [
        {
          "data": {
            "text/plain": [
              "\"from sklearn.datasets import fetch_20newsgroups\\nX_train, y_train = fetch_20newsgroups(subset='train', return_X_y=True)\\nX_test, y_test = fetch_20newsgroups(subset='test', return_X_y=True)\\nX_train\""
            ]
          },
          "execution_count": 3,
          "metadata": {},
          "output_type": "execute_result"
        }
      ],
      "source": [
        "'''from sklearn.datasets import fetch_20newsgroups\n",
        "X_train, y_train = fetch_20newsgroups(subset='train', return_X_y=True)\n",
        "X_test, y_test = fetch_20newsgroups(subset='test', return_X_y=True)\n",
        "X_train'''"
      ]
    },
    {
      "cell_type": "code",
      "execution_count": 4,
      "metadata": {
        "colab": {
          "base_uri": "https://localhost:8080/",
          "height": 0
        },
        "collapsed": true,
        "id": "iZZYrqjDhIJT",
        "outputId": "9b6b16d2-d32d-44eb-abff-d0198f4bf89f"
      },
      "outputs": [],
      "source": [
        "#X_train[0]"
      ]
    },
    {
      "cell_type": "markdown",
      "metadata": {
        "id": "mPGMquYcLQeR"
      },
      "source": [
        "### Test, traitement, récupération des traces"
      ]
    },
    {
      "cell_type": "code",
      "execution_count": 77,
      "metadata": {
        "colab": {
          "base_uri": "https://localhost:8080/",
          "height": 112
        },
        "id": "9Xpl5osthTdw",
        "outputId": "0a6700de-c682-42b1-f92b-26794cd7320f"
      },
      "outputs": [],
      "source": [
        "data_1 = pd.read_json('Data\\messages_chat_seance1\\exportChatMessage\\\\0dfd43cb-9957-4102-954a-899ca075e56d.json')\n",
        "data_2 = pd.read_json('Data\\messages_chat_seance1\\exportChatMessage\\\\1db9dee2-2702-457f-aa07-6b60589446ce.json')\n",
        "data_3 = pd.read_json('Data\\messages_chat_seance1\\exportChatMessage\\\\2ccf746f-62b9-4690-8bff-59c49fb2c310.json')"
      ]
    },
    {
      "cell_type": "code",
      "execution_count": 78,
      "metadata": {
        "colab": {
          "base_uri": "https://localhost:8080/",
          "height": 81
        },
        "id": "j5g13LAjjOX6",
        "outputId": "8a5d071b-6da0-4c0e-8f2d-47032acf28d3"
      },
      "outputs": [
        {
          "data": {
            "text/html": [
              "<div>\n",
              "<style scoped>\n",
              "    .dataframe tbody tr th:only-of-type {\n",
              "        vertical-align: middle;\n",
              "    }\n",
              "\n",
              "    .dataframe tbody tr th {\n",
              "        vertical-align: top;\n",
              "    }\n",
              "\n",
              "    .dataframe thead th {\n",
              "        text-align: right;\n",
              "    }\n",
              "</style>\n",
              "<table border=\"1\" class=\"dataframe\">\n",
              "  <thead>\n",
              "    <tr style=\"text-align: right;\">\n",
              "      <th></th>\n",
              "      <th>user</th>\n",
              "      <th>role</th>\n",
              "      <th>message</th>\n",
              "      <th>timestamp</th>\n",
              "    </tr>\n",
              "  </thead>\n",
              "  <tbody>\n",
              "    <tr>\n",
              "      <th>0</th>\n",
              "      <td>194872</td>\n",
              "      <td>Driver</td>\n",
              "      <td>roro</td>\n",
              "      <td>2024-10-09 04:24:09.074000+00:00</td>\n",
              "    </tr>\n",
              "    <tr>\n",
              "      <th>1</th>\n",
              "      <td>194872</td>\n",
              "      <td>Driver</td>\n",
              "      <td>Qui est là</td>\n",
              "      <td>2024-10-09 04:27:03.939000+00:00</td>\n",
              "    </tr>\n",
              "    <tr>\n",
              "      <th>2</th>\n",
              "      <td>145797</td>\n",
              "      <td>Driver</td>\n",
              "      <td>Bonjour</td>\n",
              "      <td>2024-10-09 04:22:52.924000+00:00</td>\n",
              "    </tr>\n",
              "    <tr>\n",
              "      <th>3</th>\n",
              "      <td>200807</td>\n",
              "      <td>Navigator</td>\n",
              "      <td>Bonjour</td>\n",
              "      <td>2024-10-09 04:24:14.448000+00:00</td>\n",
              "    </tr>\n",
              "    <tr>\n",
              "      <th>4</th>\n",
              "      <td>145797</td>\n",
              "      <td>Driver</td>\n",
              "      <td>tu pense si je fais un for in in range avec un...</td>\n",
              "      <td>2024-10-09 04:25:31.692000+00:00</td>\n",
              "    </tr>\n",
              "  </tbody>\n",
              "</table>\n",
              "</div>"
            ],
            "text/plain": [
              "     user       role                                            message  \\\n",
              "0  194872     Driver                                               roro   \n",
              "1  194872     Driver                                         Qui est là   \n",
              "2  145797     Driver                                            Bonjour   \n",
              "3  200807  Navigator                                            Bonjour   \n",
              "4  145797     Driver  tu pense si je fais un for in in range avec un...   \n",
              "\n",
              "                         timestamp  \n",
              "0 2024-10-09 04:24:09.074000+00:00  \n",
              "1 2024-10-09 04:27:03.939000+00:00  \n",
              "2 2024-10-09 04:22:52.924000+00:00  \n",
              "3 2024-10-09 04:24:14.448000+00:00  \n",
              "4 2024-10-09 04:25:31.692000+00:00  "
            ]
          },
          "execution_count": 78,
          "metadata": {},
          "output_type": "execute_result"
        }
      ],
      "source": [
        "# Gros df avec les 3 données\n",
        "seance1_df = pd.concat([data_1,data_2,data_3],axis = 0)\n",
        "seance1_df.reset_index(drop=True, inplace=True) #Créer un id ? Plus tard, quand mesure d'impact -> nécessité de tracer\n",
        "seance1_df.head(5)"
      ]
    },
    {
      "cell_type": "code",
      "execution_count": 54,
      "metadata": {
        "colab": {
          "base_uri": "https://localhost:8080/"
        },
        "id": "sOSGca_DADbE",
        "outputId": "ab802235-2449-4584-d0ad-f47919e988b9"
      },
      "outputs": [
        {
          "name": "stdout",
          "output_type": "stream",
          "text": [
            "37\n",
            "['roro' 'Qui est là' 'Bonjour' 'Bonjour'\n",
            " 'tu pense si je fais un for in in range avec un for j in range dedans ça peut marcher? '\n",
            " 'oui ' 'tu veux editer?' 'comme tu veux'\n",
            " 'je teste si ça marche pas on echange' 'vsy '\n",
            " 'en vrai c\\'est pas mieux de faire un \"if len(a) != len(b)\"'\n",
            " 'tu veux teste?' \"demande l'édition\" 'vsy je teste le code'\n",
            " \"quand je teste le code il me disent y'a des erreurs de type\" 'pour int'\n",
            " 'je sais pas pk'\n",
            " 'demande a éditer je te passe la main tu teste ce que tu as dis'\n",
            " \"vsy je sauvegarde juste le ocde que t'a déja fait\" 'ok' 'je supprime'\n",
            " \"c bon t'as la main\" \"je crois c'est bon , je suis pas sur\"\n",
            " 'tu peux tester?'\n",
            " \"il y a des erreurs sur plusieurs lignes mais le dernier j'ai pas\"\n",
            " 'sur le return positions' \"on fini l'activité ducoup?\" 'salut' 'salut '\n",
            " 'tu sais coder ou pas dutout ? '\n",
            " \"pas forcément, j'ai juste la base des bases\" 'okay '\n",
            " 'et la ta compris un peu le contexte ? '\n",
            " \"je sais qu''il faut implémenter le tableau pour l'utiliser dans la fonction coincide\"\n",
            " 'masi tkt si tu sais pas faire je vais faire '\n",
            " 'maintenant je vois ce qui est demandé'\n",
            " 'ben je te laisse modifier si tu veux parce que je suis un peu perdu la ']\n"
          ]
        }
      ],
      "source": [
        "seance1_msg = seance1_df['message'].values #Récupère les valeurs de la colonne message et en fait une liste\n",
        "print(len(seance1_msg))\n",
        "print(seance1_msg)"
      ]
    },
    {
      "cell_type": "markdown",
      "metadata": {},
      "source": [
        "### Début du traitement"
      ]
    },
    {
      "cell_type": "code",
      "execution_count": 59,
      "metadata": {
        "id": "L7Z_ST7_zSt_"
      },
      "outputs": [
        {
          "name": "stdout",
          "output_type": "stream",
          "text": [
            "['ayons', 'soient', 'ayant', 'fus', 'suis', 'ai', 'avait', 'avec', 'ils', 'serez', 'que', 'seraient', 'auront', 'été', 'auraient', 'avaient', 'la', 'seront', 'vos', 'avais', 'sa', 'toi', 'dans', 'aies', 'aux', 'aurais', 'vous', 'notre', 'serons', 'étants', 'aurions', 'des', 'aura', 'étante', 'sur', 'c', 'furent', 'eue', 'qui', 'eût', 'étés', 'sommes', 'étiez', 'fut', 'as', 'fusses', 'eu', 'le', 'eues', 'ma', 'et', 'un', 'eus', 'tes', 'fussent', 'sois', 'étant', 'aviez', 'aurait', 'étaient', 'eusses', 'fûmes', 'aurez', 'j', 'serions', 'soyez', 'les', 'étais', 'eut', 'même', 'ne', 'de', 'elle', 'leur', 'à', 'fussions', 'ait', 'soit', 'ayantes', 'mon', 'ce', 'ayants', 'eûmes', 'es', 'eussent', 'par', 'étantes', 'sont', 'fusse', 'étée', 'on', 'eux', 'avions', 'étées', 'd', 'nous', 'du', 'je', 'avez', 'tu', 'eurent', 'fûtes', 'soyons', 's', 't', 'seriez', 'au', 'm', 'eussiez', 'aie', 'pour', 'aient', 'fussiez', 'n', 'fût', 'mes', 'pas', 'moi', 'auriez', 'serai', 'son', 'mais', 'se', 'seras', 'êtes', 'il', 'serais', 'votre', 'en', 'l', 'ses', 'une', 'sera', 'eûtes', 'était', 'aurai', 'ayante', 'aurons', 'ta', 'auras', 'me', 'étions', 'avons', 'ces', 'ayez', 'eusse', 'y', 'nos', 'serait', 'ton', 'ou', 'est', 'lui', 'qu', 'eussions', 'ont', 'te']\n"
          ]
        }
      ],
      "source": [
        "tokenizer = RegexpTokenizer(r'\\b\\w{3,}\\b') #garde les mots d'au moins trois lettres, avec dans les mots soit des lettres, soit des chiffres (pas de caractères spéciaux)\n",
        "stop_words = list(set(stopwords.words(\"french\"))) #On enlève les mots communs sans interêt en français ; on garde ceux en anglais car indique probablement du code\n",
        "print(stop_words)\n",
        "stop_words += list(string.punctuation)"
      ]
    },
    {
      "cell_type": "code",
      "execution_count": 76,
      "metadata": {
        "colab": {
          "base_uri": "https://localhost:8080/",
          "height": 147
        },
        "id": "AT-s8eNEzTtR",
        "outputId": "b8bf80ec-ab29-4df5-e80e-f4c0d2ba9694"
      },
      "outputs": [
        {
          "name": "stdout",
          "output_type": "stream",
          "text": [
            "Shape : (37, 79)\n"
          ]
        },
        {
          "name": "stderr",
          "output_type": "stream",
          "text": [
            "c:\\Users\\cbd65\\anaconda3\\envs\\jupyterenv\\lib\\site-packages\\sklearn\\feature_extraction\\text.py:517: UserWarning: The parameter 'token_pattern' will not be used since 'tokenizer' is not None'\n",
            "  warnings.warn(\n"
          ]
        },
        {
          "data": {
            "text/html": [
              "<div>\n",
              "<style scoped>\n",
              "    .dataframe tbody tr th:only-of-type {\n",
              "        vertical-align: middle;\n",
              "    }\n",
              "\n",
              "    .dataframe tbody tr th {\n",
              "        vertical-align: top;\n",
              "    }\n",
              "\n",
              "    .dataframe thead th {\n",
              "        text-align: right;\n",
              "    }\n",
              "</style>\n",
              "<table border=\"1\" class=\"dataframe\">\n",
              "  <thead>\n",
              "    <tr style=\"text-align: right;\">\n",
              "      <th></th>\n",
              "      <th>activité</th>\n",
              "      <th>base</th>\n",
              "      <th>bases</th>\n",
              "      <th>ben</th>\n",
              "      <th>bon</th>\n",
              "      <th>bonjour</th>\n",
              "      <th>code</th>\n",
              "      <th>coder</th>\n",
              "      <th>coincide</th>\n",
              "      <th>comme</th>\n",
              "      <th>...</th>\n",
              "      <th>tkt</th>\n",
              "      <th>type</th>\n",
              "      <th>utiliser</th>\n",
              "      <th>vais</th>\n",
              "      <th>veux</th>\n",
              "      <th>vois</th>\n",
              "      <th>vrai</th>\n",
              "      <th>vsy</th>\n",
              "      <th>éditer</th>\n",
              "      <th>édition</th>\n",
              "    </tr>\n",
              "  </thead>\n",
              "  <tbody>\n",
              "    <tr>\n",
              "      <th>0</th>\n",
              "      <td>0.0</td>\n",
              "      <td>0.0</td>\n",
              "      <td>0.0</td>\n",
              "      <td>0.0</td>\n",
              "      <td>0.0</td>\n",
              "      <td>0.0</td>\n",
              "      <td>0.0</td>\n",
              "      <td>0.0</td>\n",
              "      <td>0.0</td>\n",
              "      <td>0.0</td>\n",
              "      <td>...</td>\n",
              "      <td>0.0</td>\n",
              "      <td>0.0</td>\n",
              "      <td>0.0</td>\n",
              "      <td>0.0</td>\n",
              "      <td>0.0</td>\n",
              "      <td>0.0</td>\n",
              "      <td>0.0</td>\n",
              "      <td>0.0</td>\n",
              "      <td>0.0</td>\n",
              "      <td>0.0</td>\n",
              "    </tr>\n",
              "    <tr>\n",
              "      <th>1</th>\n",
              "      <td>0.0</td>\n",
              "      <td>0.0</td>\n",
              "      <td>0.0</td>\n",
              "      <td>0.0</td>\n",
              "      <td>0.0</td>\n",
              "      <td>0.0</td>\n",
              "      <td>0.0</td>\n",
              "      <td>0.0</td>\n",
              "      <td>0.0</td>\n",
              "      <td>0.0</td>\n",
              "      <td>...</td>\n",
              "      <td>0.0</td>\n",
              "      <td>0.0</td>\n",
              "      <td>0.0</td>\n",
              "      <td>0.0</td>\n",
              "      <td>0.0</td>\n",
              "      <td>0.0</td>\n",
              "      <td>0.0</td>\n",
              "      <td>0.0</td>\n",
              "      <td>0.0</td>\n",
              "      <td>0.0</td>\n",
              "    </tr>\n",
              "  </tbody>\n",
              "</table>\n",
              "<p>2 rows × 79 columns</p>\n",
              "</div>"
            ],
            "text/plain": [
              "   activité  base  bases  ben  bon  bonjour  code  coder  coincide  comme  \\\n",
              "0       0.0   0.0    0.0  0.0  0.0      0.0   0.0    0.0       0.0    0.0   \n",
              "1       0.0   0.0    0.0  0.0  0.0      0.0   0.0    0.0       0.0    0.0   \n",
              "\n",
              "   ...  tkt  type  utiliser  vais  veux  vois  vrai  vsy  éditer  édition  \n",
              "0  ...  0.0   0.0       0.0   0.0   0.0   0.0   0.0  0.0     0.0      0.0  \n",
              "1  ...  0.0   0.0       0.0   0.0   0.0   0.0   0.0  0.0     0.0      0.0  \n",
              "\n",
              "[2 rows x 79 columns]"
            ]
          },
          "execution_count": 76,
          "metadata": {},
          "output_type": "execute_result"
        }
      ],
      "source": [
        "tfidf = TfidfVectorizer(lowercase=True, #Convertir tous les caractères en lowercase avant de tokenize\n",
        "                        stop_words=stop_words,\n",
        "                        tokenizer=tokenizer.tokenize,\n",
        "                        max_df=0.7, #ignore les items ayant une fréquence supérieure à x\n",
        "                        min_df=0.015 #ignore les items ayant une fréquence inférieure à x\n",
        "                       )\n",
        "\n",
        "tfidf_train_sparse = tfidf.fit_transform(seance1_msg) # equivalent à fit puis transform : fit entraine le modèle, transform applique le modele sur le dataset\n",
        "#Crée un DF avec les résultats\n",
        "tfidf_train_df = pd.DataFrame(tfidf_train_sparse.toarray(), #transforme une matrice en tableau 2D\n",
        "                        columns=tfidf.get_feature_names_out()) #get output feature names for transfomation = les mots ?\n",
        "\n",
        "print('Shape :',tfidf_train_df.shape)\n",
        "tfidf_train_df.head(2)"
      ]
    },
    {
      "cell_type": "markdown",
      "metadata": {},
      "source": [
        "# Suite à commenter et comprendre"
      ]
    },
    {
      "cell_type": "code",
      "execution_count": 23,
      "metadata": {
        "id": "N-Dn1m6FyqxW"
      },
      "outputs": [],
      "source": [
        "lsa_obj = TruncatedSVD(n_components=20, n_iter=100, random_state=42) ################################# à commenter et comprendre \n",
        "tfidf_lsa_data = lsa_obj.fit_transform(tfidf_train_df)\n",
        "Sigma = lsa_obj.singular_values_\n",
        "V_T = lsa_obj.components_.T"
      ]
    },
    {
      "cell_type": "code",
      "execution_count": 24,
      "metadata": {
        "colab": {
          "base_uri": "https://localhost:8080/"
        },
        "collapsed": true,
        "id": "3qQdZ4Tv3Z52",
        "outputId": "d00530c9-c163-4c8e-af50-a2e7c942571c"
      },
      "outputs": [
        {
          "data": {
            "text/plain": [
              "array([[-1.07454769e-17,  1.72136021e-18, -2.31072263e-17, ...,\n",
              "        -1.45459234e-01, -1.52406627e-01,  3.43998268e-01],\n",
              "       [ 6.97086635e-03,  6.88400113e-17, -3.34081098e-16, ...,\n",
              "        -6.25455735e-17,  5.33648584e-16, -3.45293909e-16],\n",
              "       [ 6.97086635e-03, -4.20743164e-17, -2.86989661e-16, ...,\n",
              "        -2.23551295e-17,  5.76325636e-16, -3.81418389e-16],\n",
              "       ...,\n",
              "       [ 3.79101702e-01,  1.38339098e-16,  8.59480617e-17, ...,\n",
              "         2.30962731e-16, -5.66232241e-16,  5.47922335e-16],\n",
              "       [ 6.64015448e-02,  1.05271866e-17, -6.38687981e-17, ...,\n",
              "         6.27679341e-17,  1.81283746e-16,  2.85738674e-16],\n",
              "       [ 2.33869169e-02,  1.82583753e-16,  2.01177357e-18, ...,\n",
              "         2.85568185e-16, -1.42700942e-15,  4.60963122e-16]])"
            ]
          },
          "execution_count": 24,
          "metadata": {},
          "output_type": "execute_result"
        }
      ],
      "source": [
        "V_T"
      ]
    },
    {
      "cell_type": "code",
      "execution_count": 26,
      "metadata": {
        "id": "DA6-RpkV2RlC"
      },
      "outputs": [],
      "source": [
        "import seaborn as sns"
      ]
    },
    {
      "cell_type": "code",
      "execution_count": 27,
      "metadata": {
        "colab": {
          "base_uri": "https://localhost:8080/",
          "height": 447
        },
        "id": "FoxaNDG52Moo",
        "outputId": "adf3104c-10c0-434f-de44-b61a454d7500"
      },
      "outputs": [
        {
          "data": {
            "text/plain": [
              "<Axes: >"
            ]
          },
          "execution_count": 27,
          "metadata": {},
          "output_type": "execute_result"
        },
        {
          "data": {
            "image/png": "[encoded data removed]",
            "text/plain": [
              "<Figure size 640x480 with 1 Axes>"
            ]
          },
          "metadata": {},
          "output_type": "display_data"
        }
      ],
      "source": [
        "sns.barplot(x=list(range(len(Sigma))), y = Sigma)"
      ]
    },
    {
      "cell_type": "code",
      "execution_count": 28,
      "metadata": {
        "colab": {
          "base_uri": "https://localhost:8080/"
        },
        "id": "jPmaYtslDPSi",
        "outputId": "fb13cb0c-245e-4859-827b-122180f7d349"
      },
      "outputs": [
        {
          "data": {
            "text/plain": [
              "(79, 20)"
            ]
          },
          "execution_count": 28,
          "metadata": {},
          "output_type": "execute_result"
        }
      ],
      "source": [
        "V_T.shape"
      ]
    },
    {
      "cell_type": "code",
      "execution_count": 29,
      "metadata": {
        "id": "FIeJ2-Pc2On0"
      },
      "outputs": [],
      "source": [
        "term_topic_matrix = pd.DataFrame(data=V_T,\n",
        "                                 index = tfidf_train_df.columns,\n",
        "                                 columns = [f'Latent_concept_{r}' for r in range(0,V_T.shape[1])])"
      ]
    },
    {
      "cell_type": "code",
      "execution_count": 30,
      "metadata": {
        "id": "ZYqooRIg3Dea"
      },
      "outputs": [],
      "source": [
        "import matplotlib.pyplot as plt"
      ]
    },
    {
      "cell_type": "code",
      "execution_count": 31,
      "metadata": {
        "colab": {
          "base_uri": "https://localhost:8080/",
          "height": 452
        },
        "id": "1RsTw5YA2Vik",
        "outputId": "068504ac-7f46-48de-d66e-8f77e2ff2a1f"
      },
      "outputs": [
        {
          "data": {
            "image/png": "[encoded data removed]",
            "text/plain": [
              "<Figure size 640x480 with 1 Axes>"
            ]
          },
          "metadata": {},
          "output_type": "display_data"
        }
      ],
      "source": [
        "data = term_topic_matrix[f'Latent_concept_1']\n",
        "data = data.sort_values(ascending=False)\n",
        "top_10 = data[:10]\n",
        "plt.title('Top terms along the axis of Latent concept 1')\n",
        "fig = sns.barplot(x= top_10.values, y=top_10.index)"
      ]
    },
    {
      "cell_type": "code",
      "execution_count": 32,
      "metadata": {
        "colab": {
          "base_uri": "https://localhost:8080/",
          "height": 452
        },
        "id": "ttM9XfmMBbP_",
        "outputId": "73e92d93-6c32-49f7-91b1-dd0c7433267e"
      },
      "outputs": [
        {
          "data": {
            "image/png": "[encoded data removed]",
            "text/plain": [
              "<Figure size 640x480 with 1 Axes>"
            ]
          },
          "metadata": {},
          "output_type": "display_data"
        }
      ],
      "source": [
        "data = term_topic_matrix[f'Latent_concept_1']\n",
        "data = data.sort_values(ascending=True)\n",
        "top_10 = data[:10]\n",
        "plt.title('Bottom terms along the axis of Latent concept 1')\n",
        "fig = sns.barplot(x= top_10.values, y=top_10.index)"
      ]
    },
    {
      "cell_type": "code",
      "execution_count": 33,
      "metadata": {
        "colab": {
          "base_uri": "https://localhost:8080/",
          "height": 452
        },
        "id": "vBfuk_-A3CWJ",
        "outputId": "4448752f-a983-43e7-f2f3-5f3a2def07e4"
      },
      "outputs": [
        {
          "data": {
            "image/png": "[encoded data removed]",
            "text/plain": [
              "<Figure size 640x480 with 1 Axes>"
            ]
          },
          "metadata": {},
          "output_type": "display_data"
        }
      ],
      "source": [
        "data = term_topic_matrix[f'Latent_concept_2']\n",
        "data = data.sort_values(ascending=False)\n",
        "top_10 = data[:10]\n",
        "plt.title('Top terms along the axis of Latent concept 2')\n",
        "fig = sns.barplot(x= top_10.values, y=top_10.index)"
      ]
    },
    {
      "cell_type": "code",
      "execution_count": 34,
      "metadata": {
        "colab": {
          "base_uri": "https://localhost:8080/",
          "height": 452
        },
        "id": "kgMGMmbl4fZQ",
        "outputId": "25d4a49e-d6fd-424e-c702-945d731790bb"
      },
      "outputs": [
        {
          "data": {
            "image/png": "[encoded data removed]",
            "text/plain": [
              "<Figure size 640x480 with 1 Axes>"
            ]
          },
          "metadata": {},
          "output_type": "display_data"
        }
      ],
      "source": [
        "data = term_topic_matrix[f'Latent_concept_2']\n",
        "data = data.sort_values(ascending=True)\n",
        "top_10 = data[:10]\n",
        "plt.title('Bottom terms along the axis of Latent concept 2')\n",
        "fig = sns.barplot(x= top_10.values, y=top_10.index)"
      ]
    },
    {
      "cell_type": "code",
      "execution_count": 35,
      "metadata": {
        "colab": {
          "base_uri": "https://localhost:8080/",
          "height": 452
        },
        "id": "V8YgEp6r4HPB",
        "outputId": "1a5f8d69-81ea-4bcf-953a-8e392f506ce9"
      },
      "outputs": [
        {
          "data": {
            "image/png": "[encoded data removed]",
            "text/plain": [
              "<Figure size 640x480 with 1 Axes>"
            ]
          },
          "metadata": {},
          "output_type": "display_data"
        }
      ],
      "source": [
        "data = term_topic_matrix[f'Latent_concept_5']\n",
        "data = data.sort_values(ascending=False)\n",
        "top_10 = data[:10]\n",
        "plt.title('Top terms along the axis of Latent concept 5')\n",
        "fig = sns.barplot(x= top_10.values, y=top_10.index)"
      ]
    },
    {
      "cell_type": "code",
      "execution_count": 36,
      "metadata": {
        "colab": {
          "base_uri": "https://localhost:8080/",
          "height": 452
        },
        "id": "MHmYYXt0B8Db",
        "outputId": "9edb7f8f-602d-4c82-dcff-7db8d4a32d0f"
      },
      "outputs": [
        {
          "data": {
            "image/png": "[encoded data removed]",
            "text/plain": [
              "<Figure size 640x480 with 1 Axes>"
            ]
          },
          "metadata": {},
          "output_type": "display_data"
        }
      ],
      "source": [
        "data = term_topic_matrix[f'Latent_concept_5']\n",
        "data = data.sort_values(ascending=True)\n",
        "top_10 = data[:10]\n",
        "plt.title('Bottom terms along the axis of Latent concept 5')\n",
        "fig = sns.barplot(x= top_10.values, y=top_10.index)"
      ]
    },
    {
      "cell_type": "code",
      "execution_count": 45,
      "metadata": {
        "colab": {
          "base_uri": "https://localhost:8080/",
          "height": 424
        },
        "id": "8FbFwIC7B-OF",
        "outputId": "30a55e13-6a7d-4fe1-b63b-a848c6524184"
      },
      "outputs": [
        {
          "data": {
            "text/plain": [
              "(440, 4)"
            ]
          },
          "execution_count": 45,
          "metadata": {},
          "output_type": "execute_result"
        }
      ],
      "source": [
        "# test\n",
        "import os\n",
        "import json\n",
        "import pandas as pd\n",
        "\n",
        "def parse_json_files_in_folder(folder_path):\n",
        "    \"\"\"\n",
        "    Parses all JSON files in a folder and concatenates them into a pandas DataFrame.\n",
        "\n",
        "    Args:\n",
        "        folder_path (str): The path to the folder containing the JSON files.\n",
        "\n",
        "    Returns:\n",
        "        pandas.DataFrame: A DataFrame containing the concatenated data from all JSON files.\n",
        "    \"\"\"\n",
        "    all_data = []\n",
        "    for filename in os.listdir(folder_path):\n",
        "        if filename.endswith(\".json\"):\n",
        "            filepath = os.path.join(folder_path, filename)\n",
        "            with open(filepath, 'r') as f:\n",
        "                data = json.load(f)\n",
        "                all_data.extend(data)  # Assuming each JSON file contains a list of dictionaries\n",
        "\n",
        "    return pd.DataFrame(all_data)\n",
        "\n",
        "# Example usage\n",
        "all_files = parse_json_files_in_folder('Data\\messages_chat_seance1\\exportChatMessage')\n",
        "all_files.shape"
      ]
    },
    {
      "cell_type": "code",
      "execution_count": 48,
      "metadata": {
        "colab": {
          "base_uri": "https://localhost:8080/"
        },
        "id": "5jyMgSx-Iloy",
        "outputId": "294eb590-e900-4858-d694-a99bacf9fd93"
      },
      "outputs": [
        {
          "data": {
            "text/plain": [
              "array(['Tu es qui ,', 'On se met 5 partout ok ?', 'Opé', 'Opé lmkt',\n",
              "       'A PAR SA LE COUZ ', 'Opé ', 'Ou lé jolie ? ', 'A ou ',\n",
              "       'Commencé ', 'Comment nous fé la ', \"c'est kwé faut fait \",\n",
              "       'Lève ton main un coup la ', 'aide a moins un coup la ', 'roro',\n",
              "       'Qui est là', 'je ne sais pas comment voir le résultat ',\n",
              "       'faut mettre print(coincide)', 'essaye', 'attend',\n",
              "       \"je crois que c'est bon\", 'Bonjour', 'Bonjour',\n",
              "       'tu pense si je fais un for in in range avec un for j in range dedans ça peut marcher? ',\n",
              "       'oui ', 'tu veux editer?', 'comme tu veux',\n",
              "       'je teste si ça marche pas on echange', 'vsy ',\n",
              "       'en vrai c\\'est pas mieux de faire un \"if len(a) != len(b)\"',\n",
              "       'tu veux teste?', \"demande l'édition\", 'vsy je teste le code',\n",
              "       \"quand je teste le code il me disent y'a des erreurs de type\",\n",
              "       'pour int', 'je sais pas pk',\n",
              "       'demande a éditer je te passe la main tu teste ce que tu as dis',\n",
              "       \"vsy je sauvegarde juste le ocde que t'a déja fait\", 'ok',\n",
              "       'je supprime', \"c bon t'as la main\",\n",
              "       \"je crois c'est bon , je suis pas sur\", 'tu peux tester?',\n",
              "       \"il y a des erreurs sur plusieurs lignes mais le dernier j'ai pas\",\n",
              "       'sur le return positions', \"on fini l'activité ducoup?\",\n",
              "       'Il y a quelqun', 'oui', 'Yo!', 'OUI', ',????', 'Oui',\n",
              "       \"C'est bon pour toi\", \"C'est bon\",\n",
              "       'Est ce que faut vérifié si les listes sont de la même longueur ?',\n",
              "       'def coincide(tableau1, tableau2):     # On s\\'assure que les deux tableaux ont la même longueur     if len(tableau1) != len(tableau2):         return []      # On crée un tableau vide pour stocker les indices où les éléments sont identiques     result = []          # On parcourt les deux tableaux et on compare les éléments     for i in range(len(tableau1)):         if tableau1[i] == tableau2[i]:             result.append(i)      return result  # Exemples d\\'utilisation : print(coincide([78, 23, 12, 12, 54, 32], [67, 23, 44, 12, 54, 32]))  # [1, 3, 4, 5] print(coincide([\"antoine\", \"isaac\", \"denis\"], [\"jeanne\", \"sofiane\", \"lise\"]))  # []',\n",
              "       'okok  je vois', 'nickel!', 'je te donne la main', 'Merci!',\n",
              "       'je met en commentaire mon morceau', 'ok', 'complete le tableau',\n",
              "       \"wait, quand j'exécute ca fonctionne pas\",\n",
              "       \"je te donne la main, j'ai pas compris ce que tu m'as dit\",\n",
              "       \"att c'est noramal\", 'ca bug, je peut plus donner la main',\n",
              "       'hummm! regarde ca', 'bon je sais pas pourquoi', '', 'accepte',\n",
              "       'ok', 'ta pas besoin du return  []', 'bon on termine, tkt',\n",
              "       \"c'est ok \", 'on fini', 'salut', 'salut ',\n",
              "       'tu sais coder ou pas dutout ? ',\n",
              "       \"pas forcément, j'ai juste la base des bases\", 'okay ',\n",
              "       'et la ta compris un peu le contexte ? ',\n",
              "       \"je sais qu''il faut implémenter le tableau pour l'utiliser dans la fonction coincide\",\n",
              "       'masi tkt si tu sais pas faire je vais faire ',\n",
              "       'maintenant je vois ce qui est demandé',\n",
              "       'ben je te laisse modifier si tu veux parce que je suis un peu perdu la ',\n",
              "       'salut', 'yo ', 'yo ', 'Hello !!!', 'Test', 'Chef ta la notif ?',\n",
              "       'sisi', 'Ok Nice', 'Chef ??', '??', 'Ta eu une deco en dirait',\n",
              "       'comment ca', 'Je sais ça écris', 'Ça', 'C t',\n",
              "       'non meme pas hein ', 'hmm Ça doit être ça ', 'jai meme pas deco',\n",
              "       'C pas grave', 'tu fais quelque chose ?', 'La c fini non ?',\n",
              "       \"ya quelqu'un ?\", 'oui je suis la !', 'ça va ?',\n",
              "       'ouais tranquille',\n",
              "       \"sache que pour t'aider a codé ça va être compliqué\",\n",
              "       'comment sa :(', 'je comprend rien ', 'ah merde ',\n",
              "       'bah le code est bon ', \"si tu veux que je t'explique un truc\",\n",
              "       \"ah t'a fini ?\", 'wesh tu va grave vite', 'oui :)', 'bah gg :)',\n",
              "       'nice', 'nice', 'bah gg :)',\n",
              "       'stp tu peux faire, parce que je sais pas trop programmer',\n",
              "       'pareille mais essaye sur chat à tout moment ça passe ',\n",
              "       \"d'accord\", \"t'es vers dans la salle \", 'alors ça donne quoi ',\n",
              "       'tout devant ', 'alors ça donne quoi ', 'tout devant ',\n",
              "       \"j'essaye encore\", \"d'acccord vas y essaye de faire de ton mieux \",\n",
              "       'SLT SLT', 'tg', 'deso ', \"c'est pas moi\", '#help', '#help',\n",
              "       'coucou', 'BONJOUR', 'salut', 'salut', 'yo ', 'ça va', 'ça va',\n",
              "       'wshhh', 'slt', 'ca va ?', 'oui et toi?',\n",
              "       'trkl leve la main la xD ', 'pourquoi faire', 'voir tes qui le s',\n",
              "       '', \"t'as une idéee\", \"j'ai plus d'idée\",\n",
              "       'Utilise append pour ajouter un élément dans une liste',\n",
              "       'Utilise append pour ajouter un élément dans une liste',\n",
              "       \"Je suis nulle je m'excuse d'avance pour mon icompétence\",\n",
              "       \"ce n'est pas grave on vas essayer pour y arriver  \", 'commence',\n",
              "       'mais par quoi ?', 'ah je vois ok',\n",
              "       'att une seconde tu es une fille ?', 'oui ?', \"ah d'accord\",\n",
              "       \"j'ai fais 2ans de NSI au cas me sous estime pas trop\",\n",
              "       \"bon vas y aller progressivement pour l'exo\", 'au cas où*',\n",
              "       \"d'accord ne t'inquite pas je suis du même cas \",\n",
              "       'commence gros ou laisse moi la main',\n",
              "       'je te laisse la main si tu veut ',\n",
              "       'ok pour le début ça commence bien ',\n",
              "       'je réfléchis par quoi commencé, si tu sais : fais',\n",
              "       \"mais il faut que l'on parcours les deux tableaux \",\n",
              "       'et tu as raison pour le tableau vide', \"t'as récupérer la main\",\n",
              "       'ok', 'continue', '', '', '', '', '', '', '', '', '', '', '', '',\n",
              "       '', '', '', '', '', 'oups', 'pg',\n",
              "       \"il faudrait que 'on prenne l'indice\", \"c'est i l'indice\",\n",
              "       \"et qu'il soit mis dans egal\", 'oui', 'vsy je fais', 'ok',\n",
              "       'copie colle', 'de quoi ?', 'non laisse tomber', 'ja',\n",
              "       \"j'allais de proposer de copier coller mais non\",\n",
              "       \"on fini l'activité ducoup?\", 'ok', 't puissant en info ?',\n",
              "       'non jsuis pas puissant ', '😂', ' toi t puissant en info ?',\n",
              "       'nn je suis eclater', \"tu vois cque j'écris la ?\",\n",
              "       'dans le éditeur', 'ouai', 'écrit un truc pour voir si jvois',\n",
              "       't qui leve toi pour voir 😂', 't ou dans la salle?',\n",
              "       'ta un t-shirt vert ?', 'ouais c moi', 'toi t qui ?', 'au fond ',\n",
              "       '😂 😂 😂 pk ta donner la main attend', 'ta demandé ',\n",
              "       'ct pas moi c le moukate de tar scooter moi 😂',\n",
              "       't puissant quand meme', 'nn je copier sur mon pote 😂',\n",
              "       'je fais finir moi ', '^^', 'Merde j’ai oublié qu’on etait 2',\n",
              "       'pas grave ', 'moi je suis nul en programmation T_T',\n",
              "       'Tu veux pas bosser un peu xD j’ai grave la flemme', 'on est 2 xD',\n",
              "       'J’ai fini si ta des questions n’hésite pas ',\n",
              "       \"le True et le False c'est pour dire que ils sont égaux ?\",\n",
              "       'si ils sont egaux ou pas',\n",
              "       'Non c’est la réponse qu’il va renvoyer, True ils sont les même nombre d’éléments, False : il n’ont pas le même nombre',\n",
              "       'ok :D',\n",
              "       'En faite c’est que la longueur des tableaux qui faut comparer ',\n",
              "       'Att peut être que j’ai mal lue la consigne', 'o_o', 'slt ! ',\n",
              "       'salut', 'ca va ? ', 'oui ça va et toi ', 'tranquille ',\n",
              "       'tu sais plus ou moins comment faire ? ',\n",
              "       'Je ne suis pas très fort en info ',\n",
              "       \"on est deux tkt j'ai une vague idée de comment faire mais je sais pas comment réellement le faire\",\n",
              "       \"deja tu comprends ce que j'ai écris\", '? ', 'ouais ',\n",
              "       'faut mettre la longueur du tableau noramlement ',\n",
              "       'mais faut faire pour les deux non ? ',\n",
              "       \"oui je pense mais il y'a aussi le truc de la position\",\n",
              "       \"ah ouais voila c ca que je chercher a faire avec le if je suis trop nul j'arrive pas a retenir certain truc essentiel \",\n",
              "       \"c'est pas grave \", \"il faut mettre le (i) a coter d'append\",\n",
              "       'je sais pas si ca sert vrmt a qqch',\n",
              "       'en théorie ca pourrait marcher ',\n",
              "       'le seul probleme devrait etre le for ',\n",
              "       \"je sais pas tu es qui mais si tu veux je peux essayer et t'envoyer mais faut echanger nos contact\",\n",
              "       'slt', 'yoo', 'bah voila',\n",
              "       'je sait pas comment je te donne la main', \"on fini l'activité ?\",\n",
              "       'normalement, non',\n",
              "       \"ils faut mettre les exemples d'appels à au fonction\",\n",
              "       'ah oui bien vu', 'tu peux les mettres ?',\n",
              "       'salam il faudrait que tu écris en légende ', '???',\n",
              "       'non tqt je commence à écrire le programme',\n",
              "       \"on t'as dit deux tableaux []\",\n",
              "       'oui a , b sont les tableaux en paramètres tqt ',\n",
              "       'on suppose les deux tabs de mêmes tailles ',\n",
              "       'tu trouves comment ', 'explique ce que tu fait ',\n",
              "       \"le tableau a à l'indice 0 parcourt tout les indices \",\n",
              "       \"du tableau B et vérifie si c'est égaux\",\n",
              "       'les doubles boucles ça marche mal ? ',\n",
              "       'il faut renvoyer un tableau', 'tu veux prendre la main ?',\n",
              "       \"on met finir l'activité \",\n",
              "       'ah ouais tu sais pas faire une fonction ', 'bon ouais on finis ',\n",
              "       'yo', 'for i in range(0,len(list_1) : ?', 'yo',\n",
              "       'Je te mens pas je sais pas quoi faire après ',\n",
              "       'if list_1[i] == liste_2[i] :', \"t'inquiète\",\n",
              "       \"resultat.append(i) et après en dehors de la boucle tu met return resultat et jpense c'est bon\",\n",
              "       'comment ?', 'jsais pas comment on execute',\n",
              "       'en haut a droite normalement ',\n",
              "       'jcrois faut tu mettes la ligne de test dans le code à la toute fin et après je peux executer',\n",
              "       \"pour voir si c'est bon\",\n",
              "       'tu met ça coincide([78,23,12,12,54,32],[67,23,44,12,54,32]',\n",
              "       'avec une paranthese à la fin',\n",
              "       \"copie colle ce qu'il y a dans sur moodle au pire\",\n",
              "       'juste en dessous de return resultat ?', 'en dehors ',\n",
              "       \"juste un cran avant et c'est bon\", \"c'est bon \",\n",
              "       'enleve le ? entre 67 et 23 dans la deuxième liste',\n",
              "       \"et c'est bon \", \"mais au pire c'est grâve jmet finir l'activité \",\n",
              "       \"c'est pas grâve*\", 'slt ', 'Slt ', 'tu sais un peut codé ? x)',\n",
              "       'Non sorry x(', 'eh merde x)', 'Et toi ? ',\n",
              "       \"J'ai les bases a peut prêt x)\", 'Tu sais quoi faire la ?',\n",
              "       \"Jvais lire ce qu'il a mis sur moodle voir ce qu'il faut faire \",\n",
              "       'Je vais faire de mm ', 'vsy',\n",
              "       'Je crois qu’elle est aux tableaux, les consignes ',\n",
              "       \"yep , j'essaie de bien comprendre la consigne x)\",\n",
              "       'si jamais tu as une idée , hésite pas ', 'Bon bin désolé :( ',\n",
              "       'pas de soucis x)', \"tu as qui dans l'amphi d'ailleurs ? x) \",\n",
              "       'salut', 'salut', 'Salut', 'tu commence en premiere',\n",
              "       'Franchement je ne suis pas très bon mais si tu veux je peux essayer',\n",
              "       \"d'accord\",\n",
              "       'Je bloque à partir de là, est ce qur tu aurais une idée pour nous faire avancer',\n",
              "       'Tu peux prendre la main si tu veux',\n",
              "       'si t as des idee ou tu veut la main fait peter',\n",
              "       \"ouais je réfléchis j'ai rien là\",\n",
              "       'ok trkl je teste des truck tjr ', '👍', 'lébon nn',\n",
              "       'ou gain exécuter ?', 'att', 'good morning how are you doing',\n",
              "       'c bon ma couille ? ', 'HOOOOO ', 'ouais ', 'lest go il parle !!!',\n",
              "       'ya pas de retour a la ligne ou quoi frr', 'c bon ducoup ? ',\n",
              "       'non', 'ben vasy fait ', 'il est trop chau ', 'jsp si c bon',\n",
              "       'ya pas de verif si la tab1 est plus grande que la tab 2 ',\n",
              "       'ya pas de verif si la tab1 est plus grande que la tab 2 ',\n",
              "       'jsp si c bon', 'ouais js guez', \"T'es où dans la salle\",\n",
              "       'je suis du coté gauche de la salle ', 'devant ou derriere ?',\n",
              "       'au milieux', 'et toi ?', 'A gauche au milieu',\n",
              "       \"tu as compris ce qu'il faut faire ?\",\n",
              "       \"je crois qu'il faut définir une fonction coincide\",\n",
              "       'comme sur le tableau je pense ...',\n",
              "       'ahh oui je vois mais je comprends pas comment il faut commencer ',\n",
              "       'bah commence par écrire def coincide (....',\n",
              "       'toi aussi tu peux écrire je crois',\n",
              "       \"rectifie ce que j'écris si jamais ça te semble pas bon\", 'Ok',\n",
              "       'je suis pas trop forte en python dsl si je peux pas trop aider !',\n",
              "       'je suis vraiment nulle aussi haha', 'ok bon bah salut ! XD',\n",
              "       'salut mdrr', 'pareil ', 'chef on fait quoi ',\n",
              "       'Je suis sur le téléphone je peux quasiment rien faire ',\n",
              "       'on est foutu ', 'mdr ', 'Au pire je regarde sur mon pote ',\n",
              "       \"tqt j'ai un pote c'est un crack il va gerer \", 'Ha nikel alors ',\n",
              "       'Comment tu t’appelles si non ?', 'mehlam et toi ',\n",
              "       'Super moi c’est ethan ', 'enchanté mec !!!!!!!!!',\n",
              "       'bon on fait quoi ', 'Enchanté ',\n",
              "       'Du coup la c’est ton pote qui fait le programme ?', 'ouais ',\n",
              "       'au pire chat gpt',\n",
              "       'Bah du coup on attend non j’ai aucune idée de ce qui ', '',\n",
              "       'Faut faire 😭', 'tu vois ce qui est ecris ', 'Ouais ',\n",
              "       'C’est bon ', 'Je peux ecrire ?',\n",
              "       \"c'est pas bon mais bon on s'ne fou\", 'vays', 'Salut', 'yo', 'sv',\n",
              "       'yep et toi?', 'oui', 'je préfère prévenir je suis pas fort',\n",
              "       'Cool et tkt moi aussi XD je vais faire un vase qui je pense devrais aller et je te passe la main sa te vas?',\n",
              "       'comment sa un vase?', '\"base\" déso faute de frappe', 'ok tkt',\n",
              "       'je dois faire quoi concretement?',\n",
              "       \"tu peut demander la main pour editer le code a ton tour sinon la j'ai une erreur sur le code si tu veux essayer de corriger\",\n",
              "       \"elle est ou l'erreur?\",\n",
              "       \"line 4 apparement mais je crois qu'il faut juste que j'utilise des [] a la place de ()\",\n",
              "       \"c'est bon comme sa ?\", \"c'est bon ça marche\", \"j'execute?\",\n",
              "       \"si tu veux tester quand ta fini de tester dit moi et on termine l'activité\",\n",
              "       'vas-y demande la main', \"on termine l'activité\", '?',\n",
              "       \"Je t'avoues que je ne sait pas quoi faire tu pourrais prendre la main s'il te plait \",\n",
              "       'bonne chance ', '-_-', 'bonjour', 'bonjour', 'bjr',\n",
              "       'tu vois les ligne de codes ?', \"oui j'vois\",\n",
              "       'tu as fais des tests?', 'pas encore', \"ça l'air correct\",\n",
              "       \"c'est ok\", 'on fini ?'], dtype=object)"
            ]
          },
          "execution_count": 48,
          "metadata": {},
          "output_type": "execute_result"
        }
      ],
      "source": [
        "all_files['message'].values"
      ]
    },
    {
      "cell_type": "code",
      "execution_count": null,
      "metadata": {
        "id": "iSmzzfGGJWnQ"
      },
      "outputs": [],
      "source": []
    }
  ],
  "metadata": {
    "colab": {
      "provenance": []
    },
    "kernelspec": {
      "display_name": "jupyterenv",
      "language": "python",
      "name": "python3"
    },
    "language_info": {
      "codemirror_mode": {
        "name": "ipython",
        "version": 3
      },
      "file_extension": ".py",
      "mimetype": "text/x-python",
      "name": "python",
      "nbconvert_exporter": "python",
      "pygments_lexer": "ipython3",
      "version": "3.9.21"
    }
  },
  "nbformat": 4,
  "nbformat_minor": 0
}
