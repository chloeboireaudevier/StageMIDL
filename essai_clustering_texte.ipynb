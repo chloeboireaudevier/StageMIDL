{
  "cells": [
    {
      "cell_type": "markdown",
      "metadata": {},
      "source": [
        "### Imports"
      ]
    },
    {
      "cell_type": "code",
      "execution_count": 183,
      "metadata": {
        "id": "hAFDY1_yg3Aw"
      },
      "outputs": [],
      "source": [
        "import numpy as np\n",
        "import pandas as pd\n",
        "from sklearn.ensemble import RandomForestClassifier\n",
        "from sklearn.model_selection import train_test_split\n",
        "from nltk.corpus import stopwords\n",
        "from nltk.tokenize import RegexpTokenizer\n",
        "import re\n",
        "import nltk\n",
        "import string\n",
        "from sklearn.feature_extraction.text import TfidfVectorizer\n",
        "from sklearn.decomposition import TruncatedSVD\n",
        "import seaborn as sns\n",
        "import matplotlib.pyplot as plt\n",
        "import os\n",
        "import json\n",
        "import pandas as pd\n",
        "from datetime import datetime"
      ]
    },
    {
      "cell_type": "code",
      "execution_count": 61,
      "metadata": {},
      "outputs": [],
      "source": [
        "#A ne pas executer si déjà téléchargés\n",
        "#nltk.download('stopwords')\n",
        "#nltk.download('punkt')\n",
        "#nltk.download('wordnet')"
      ]
    },
    {
      "cell_type": "markdown",
      "metadata": {
        "id": "AuPtbcKkLJcs"
      },
      "source": [
        "### Test avec fetch20newsgroup"
      ]
    },
    {
      "cell_type": "code",
      "execution_count": 62,
      "metadata": {
        "colab": {
          "base_uri": "https://localhost:8080/"
        },
        "collapsed": true,
        "id": "n3YGT1NQg6tf",
        "outputId": "0a6f9790-dded-40fb-a9ed-ee94666b38e8"
      },
      "outputs": [
        {
          "data": {
            "text/plain": [
              "\"from sklearn.datasets import fetch_20newsgroups\\nX_train, y_train = fetch_20newsgroups(subset='train', return_X_y=True)\\nX_test, y_test = fetch_20newsgroups(subset='test', return_X_y=True)\\nX_train\""
            ]
          },
          "execution_count": 62,
          "metadata": {},
          "output_type": "execute_result"
        }
      ],
      "source": [
        "'''from sklearn.datasets import fetch_20newsgroups\n",
        "X_train, y_train = fetch_20newsgroups(subset='train', return_X_y=True)\n",
        "X_test, y_test = fetch_20newsgroups(subset='test', return_X_y=True)\n",
        "X_train'''"
      ]
    },
    {
      "cell_type": "code",
      "execution_count": 63,
      "metadata": {
        "colab": {
          "base_uri": "https://localhost:8080/",
          "height": 0
        },
        "collapsed": true,
        "id": "iZZYrqjDhIJT",
        "outputId": "9b6b16d2-d32d-44eb-abff-d0198f4bf89f"
      },
      "outputs": [],
      "source": [
        "#X_train[0]"
      ]
    },
    {
      "cell_type": "markdown",
      "metadata": {
        "id": "mPGMquYcLQeR"
      },
      "source": [
        "### Test, traitement, récupération des traces"
      ]
    },
    {
      "cell_type": "code",
      "execution_count": 64,
      "metadata": {
        "colab": {
          "base_uri": "https://localhost:8080/",
          "height": 112
        },
        "id": "9Xpl5osthTdw",
        "outputId": "0a6700de-c682-42b1-f92b-26794cd7320f"
      },
      "outputs": [],
      "source": [
        "data_1 = pd.read_json('Data\\messages_chat_seance1\\exportChatMessage\\\\0dfd43cb-9957-4102-954a-899ca075e56d.json')\n",
        "data_2 = pd.read_json('Data\\messages_chat_seance1\\exportChatMessage\\\\1db9dee2-2702-457f-aa07-6b60589446ce.json')\n",
        "data_3 = pd.read_json('Data\\messages_chat_seance1\\exportChatMessage\\\\2ccf746f-62b9-4690-8bff-59c49fb2c310.json')"
      ]
    },
    {
      "cell_type": "markdown",
      "metadata": {},
      "source": [
        "Recupérer ici la fin du fichier : seance 1 ne regroupe que 3 messages :: mettre dans seance 1 tous les messages de la seance 1\n",
        "creer csv avec toutes les données : seance + nomfichier comme id."
      ]
    },
    {
      "cell_type": "code",
      "execution_count": 65,
      "metadata": {
        "colab": {
          "base_uri": "https://localhost:8080/",
          "height": 81
        },
        "id": "j5g13LAjjOX6",
        "outputId": "8a5d071b-6da0-4c0e-8f2d-47032acf28d3"
      },
      "outputs": [
        {
          "data": {
            "text/html": [
              "<div>\n",
              "<style scoped>\n",
              "    .dataframe tbody tr th:only-of-type {\n",
              "        vertical-align: middle;\n",
              "    }\n",
              "\n",
              "    .dataframe tbody tr th {\n",
              "        vertical-align: top;\n",
              "    }\n",
              "\n",
              "    .dataframe thead th {\n",
              "        text-align: right;\n",
              "    }\n",
              "</style>\n",
              "<table border=\"1\" class=\"dataframe\">\n",
              "  <thead>\n",
              "    <tr style=\"text-align: right;\">\n",
              "      <th></th>\n",
              "      <th>user</th>\n",
              "      <th>role</th>\n",
              "      <th>message</th>\n",
              "      <th>timestamp</th>\n",
              "    </tr>\n",
              "  </thead>\n",
              "  <tbody>\n",
              "    <tr>\n",
              "      <th>0</th>\n",
              "      <td>194872</td>\n",
              "      <td>Driver</td>\n",
              "      <td>roro</td>\n",
              "      <td>2024-10-09 04:24:09.074000+00:00</td>\n",
              "    </tr>\n",
              "    <tr>\n",
              "      <th>1</th>\n",
              "      <td>194872</td>\n",
              "      <td>Driver</td>\n",
              "      <td>Qui est là</td>\n",
              "      <td>2024-10-09 04:27:03.939000+00:00</td>\n",
              "    </tr>\n",
              "    <tr>\n",
              "      <th>2</th>\n",
              "      <td>145797</td>\n",
              "      <td>Driver</td>\n",
              "      <td>Bonjour</td>\n",
              "      <td>2024-10-09 04:22:52.924000+00:00</td>\n",
              "    </tr>\n",
              "    <tr>\n",
              "      <th>3</th>\n",
              "      <td>200807</td>\n",
              "      <td>Navigator</td>\n",
              "      <td>Bonjour</td>\n",
              "      <td>2024-10-09 04:24:14.448000+00:00</td>\n",
              "    </tr>\n",
              "    <tr>\n",
              "      <th>4</th>\n",
              "      <td>145797</td>\n",
              "      <td>Driver</td>\n",
              "      <td>tu pense si je fais un for in in range avec un...</td>\n",
              "      <td>2024-10-09 04:25:31.692000+00:00</td>\n",
              "    </tr>\n",
              "  </tbody>\n",
              "</table>\n",
              "</div>"
            ],
            "text/plain": [
              "     user       role                                            message  \\\n",
              "0  194872     Driver                                               roro   \n",
              "1  194872     Driver                                         Qui est là   \n",
              "2  145797     Driver                                            Bonjour   \n",
              "3  200807  Navigator                                            Bonjour   \n",
              "4  145797     Driver  tu pense si je fais un for in in range avec un...   \n",
              "\n",
              "                         timestamp  \n",
              "0 2024-10-09 04:24:09.074000+00:00  \n",
              "1 2024-10-09 04:27:03.939000+00:00  \n",
              "2 2024-10-09 04:22:52.924000+00:00  \n",
              "3 2024-10-09 04:24:14.448000+00:00  \n",
              "4 2024-10-09 04:25:31.692000+00:00  "
            ]
          },
          "execution_count": 65,
          "metadata": {},
          "output_type": "execute_result"
        }
      ],
      "source": [
        "# Gros df avec les 3 données\n",
        "messages_df = pd.concat([data_1,data_2,data_3],axis = 0)\n",
        "messages_df.reset_index(drop=True, inplace=True) #Créer un id ? Plus tard, quand mesure d'impact -> nécessité de tracer\n",
        "messages_df.head(5)"
      ]
    },
    {
      "cell_type": "code",
      "execution_count": 90,
      "metadata": {},
      "outputs": [
        {
          "data": {
            "text/html": [
              "<div>\n",
              "<style scoped>\n",
              "    .dataframe tbody tr th:only-of-type {\n",
              "        vertical-align: middle;\n",
              "    }\n",
              "\n",
              "    .dataframe tbody tr th {\n",
              "        vertical-align: top;\n",
              "    }\n",
              "\n",
              "    .dataframe thead th {\n",
              "        text-align: right;\n",
              "    }\n",
              "</style>\n",
              "<table border=\"1\" class=\"dataframe\">\n",
              "  <thead>\n",
              "    <tr style=\"text-align: right;\">\n",
              "      <th></th>\n",
              "      <th>user</th>\n",
              "      <th>role</th>\n",
              "      <th>message</th>\n",
              "      <th>timestamp</th>\n",
              "    </tr>\n",
              "  </thead>\n",
              "  <tbody>\n",
              "    <tr>\n",
              "      <th>0</th>\n",
              "      <td>194872</td>\n",
              "      <td>Driver</td>\n",
              "      <td>roro</td>\n",
              "      <td>2024-10-09 04:24:09.074000+00:00</td>\n",
              "    </tr>\n",
              "    <tr>\n",
              "      <th>1</th>\n",
              "      <td>194872</td>\n",
              "      <td>Driver</td>\n",
              "      <td>Qui est là</td>\n",
              "      <td>2024-10-09 04:27:03.939000+00:00</td>\n",
              "    </tr>\n",
              "  </tbody>\n",
              "</table>\n",
              "</div>"
            ],
            "text/plain": [
              "     user    role     message                        timestamp\n",
              "0  194872  Driver        roro 2024-10-09 04:24:09.074000+00:00\n",
              "1  194872  Driver  Qui est là 2024-10-09 04:27:03.939000+00:00"
            ]
          },
          "execution_count": 90,
          "metadata": {},
          "output_type": "execute_result"
        }
      ],
      "source": [
        "#understanding json files\n",
        "data_1"
      ]
    },
    {
      "cell_type": "code",
      "execution_count": 91,
      "metadata": {},
      "outputs": [
        {
          "data": {
            "text/plain": [
              "[{'user': '194872',\n",
              "  'role': 'Driver',\n",
              "  'message': 'roro',\n",
              "  'timestamp': '2024-10-09T04:24:09.074Z'},\n",
              " {'user': '194872',\n",
              "  'role': 'Driver',\n",
              "  'message': 'Qui est là',\n",
              "  'timestamp': '2024-10-09T04:27:03.939Z'}]"
            ]
          },
          "execution_count": 91,
          "metadata": {},
          "output_type": "execute_result"
        }
      ],
      "source": [
        "f = open('Data\\messages_chat_seance1\\exportChatMessage\\\\0dfd43cb-9957-4102-954a-899ca075e56d.json','r')\n",
        "d = json.load(f)\n",
        "d"
      ]
    },
    {
      "cell_type": "code",
      "execution_count": 206,
      "metadata": {},
      "outputs": [],
      "source": [
        "##Fonction(s) pour traiter les messages\n",
        "\n",
        "def parse_json_files_in_folder(folder_path):\n",
        "    \"\"\"\n",
        "    Parses all JSON files in a folder and concatenates them into a pandas DataFrame.\n",
        "\n",
        "    Args:\n",
        "        folder_path (str): The path to the folder containing the JSON files.\n",
        "\n",
        "    Returns:\n",
        "        pandas.DataFrame: A DataFrame containing the concatenated data from all JSON files.\n",
        "    \"\"\"\n",
        "    all_data = pd.DataFrame()\n",
        "    groupid = 0\n",
        "    for filename in os.listdir(folder_path):\n",
        "        if filename.endswith(\".json\"):\n",
        "            filepath = os.path.join(folder_path, filename)\n",
        "            data = pd.read_json(filepath)\n",
        "            data['groupID'] = groupid\n",
        "            data['fileID'] = filename[:-5]\n",
        "            all_data = pd.concat([all_data,data],axis = 0)\n",
        "            groupid += 1\n",
        "    all_data.reset_index(inplace = True, drop = True)\n",
        "    all_data.index.names = [\"messageID\"]\n",
        "    # extracting date from timestamp\n",
        "    all_data['date'] = [datetime.date(d) for d in all_data['timestamp']] \n",
        "\n",
        "    # extracting time from timestamp\n",
        "    all_data['time'] = [datetime.time(d).replace(microsecond=0) for d in all_data['timestamp']]\n",
        "    all_data.drop(['timestamp'],axis = 1,inplace = True)\n",
        "    return all_data\n"
      ]
    },
    {
      "cell_type": "code",
      "execution_count": 207,
      "metadata": {},
      "outputs": [
        {
          "name": "stdout",
          "output_type": "stream",
          "text": [
            "seance1_df shape :  (440, 7)\n"
          ]
        },
        {
          "data": {
            "text/html": [
              "<div>\n",
              "<style scoped>\n",
              "    .dataframe tbody tr th:only-of-type {\n",
              "        vertical-align: middle;\n",
              "    }\n",
              "\n",
              "    .dataframe tbody tr th {\n",
              "        vertical-align: top;\n",
              "    }\n",
              "\n",
              "    .dataframe thead th {\n",
              "        text-align: right;\n",
              "    }\n",
              "</style>\n",
              "<table border=\"1\" class=\"dataframe\">\n",
              "  <thead>\n",
              "    <tr style=\"text-align: right;\">\n",
              "      <th></th>\n",
              "      <th>user</th>\n",
              "      <th>role</th>\n",
              "      <th>message</th>\n",
              "      <th>groupID</th>\n",
              "      <th>fileID</th>\n",
              "      <th>date</th>\n",
              "      <th>time</th>\n",
              "    </tr>\n",
              "    <tr>\n",
              "      <th>messageID</th>\n",
              "      <th></th>\n",
              "      <th></th>\n",
              "      <th></th>\n",
              "      <th></th>\n",
              "      <th></th>\n",
              "      <th></th>\n",
              "      <th></th>\n",
              "    </tr>\n",
              "  </thead>\n",
              "  <tbody>\n",
              "    <tr>\n",
              "      <th>0</th>\n",
              "      <td>186202.0</td>\n",
              "      <td>Navigator</td>\n",
              "      <td>Tu es qui ,</td>\n",
              "      <td>0</td>\n",
              "      <td>023a3090-7b0a-48c4-93f0-c200d9afce41</td>\n",
              "      <td>2024-10-09</td>\n",
              "      <td>04:38:10</td>\n",
              "    </tr>\n",
              "    <tr>\n",
              "      <th>1</th>\n",
              "      <td>186202.0</td>\n",
              "      <td>Navigator</td>\n",
              "      <td>On se met 5 partout ok ?</td>\n",
              "      <td>0</td>\n",
              "      <td>023a3090-7b0a-48c4-93f0-c200d9afce41</td>\n",
              "      <td>2024-10-09</td>\n",
              "      <td>04:38:23</td>\n",
              "    </tr>\n",
              "    <tr>\n",
              "      <th>2</th>\n",
              "      <td>183897.0</td>\n",
              "      <td>Driver</td>\n",
              "      <td>Opé</td>\n",
              "      <td>1</td>\n",
              "      <td>0435458c-dc49-4094-b970-1db125fc235c</td>\n",
              "      <td>2024-10-09</td>\n",
              "      <td>04:21:22</td>\n",
              "    </tr>\n",
              "    <tr>\n",
              "      <th>3</th>\n",
              "      <td>183897.0</td>\n",
              "      <td>Driver</td>\n",
              "      <td>Opé lmkt</td>\n",
              "      <td>1</td>\n",
              "      <td>0435458c-dc49-4094-b970-1db125fc235c</td>\n",
              "      <td>2024-10-09</td>\n",
              "      <td>04:21:39</td>\n",
              "    </tr>\n",
              "    <tr>\n",
              "      <th>4</th>\n",
              "      <td>193392.0</td>\n",
              "      <td>Navigator</td>\n",
              "      <td>A PAR SA LE COUZ</td>\n",
              "      <td>1</td>\n",
              "      <td>0435458c-dc49-4094-b970-1db125fc235c</td>\n",
              "      <td>2024-10-09</td>\n",
              "      <td>04:21:46</td>\n",
              "    </tr>\n",
              "    <tr>\n",
              "      <th>...</th>\n",
              "      <td>...</td>\n",
              "      <td>...</td>\n",
              "      <td>...</td>\n",
              "      <td>...</td>\n",
              "      <td>...</td>\n",
              "      <td>...</td>\n",
              "      <td>...</td>\n",
              "    </tr>\n",
              "    <tr>\n",
              "      <th>435</th>\n",
              "      <td>188437.0</td>\n",
              "      <td>Navigator</td>\n",
              "      <td>tu as fais des tests?</td>\n",
              "      <td>49</td>\n",
              "      <td>f374e410-f777-4ef0-8a15-14267dd8ed09</td>\n",
              "      <td>2024-10-09</td>\n",
              "      <td>04:28:34</td>\n",
              "    </tr>\n",
              "    <tr>\n",
              "      <th>436</th>\n",
              "      <td>200552.0</td>\n",
              "      <td>Driver</td>\n",
              "      <td>pas encore</td>\n",
              "      <td>49</td>\n",
              "      <td>f374e410-f777-4ef0-8a15-14267dd8ed09</td>\n",
              "      <td>2024-10-09</td>\n",
              "      <td>04:28:42</td>\n",
              "    </tr>\n",
              "    <tr>\n",
              "      <th>437</th>\n",
              "      <td>188437.0</td>\n",
              "      <td>Navigator</td>\n",
              "      <td>ça l'air correct</td>\n",
              "      <td>49</td>\n",
              "      <td>f374e410-f777-4ef0-8a15-14267dd8ed09</td>\n",
              "      <td>2024-10-09</td>\n",
              "      <td>04:29:16</td>\n",
              "    </tr>\n",
              "    <tr>\n",
              "      <th>438</th>\n",
              "      <td>188437.0</td>\n",
              "      <td>Navigator</td>\n",
              "      <td>c'est ok</td>\n",
              "      <td>49</td>\n",
              "      <td>f374e410-f777-4ef0-8a15-14267dd8ed09</td>\n",
              "      <td>2024-10-09</td>\n",
              "      <td>04:34:49</td>\n",
              "    </tr>\n",
              "    <tr>\n",
              "      <th>439</th>\n",
              "      <td>200552.0</td>\n",
              "      <td>Driver</td>\n",
              "      <td>on fini ?</td>\n",
              "      <td>49</td>\n",
              "      <td>f374e410-f777-4ef0-8a15-14267dd8ed09</td>\n",
              "      <td>2024-10-09</td>\n",
              "      <td>04:35:29</td>\n",
              "    </tr>\n",
              "  </tbody>\n",
              "</table>\n",
              "<p>440 rows × 7 columns</p>\n",
              "</div>"
            ],
            "text/plain": [
              "               user       role                   message  groupID  \\\n",
              "messageID                                                           \n",
              "0          186202.0  Navigator               Tu es qui ,        0   \n",
              "1          186202.0  Navigator  On se met 5 partout ok ?        0   \n",
              "2          183897.0     Driver                       Opé        1   \n",
              "3          183897.0     Driver                  Opé lmkt        1   \n",
              "4          193392.0  Navigator         A PAR SA LE COUZ         1   \n",
              "...             ...        ...                       ...      ...   \n",
              "435        188437.0  Navigator     tu as fais des tests?       49   \n",
              "436        200552.0     Driver                pas encore       49   \n",
              "437        188437.0  Navigator          ça l'air correct       49   \n",
              "438        188437.0  Navigator                  c'est ok       49   \n",
              "439        200552.0     Driver                 on fini ?       49   \n",
              "\n",
              "                                         fileID        date      time  \n",
              "messageID                                                              \n",
              "0          023a3090-7b0a-48c4-93f0-c200d9afce41  2024-10-09  04:38:10  \n",
              "1          023a3090-7b0a-48c4-93f0-c200d9afce41  2024-10-09  04:38:23  \n",
              "2          0435458c-dc49-4094-b970-1db125fc235c  2024-10-09  04:21:22  \n",
              "3          0435458c-dc49-4094-b970-1db125fc235c  2024-10-09  04:21:39  \n",
              "4          0435458c-dc49-4094-b970-1db125fc235c  2024-10-09  04:21:46  \n",
              "...                                         ...         ...       ...  \n",
              "435        f374e410-f777-4ef0-8a15-14267dd8ed09  2024-10-09  04:28:34  \n",
              "436        f374e410-f777-4ef0-8a15-14267dd8ed09  2024-10-09  04:28:42  \n",
              "437        f374e410-f777-4ef0-8a15-14267dd8ed09  2024-10-09  04:29:16  \n",
              "438        f374e410-f777-4ef0-8a15-14267dd8ed09  2024-10-09  04:34:49  \n",
              "439        f374e410-f777-4ef0-8a15-14267dd8ed09  2024-10-09  04:35:29  \n",
              "\n",
              "[440 rows x 7 columns]"
            ]
          },
          "execution_count": 207,
          "metadata": {},
          "output_type": "execute_result"
        }
      ],
      "source": [
        "seance1_df = parse_json_files_in_folder('Data\\messages_chat_seance1\\exportChatMessage')\n",
        "print(\"seance1_df shape : \",seance1_df.shape)\n",
        "seance1_df"
      ]
    },
    {
      "cell_type": "code",
      "execution_count": 208,
      "metadata": {},
      "outputs": [
        {
          "name": "stdout",
          "output_type": "stream",
          "text": [
            "seance2_df shape :  (1315, 7)\n"
          ]
        },
        {
          "data": {
            "text/html": [
              "<div>\n",
              "<style scoped>\n",
              "    .dataframe tbody tr th:only-of-type {\n",
              "        vertical-align: middle;\n",
              "    }\n",
              "\n",
              "    .dataframe tbody tr th {\n",
              "        vertical-align: top;\n",
              "    }\n",
              "\n",
              "    .dataframe thead th {\n",
              "        text-align: right;\n",
              "    }\n",
              "</style>\n",
              "<table border=\"1\" class=\"dataframe\">\n",
              "  <thead>\n",
              "    <tr style=\"text-align: right;\">\n",
              "      <th></th>\n",
              "      <th>groupID</th>\n",
              "      <th>fileID</th>\n",
              "      <th>user</th>\n",
              "      <th>role</th>\n",
              "      <th>message</th>\n",
              "      <th>date</th>\n",
              "      <th>time</th>\n",
              "    </tr>\n",
              "    <tr>\n",
              "      <th>messageID</th>\n",
              "      <th></th>\n",
              "      <th></th>\n",
              "      <th></th>\n",
              "      <th></th>\n",
              "      <th></th>\n",
              "      <th></th>\n",
              "      <th></th>\n",
              "    </tr>\n",
              "  </thead>\n",
              "  <tbody>\n",
              "    <tr>\n",
              "      <th>0</th>\n",
              "      <td>1</td>\n",
              "      <td>00c09563-99f4-42da-9346-d73355a9b8d9</td>\n",
              "      <td>183337.0</td>\n",
              "      <td>Driver</td>\n",
              "      <td>bonjour</td>\n",
              "      <td>2024-11-12</td>\n",
              "      <td>04:30:24</td>\n",
              "    </tr>\n",
              "    <tr>\n",
              "      <th>1</th>\n",
              "      <td>1</td>\n",
              "      <td>00c09563-99f4-42da-9346-d73355a9b8d9</td>\n",
              "      <td>145133.0</td>\n",
              "      <td>Navigator</td>\n",
              "      <td>bonjour</td>\n",
              "      <td>2024-11-12</td>\n",
              "      <td>04:30:44</td>\n",
              "    </tr>\n",
              "    <tr>\n",
              "      <th>2</th>\n",
              "      <td>1</td>\n",
              "      <td>00c09563-99f4-42da-9346-d73355a9b8d9</td>\n",
              "      <td>145133.0</td>\n",
              "      <td>Navigator</td>\n",
              "      <td>tu es bloqué?</td>\n",
              "      <td>2024-11-12</td>\n",
              "      <td>04:36:03</td>\n",
              "    </tr>\n",
              "    <tr>\n",
              "      <th>3</th>\n",
              "      <td>1</td>\n",
              "      <td>00c09563-99f4-42da-9346-d73355a9b8d9</td>\n",
              "      <td>145133.0</td>\n",
              "      <td>Navigator</td>\n",
              "      <td>hésite pas si t'as une idée</td>\n",
              "      <td>2024-11-12</td>\n",
              "      <td>04:39:50</td>\n",
              "    </tr>\n",
              "    <tr>\n",
              "      <th>4</th>\n",
              "      <td>1</td>\n",
              "      <td>00c09563-99f4-42da-9346-d73355a9b8d9</td>\n",
              "      <td>183337.0</td>\n",
              "      <td>Driver</td>\n",
              "      <td>ok</td>\n",
              "      <td>2024-11-12</td>\n",
              "      <td>04:40:06</td>\n",
              "    </tr>\n",
              "    <tr>\n",
              "      <th>...</th>\n",
              "      <td>...</td>\n",
              "      <td>...</td>\n",
              "      <td>...</td>\n",
              "      <td>...</td>\n",
              "      <td>...</td>\n",
              "      <td>...</td>\n",
              "      <td>...</td>\n",
              "    </tr>\n",
              "    <tr>\n",
              "      <th>1310</th>\n",
              "      <td>81</td>\n",
              "      <td>fbe22b37-299a-4851-a4a0-c2f152bc835f</td>\n",
              "      <td>144245.0</td>\n",
              "      <td>Navigator</td>\n",
              "      <td>c'est bon</td>\n",
              "      <td>2024-11-12</td>\n",
              "      <td>04:48:02</td>\n",
              "    </tr>\n",
              "    <tr>\n",
              "      <th>1311</th>\n",
              "      <td>81</td>\n",
              "      <td>fbe22b37-299a-4851-a4a0-c2f152bc835f</td>\n",
              "      <td>192807.0</td>\n",
              "      <td>Driver</td>\n",
              "      <td>A la base, ce n'est pas total non ?</td>\n",
              "      <td>2024-11-12</td>\n",
              "      <td>04:48:09</td>\n",
              "    </tr>\n",
              "    <tr>\n",
              "      <th>1312</th>\n",
              "      <td>81</td>\n",
              "      <td>fbe22b37-299a-4851-a4a0-c2f152bc835f</td>\n",
              "      <td>192807.0</td>\n",
              "      <td>Driver</td>\n",
              "      <td>Tu voulais tous les mettre total non ?</td>\n",
              "      <td>2024-11-12</td>\n",
              "      <td>04:49:41</td>\n",
              "    </tr>\n",
              "    <tr>\n",
              "      <th>1313</th>\n",
              "      <td>81</td>\n",
              "      <td>fbe22b37-299a-4851-a4a0-c2f152bc835f</td>\n",
              "      <td>192807.0</td>\n",
              "      <td>Driver</td>\n",
              "      <td>Sais-tu pourquoi il y a une erreur ?</td>\n",
              "      <td>2024-11-12</td>\n",
              "      <td>05:00:20</td>\n",
              "    </tr>\n",
              "    <tr>\n",
              "      <th>1314</th>\n",
              "      <td>81</td>\n",
              "      <td>fbe22b37-299a-4851-a4a0-c2f152bc835f</td>\n",
              "      <td>144245.0</td>\n",
              "      <td>Navigator</td>\n",
              "      <td>c'est bon</td>\n",
              "      <td>2024-11-12</td>\n",
              "      <td>05:11:26</td>\n",
              "    </tr>\n",
              "  </tbody>\n",
              "</table>\n",
              "<p>1315 rows × 7 columns</p>\n",
              "</div>"
            ],
            "text/plain": [
              "           groupID                                fileID      user       role  \\\n",
              "messageID                                                                       \n",
              "0                1  00c09563-99f4-42da-9346-d73355a9b8d9  183337.0     Driver   \n",
              "1                1  00c09563-99f4-42da-9346-d73355a9b8d9  145133.0  Navigator   \n",
              "2                1  00c09563-99f4-42da-9346-d73355a9b8d9  145133.0  Navigator   \n",
              "3                1  00c09563-99f4-42da-9346-d73355a9b8d9  145133.0  Navigator   \n",
              "4                1  00c09563-99f4-42da-9346-d73355a9b8d9  183337.0     Driver   \n",
              "...            ...                                   ...       ...        ...   \n",
              "1310            81  fbe22b37-299a-4851-a4a0-c2f152bc835f  144245.0  Navigator   \n",
              "1311            81  fbe22b37-299a-4851-a4a0-c2f152bc835f  192807.0     Driver   \n",
              "1312            81  fbe22b37-299a-4851-a4a0-c2f152bc835f  192807.0     Driver   \n",
              "1313            81  fbe22b37-299a-4851-a4a0-c2f152bc835f  192807.0     Driver   \n",
              "1314            81  fbe22b37-299a-4851-a4a0-c2f152bc835f  144245.0  Navigator   \n",
              "\n",
              "                                          message        date      time  \n",
              "messageID                                                                \n",
              "0                                        bonjour   2024-11-12  04:30:24  \n",
              "1                                         bonjour  2024-11-12  04:30:44  \n",
              "2                                   tu es bloqué?  2024-11-12  04:36:03  \n",
              "3                     hésite pas si t'as une idée  2024-11-12  04:39:50  \n",
              "4                                             ok   2024-11-12  04:40:06  \n",
              "...                                           ...         ...       ...  \n",
              "1310                                    c'est bon  2024-11-12  04:48:02  \n",
              "1311          A la base, ce n'est pas total non ?  2024-11-12  04:48:09  \n",
              "1312       Tu voulais tous les mettre total non ?  2024-11-12  04:49:41  \n",
              "1313         Sais-tu pourquoi il y a une erreur ?  2024-11-12  05:00:20  \n",
              "1314                                    c'est bon  2024-11-12  05:11:26  \n",
              "\n",
              "[1315 rows x 7 columns]"
            ]
          },
          "execution_count": 208,
          "metadata": {},
          "output_type": "execute_result"
        }
      ],
      "source": [
        "seance2_df = parse_json_files_in_folder('Data\\messages_chat_seance2\\exportChatMessage')\n",
        "print(\"seance2_df shape : \",seance2_df.shape)\n",
        "seance2_df"
      ]
    },
    {
      "cell_type": "code",
      "execution_count": 209,
      "metadata": {},
      "outputs": [
        {
          "data": {
            "text/html": [
              "<div>\n",
              "<style scoped>\n",
              "    .dataframe tbody tr th:only-of-type {\n",
              "        vertical-align: middle;\n",
              "    }\n",
              "\n",
              "    .dataframe tbody tr th {\n",
              "        vertical-align: top;\n",
              "    }\n",
              "\n",
              "    .dataframe thead th {\n",
              "        text-align: right;\n",
              "    }\n",
              "</style>\n",
              "<table border=\"1\" class=\"dataframe\">\n",
              "  <thead>\n",
              "    <tr style=\"text-align: right;\">\n",
              "      <th></th>\n",
              "      <th>user</th>\n",
              "      <th>role</th>\n",
              "      <th>message</th>\n",
              "      <th>groupID</th>\n",
              "      <th>fileID</th>\n",
              "      <th>date</th>\n",
              "      <th>time</th>\n",
              "      <th>seanceID</th>\n",
              "    </tr>\n",
              "    <tr>\n",
              "      <th>messageID</th>\n",
              "      <th></th>\n",
              "      <th></th>\n",
              "      <th></th>\n",
              "      <th></th>\n",
              "      <th></th>\n",
              "      <th></th>\n",
              "      <th></th>\n",
              "      <th></th>\n",
              "    </tr>\n",
              "  </thead>\n",
              "  <tbody>\n",
              "    <tr>\n",
              "      <th>0</th>\n",
              "      <td>186202.0</td>\n",
              "      <td>Navigator</td>\n",
              "      <td>Tu es qui ,</td>\n",
              "      <td>0</td>\n",
              "      <td>023a3090-7b0a-48c4-93f0-c200d9afce41</td>\n",
              "      <td>2024-10-09</td>\n",
              "      <td>04:38:10</td>\n",
              "      <td>1</td>\n",
              "    </tr>\n",
              "    <tr>\n",
              "      <th>1</th>\n",
              "      <td>186202.0</td>\n",
              "      <td>Navigator</td>\n",
              "      <td>On se met 5 partout ok ?</td>\n",
              "      <td>0</td>\n",
              "      <td>023a3090-7b0a-48c4-93f0-c200d9afce41</td>\n",
              "      <td>2024-10-09</td>\n",
              "      <td>04:38:23</td>\n",
              "      <td>1</td>\n",
              "    </tr>\n",
              "    <tr>\n",
              "      <th>2</th>\n",
              "      <td>183897.0</td>\n",
              "      <td>Driver</td>\n",
              "      <td>Opé</td>\n",
              "      <td>1</td>\n",
              "      <td>0435458c-dc49-4094-b970-1db125fc235c</td>\n",
              "      <td>2024-10-09</td>\n",
              "      <td>04:21:22</td>\n",
              "      <td>1</td>\n",
              "    </tr>\n",
              "    <tr>\n",
              "      <th>3</th>\n",
              "      <td>183897.0</td>\n",
              "      <td>Driver</td>\n",
              "      <td>Opé lmkt</td>\n",
              "      <td>1</td>\n",
              "      <td>0435458c-dc49-4094-b970-1db125fc235c</td>\n",
              "      <td>2024-10-09</td>\n",
              "      <td>04:21:39</td>\n",
              "      <td>1</td>\n",
              "    </tr>\n",
              "    <tr>\n",
              "      <th>4</th>\n",
              "      <td>193392.0</td>\n",
              "      <td>Navigator</td>\n",
              "      <td>A PAR SA LE COUZ</td>\n",
              "      <td>1</td>\n",
              "      <td>0435458c-dc49-4094-b970-1db125fc235c</td>\n",
              "      <td>2024-10-09</td>\n",
              "      <td>04:21:46</td>\n",
              "      <td>1</td>\n",
              "    </tr>\n",
              "  </tbody>\n",
              "</table>\n",
              "</div>"
            ],
            "text/plain": [
              "               user       role                   message  groupID  \\\n",
              "messageID                                                           \n",
              "0          186202.0  Navigator               Tu es qui ,        0   \n",
              "1          186202.0  Navigator  On se met 5 partout ok ?        0   \n",
              "2          183897.0     Driver                       Opé        1   \n",
              "3          183897.0     Driver                  Opé lmkt        1   \n",
              "4          193392.0  Navigator         A PAR SA LE COUZ         1   \n",
              "\n",
              "                                         fileID        date      time  \\\n",
              "messageID                                                               \n",
              "0          023a3090-7b0a-48c4-93f0-c200d9afce41  2024-10-09  04:38:10   \n",
              "1          023a3090-7b0a-48c4-93f0-c200d9afce41  2024-10-09  04:38:23   \n",
              "2          0435458c-dc49-4094-b970-1db125fc235c  2024-10-09  04:21:22   \n",
              "3          0435458c-dc49-4094-b970-1db125fc235c  2024-10-09  04:21:39   \n",
              "4          0435458c-dc49-4094-b970-1db125fc235c  2024-10-09  04:21:46   \n",
              "\n",
              "           seanceID  \n",
              "messageID            \n",
              "0                 1  \n",
              "1                 1  \n",
              "2                 1  \n",
              "3                 1  \n",
              "4                 1  "
            ]
          },
          "execution_count": 209,
          "metadata": {},
          "output_type": "execute_result"
        }
      ],
      "source": [
        "#Ajout d'une séance colonne pour différencier les séances\n",
        "seance1_df['seanceID'] = 1\n",
        "seance1_df.head(5)"
      ]
    },
    {
      "cell_type": "code",
      "execution_count": 210,
      "metadata": {},
      "outputs": [
        {
          "data": {
            "text/html": [
              "<div>\n",
              "<style scoped>\n",
              "    .dataframe tbody tr th:only-of-type {\n",
              "        vertical-align: middle;\n",
              "    }\n",
              "\n",
              "    .dataframe tbody tr th {\n",
              "        vertical-align: top;\n",
              "    }\n",
              "\n",
              "    .dataframe thead th {\n",
              "        text-align: right;\n",
              "    }\n",
              "</style>\n",
              "<table border=\"1\" class=\"dataframe\">\n",
              "  <thead>\n",
              "    <tr style=\"text-align: right;\">\n",
              "      <th></th>\n",
              "      <th>groupID</th>\n",
              "      <th>fileID</th>\n",
              "      <th>user</th>\n",
              "      <th>role</th>\n",
              "      <th>message</th>\n",
              "      <th>date</th>\n",
              "      <th>time</th>\n",
              "      <th>seanceID</th>\n",
              "    </tr>\n",
              "    <tr>\n",
              "      <th>messageID</th>\n",
              "      <th></th>\n",
              "      <th></th>\n",
              "      <th></th>\n",
              "      <th></th>\n",
              "      <th></th>\n",
              "      <th></th>\n",
              "      <th></th>\n",
              "      <th></th>\n",
              "    </tr>\n",
              "  </thead>\n",
              "  <tbody>\n",
              "    <tr>\n",
              "      <th>0</th>\n",
              "      <td>1</td>\n",
              "      <td>00c09563-99f4-42da-9346-d73355a9b8d9</td>\n",
              "      <td>183337.0</td>\n",
              "      <td>Driver</td>\n",
              "      <td>bonjour</td>\n",
              "      <td>2024-11-12</td>\n",
              "      <td>04:30:24</td>\n",
              "      <td>2</td>\n",
              "    </tr>\n",
              "    <tr>\n",
              "      <th>1</th>\n",
              "      <td>1</td>\n",
              "      <td>00c09563-99f4-42da-9346-d73355a9b8d9</td>\n",
              "      <td>145133.0</td>\n",
              "      <td>Navigator</td>\n",
              "      <td>bonjour</td>\n",
              "      <td>2024-11-12</td>\n",
              "      <td>04:30:44</td>\n",
              "      <td>2</td>\n",
              "    </tr>\n",
              "    <tr>\n",
              "      <th>2</th>\n",
              "      <td>1</td>\n",
              "      <td>00c09563-99f4-42da-9346-d73355a9b8d9</td>\n",
              "      <td>145133.0</td>\n",
              "      <td>Navigator</td>\n",
              "      <td>tu es bloqué?</td>\n",
              "      <td>2024-11-12</td>\n",
              "      <td>04:36:03</td>\n",
              "      <td>2</td>\n",
              "    </tr>\n",
              "    <tr>\n",
              "      <th>3</th>\n",
              "      <td>1</td>\n",
              "      <td>00c09563-99f4-42da-9346-d73355a9b8d9</td>\n",
              "      <td>145133.0</td>\n",
              "      <td>Navigator</td>\n",
              "      <td>hésite pas si t'as une idée</td>\n",
              "      <td>2024-11-12</td>\n",
              "      <td>04:39:50</td>\n",
              "      <td>2</td>\n",
              "    </tr>\n",
              "    <tr>\n",
              "      <th>4</th>\n",
              "      <td>1</td>\n",
              "      <td>00c09563-99f4-42da-9346-d73355a9b8d9</td>\n",
              "      <td>183337.0</td>\n",
              "      <td>Driver</td>\n",
              "      <td>ok</td>\n",
              "      <td>2024-11-12</td>\n",
              "      <td>04:40:06</td>\n",
              "      <td>2</td>\n",
              "    </tr>\n",
              "  </tbody>\n",
              "</table>\n",
              "</div>"
            ],
            "text/plain": [
              "           groupID                                fileID      user       role  \\\n",
              "messageID                                                                       \n",
              "0                1  00c09563-99f4-42da-9346-d73355a9b8d9  183337.0     Driver   \n",
              "1                1  00c09563-99f4-42da-9346-d73355a9b8d9  145133.0  Navigator   \n",
              "2                1  00c09563-99f4-42da-9346-d73355a9b8d9  145133.0  Navigator   \n",
              "3                1  00c09563-99f4-42da-9346-d73355a9b8d9  145133.0  Navigator   \n",
              "4                1  00c09563-99f4-42da-9346-d73355a9b8d9  183337.0     Driver   \n",
              "\n",
              "                               message        date      time  seanceID  \n",
              "messageID                                                               \n",
              "0                             bonjour   2024-11-12  04:30:24         2  \n",
              "1                              bonjour  2024-11-12  04:30:44         2  \n",
              "2                        tu es bloqué?  2024-11-12  04:36:03         2  \n",
              "3          hésite pas si t'as une idée  2024-11-12  04:39:50         2  \n",
              "4                                  ok   2024-11-12  04:40:06         2  "
            ]
          },
          "execution_count": 210,
          "metadata": {},
          "output_type": "execute_result"
        }
      ],
      "source": [
        "seance2_df['seanceID'] = 2\n",
        "seance2_df.head(5)"
      ]
    },
    {
      "cell_type": "code",
      "execution_count": 211,
      "metadata": {},
      "outputs": [
        {
          "data": {
            "text/html": [
              "<div>\n",
              "<style scoped>\n",
              "    .dataframe tbody tr th:only-of-type {\n",
              "        vertical-align: middle;\n",
              "    }\n",
              "\n",
              "    .dataframe tbody tr th {\n",
              "        vertical-align: top;\n",
              "    }\n",
              "\n",
              "    .dataframe thead th {\n",
              "        text-align: right;\n",
              "    }\n",
              "</style>\n",
              "<table border=\"1\" class=\"dataframe\">\n",
              "  <thead>\n",
              "    <tr style=\"text-align: right;\">\n",
              "      <th></th>\n",
              "      <th>user</th>\n",
              "      <th>role</th>\n",
              "      <th>message</th>\n",
              "      <th>groupID</th>\n",
              "      <th>fileID</th>\n",
              "      <th>date</th>\n",
              "      <th>time</th>\n",
              "      <th>seanceID</th>\n",
              "    </tr>\n",
              "    <tr>\n",
              "      <th>messageID</th>\n",
              "      <th></th>\n",
              "      <th></th>\n",
              "      <th></th>\n",
              "      <th></th>\n",
              "      <th></th>\n",
              "      <th></th>\n",
              "      <th></th>\n",
              "      <th></th>\n",
              "    </tr>\n",
              "  </thead>\n",
              "  <tbody>\n",
              "    <tr>\n",
              "      <th>0</th>\n",
              "      <td>186202.0</td>\n",
              "      <td>Navigator</td>\n",
              "      <td>Tu es qui ,</td>\n",
              "      <td>0</td>\n",
              "      <td>023a3090-7b0a-48c4-93f0-c200d9afce41</td>\n",
              "      <td>2024-10-09</td>\n",
              "      <td>04:38:10</td>\n",
              "      <td>1</td>\n",
              "    </tr>\n",
              "    <tr>\n",
              "      <th>1</th>\n",
              "      <td>186202.0</td>\n",
              "      <td>Navigator</td>\n",
              "      <td>On se met 5 partout ok ?</td>\n",
              "      <td>0</td>\n",
              "      <td>023a3090-7b0a-48c4-93f0-c200d9afce41</td>\n",
              "      <td>2024-10-09</td>\n",
              "      <td>04:38:23</td>\n",
              "      <td>1</td>\n",
              "    </tr>\n",
              "    <tr>\n",
              "      <th>2</th>\n",
              "      <td>183897.0</td>\n",
              "      <td>Driver</td>\n",
              "      <td>Opé</td>\n",
              "      <td>1</td>\n",
              "      <td>0435458c-dc49-4094-b970-1db125fc235c</td>\n",
              "      <td>2024-10-09</td>\n",
              "      <td>04:21:22</td>\n",
              "      <td>1</td>\n",
              "    </tr>\n",
              "    <tr>\n",
              "      <th>3</th>\n",
              "      <td>183897.0</td>\n",
              "      <td>Driver</td>\n",
              "      <td>Opé lmkt</td>\n",
              "      <td>1</td>\n",
              "      <td>0435458c-dc49-4094-b970-1db125fc235c</td>\n",
              "      <td>2024-10-09</td>\n",
              "      <td>04:21:39</td>\n",
              "      <td>1</td>\n",
              "    </tr>\n",
              "    <tr>\n",
              "      <th>4</th>\n",
              "      <td>193392.0</td>\n",
              "      <td>Navigator</td>\n",
              "      <td>A PAR SA LE COUZ</td>\n",
              "      <td>1</td>\n",
              "      <td>0435458c-dc49-4094-b970-1db125fc235c</td>\n",
              "      <td>2024-10-09</td>\n",
              "      <td>04:21:46</td>\n",
              "      <td>1</td>\n",
              "    </tr>\n",
              "    <tr>\n",
              "      <th>...</th>\n",
              "      <td>...</td>\n",
              "      <td>...</td>\n",
              "      <td>...</td>\n",
              "      <td>...</td>\n",
              "      <td>...</td>\n",
              "      <td>...</td>\n",
              "      <td>...</td>\n",
              "      <td>...</td>\n",
              "    </tr>\n",
              "    <tr>\n",
              "      <th>1750</th>\n",
              "      <td>144245.0</td>\n",
              "      <td>Navigator</td>\n",
              "      <td>c'est bon</td>\n",
              "      <td>81</td>\n",
              "      <td>fbe22b37-299a-4851-a4a0-c2f152bc835f</td>\n",
              "      <td>2024-11-12</td>\n",
              "      <td>04:48:02</td>\n",
              "      <td>2</td>\n",
              "    </tr>\n",
              "    <tr>\n",
              "      <th>1751</th>\n",
              "      <td>192807.0</td>\n",
              "      <td>Driver</td>\n",
              "      <td>A la base, ce n'est pas total non ?</td>\n",
              "      <td>81</td>\n",
              "      <td>fbe22b37-299a-4851-a4a0-c2f152bc835f</td>\n",
              "      <td>2024-11-12</td>\n",
              "      <td>04:48:09</td>\n",
              "      <td>2</td>\n",
              "    </tr>\n",
              "    <tr>\n",
              "      <th>1752</th>\n",
              "      <td>192807.0</td>\n",
              "      <td>Driver</td>\n",
              "      <td>Tu voulais tous les mettre total non ?</td>\n",
              "      <td>81</td>\n",
              "      <td>fbe22b37-299a-4851-a4a0-c2f152bc835f</td>\n",
              "      <td>2024-11-12</td>\n",
              "      <td>04:49:41</td>\n",
              "      <td>2</td>\n",
              "    </tr>\n",
              "    <tr>\n",
              "      <th>1753</th>\n",
              "      <td>192807.0</td>\n",
              "      <td>Driver</td>\n",
              "      <td>Sais-tu pourquoi il y a une erreur ?</td>\n",
              "      <td>81</td>\n",
              "      <td>fbe22b37-299a-4851-a4a0-c2f152bc835f</td>\n",
              "      <td>2024-11-12</td>\n",
              "      <td>05:00:20</td>\n",
              "      <td>2</td>\n",
              "    </tr>\n",
              "    <tr>\n",
              "      <th>1754</th>\n",
              "      <td>144245.0</td>\n",
              "      <td>Navigator</td>\n",
              "      <td>c'est bon</td>\n",
              "      <td>81</td>\n",
              "      <td>fbe22b37-299a-4851-a4a0-c2f152bc835f</td>\n",
              "      <td>2024-11-12</td>\n",
              "      <td>05:11:26</td>\n",
              "      <td>2</td>\n",
              "    </tr>\n",
              "  </tbody>\n",
              "</table>\n",
              "<p>1755 rows × 8 columns</p>\n",
              "</div>"
            ],
            "text/plain": [
              "               user       role                                 message  \\\n",
              "messageID                                                                \n",
              "0          186202.0  Navigator                             Tu es qui ,   \n",
              "1          186202.0  Navigator                On se met 5 partout ok ?   \n",
              "2          183897.0     Driver                                     Opé   \n",
              "3          183897.0     Driver                                Opé lmkt   \n",
              "4          193392.0  Navigator                       A PAR SA LE COUZ    \n",
              "...             ...        ...                                     ...   \n",
              "1750       144245.0  Navigator                               c'est bon   \n",
              "1751       192807.0     Driver     A la base, ce n'est pas total non ?   \n",
              "1752       192807.0     Driver  Tu voulais tous les mettre total non ?   \n",
              "1753       192807.0     Driver    Sais-tu pourquoi il y a une erreur ?   \n",
              "1754       144245.0  Navigator                               c'est bon   \n",
              "\n",
              "           groupID                                fileID        date  \\\n",
              "messageID                                                              \n",
              "0                0  023a3090-7b0a-48c4-93f0-c200d9afce41  2024-10-09   \n",
              "1                0  023a3090-7b0a-48c4-93f0-c200d9afce41  2024-10-09   \n",
              "2                1  0435458c-dc49-4094-b970-1db125fc235c  2024-10-09   \n",
              "3                1  0435458c-dc49-4094-b970-1db125fc235c  2024-10-09   \n",
              "4                1  0435458c-dc49-4094-b970-1db125fc235c  2024-10-09   \n",
              "...            ...                                   ...         ...   \n",
              "1750            81  fbe22b37-299a-4851-a4a0-c2f152bc835f  2024-11-12   \n",
              "1751            81  fbe22b37-299a-4851-a4a0-c2f152bc835f  2024-11-12   \n",
              "1752            81  fbe22b37-299a-4851-a4a0-c2f152bc835f  2024-11-12   \n",
              "1753            81  fbe22b37-299a-4851-a4a0-c2f152bc835f  2024-11-12   \n",
              "1754            81  fbe22b37-299a-4851-a4a0-c2f152bc835f  2024-11-12   \n",
              "\n",
              "               time  seanceID  \n",
              "messageID                      \n",
              "0          04:38:10         1  \n",
              "1          04:38:23         1  \n",
              "2          04:21:22         1  \n",
              "3          04:21:39         1  \n",
              "4          04:21:46         1  \n",
              "...             ...       ...  \n",
              "1750       04:48:02         2  \n",
              "1751       04:48:09         2  \n",
              "1752       04:49:41         2  \n",
              "1753       05:00:20         2  \n",
              "1754       05:11:26         2  \n",
              "\n",
              "[1755 rows x 8 columns]"
            ]
          },
          "execution_count": 211,
          "metadata": {},
          "output_type": "execute_result"
        }
      ],
      "source": [
        "all_messages_df = pd.concat([seance1_df,seance2_df],axis = 0,ignore_index = True)\n",
        "all_messages_df.index.names=['messageID']\n",
        "#print(all_messages_df.head(5),all_messages_df.tail(5))\n",
        "all_messages_df"
      ]
    },
    {
      "cell_type": "code",
      "execution_count": 214,
      "metadata": {},
      "outputs": [],
      "source": [
        "all_messages_df.to_csv('all_messages.csv',date_format='%Y%m%d') #vérifier ordre date + attention symbole de séparation ligne 1 virgule"
      ]
    },
    {
      "cell_type": "markdown",
      "metadata": {},
      "source": [
        "### Truncated SVD -- LSA (Latent Semantic Analysis)"
      ]
    },
    {
      "cell_type": "code",
      "execution_count": 215,
      "metadata": {
        "colab": {
          "base_uri": "https://localhost:8080/"
        },
        "id": "sOSGca_DADbE",
        "outputId": "ab802235-2449-4584-d0ad-f47919e988b9"
      },
      "outputs": [
        {
          "name": "stdout",
          "output_type": "stream",
          "text": [
            "440\n",
            "1315\n"
          ]
        }
      ],
      "source": [
        "#Messages sous forme de tableau\n",
        "seance1_msg = seance1_df['message'].values #Récupère les valeurs de la colonne message et en fait une liste\n",
        "print(len(seance1_msg))\n",
        "#print(seance1_msg)\n",
        "seance2_msg = seance2_df['message'].values #Récupère les valeurs de la colonne message et en fait une liste\n",
        "print(len(seance2_msg))\n",
        "#print(seance2_msg)"
      ]
    },
    {
      "cell_type": "code",
      "execution_count": 76,
      "metadata": {
        "id": "L7Z_ST7_zSt_"
      },
      "outputs": [
        {
          "name": "stdout",
          "output_type": "stream",
          "text": [
            "['ces', 'eusses', 'aurions', 'fussiez', 'dans', 'eues', 'on', 'eue', 'aurez', 'ton', 'eussiez', 'avait', 'serai', 'fûmes', 'ayante', 'aux', 'étaient', 'furent', 'avais', 'un', 'ou', 'eussent', 'fut', 'eurent', 'il', 'aurait', 'mes', 'qu', 'par', 'toi', 'me', 'fût', 'eux', 'avons', 'seriez', 'suis', 'ma', 'aies', 'étant', 'au', 'ce', 'du', 'eut', 'se', 'des', 'eu', 'eûtes', 'en', 'ils', 'aurons', 'votre', 'vous', 'seras', 'sur', 'étions', 'auriez', 'que', 'aient', 'nous', 'aviez', 'je', 'c', 'aura', 'le', 'ayez', 'es', 'serait', 'avions', 'l', 'as', 'étais', 'ta', 'notre', 'étée', 'serais', 'te', 'mais', 'serez', 'y', 'son', 'tes', 'à', 'était', 'serons', 'qui', 'soit', 'avec', 'étées', 'avaient', 's', 'eusse', 'fûtes', 't', 'aurais', 'êtes', 'fusse', 'soient', 'de', 'eus', 'étantes', 'fussions', 'avez', 'étante', 'ses', 'et', 'fus', 'auras', 'été', 'serions', 'soyons', 'ayants', 'eussions', 'ait', 'mon', 'la', 'fusses', 'nos', 'sa', 'fussent', 'auraient', 'moi', 'eûmes', 'est', 'ayant', 'seraient', 'étiez', 'j', 'soyez', 'n', 'sois', 'sera', 'aurai', 'elle', 'étants', 'ayantes', 'étés', 'ai', 'tu', 'vos', 'auront', 'pas', 'sommes', 'leur', 'eût', 'seront', 'ont', 'd', 'même', 'une', 'les', 'm', 'pour', 'aie', 'ne', 'lui', 'ayons', 'sont']\n"
          ]
        }
      ],
      "source": [
        "tokenizer = RegexpTokenizer(r'\\b\\w{3,}\\b') #garde les mots d'au moins trois lettres, avec dans les mots soit des lettres, soit des chiffres (pas de caractères spéciaux)\n",
        "stop_words = list(set(stopwords.words(\"french\"))) #On enlève les mots communs sans interêt en français ; on garde ceux en anglais car indique probablement du code\n",
        "print(stop_words)\n",
        "stop_words += list(string.punctuation)"
      ]
    },
    {
      "cell_type": "code",
      "execution_count": 77,
      "metadata": {
        "colab": {
          "base_uri": "https://localhost:8080/",
          "height": 147
        },
        "id": "AT-s8eNEzTtR",
        "outputId": "b8bf80ec-ab29-4df5-e80e-f4c0d2ba9694"
      },
      "outputs": [
        {
          "name": "stdout",
          "output_type": "stream",
          "text": [
            "Shape : (440, 20)\n"
          ]
        },
        {
          "name": "stderr",
          "output_type": "stream",
          "text": [
            "c:\\Users\\cbd65\\anaconda3\\envs\\jupyterenv\\lib\\site-packages\\sklearn\\feature_extraction\\text.py:517: UserWarning: The parameter 'token_pattern' will not be used since 'tokenizer' is not None'\n",
            "  warnings.warn(\n"
          ]
        },
        {
          "data": {
            "text/html": [
              "<div>\n",
              "<style scoped>\n",
              "    .dataframe tbody tr th:only-of-type {\n",
              "        vertical-align: middle;\n",
              "    }\n",
              "\n",
              "    .dataframe tbody tr th {\n",
              "        vertical-align: top;\n",
              "    }\n",
              "\n",
              "    .dataframe thead th {\n",
              "        text-align: right;\n",
              "    }\n",
              "</style>\n",
              "<table border=\"1\" class=\"dataframe\">\n",
              "  <thead>\n",
              "    <tr style=\"text-align: right;\">\n",
              "      <th></th>\n",
              "      <th>activité</th>\n",
              "      <th>bah</th>\n",
              "      <th>bon</th>\n",
              "      <th>comment</th>\n",
              "      <th>faire</th>\n",
              "      <th>fais</th>\n",
              "      <th>fait</th>\n",
              "      <th>faut</th>\n",
              "      <th>fini</th>\n",
              "      <th>main</th>\n",
              "      <th>non</th>\n",
              "      <th>ouais</th>\n",
              "      <th>oui</th>\n",
              "      <th>peux</th>\n",
              "      <th>quoi</th>\n",
              "      <th>sais</th>\n",
              "      <th>salut</th>\n",
              "      <th>tableau</th>\n",
              "      <th>veux</th>\n",
              "      <th>vois</th>\n",
              "    </tr>\n",
              "  </thead>\n",
              "  <tbody>\n",
              "    <tr>\n",
              "      <th>0</th>\n",
              "      <td>0.0</td>\n",
              "      <td>0.0</td>\n",
              "      <td>0.0</td>\n",
              "      <td>0.0</td>\n",
              "      <td>0.0</td>\n",
              "      <td>0.0</td>\n",
              "      <td>0.0</td>\n",
              "      <td>0.0</td>\n",
              "      <td>0.0</td>\n",
              "      <td>0.0</td>\n",
              "      <td>0.0</td>\n",
              "      <td>0.0</td>\n",
              "      <td>0.0</td>\n",
              "      <td>0.0</td>\n",
              "      <td>0.0</td>\n",
              "      <td>0.0</td>\n",
              "      <td>0.0</td>\n",
              "      <td>0.0</td>\n",
              "      <td>0.0</td>\n",
              "      <td>0.0</td>\n",
              "    </tr>\n",
              "    <tr>\n",
              "      <th>1</th>\n",
              "      <td>0.0</td>\n",
              "      <td>0.0</td>\n",
              "      <td>0.0</td>\n",
              "      <td>0.0</td>\n",
              "      <td>0.0</td>\n",
              "      <td>0.0</td>\n",
              "      <td>0.0</td>\n",
              "      <td>0.0</td>\n",
              "      <td>0.0</td>\n",
              "      <td>0.0</td>\n",
              "      <td>0.0</td>\n",
              "      <td>0.0</td>\n",
              "      <td>0.0</td>\n",
              "      <td>0.0</td>\n",
              "      <td>0.0</td>\n",
              "      <td>0.0</td>\n",
              "      <td>0.0</td>\n",
              "      <td>0.0</td>\n",
              "      <td>0.0</td>\n",
              "      <td>0.0</td>\n",
              "    </tr>\n",
              "  </tbody>\n",
              "</table>\n",
              "</div>"
            ],
            "text/plain": [
              "   activité  bah  bon  comment  faire  fais  fait  faut  fini  main  non  \\\n",
              "0       0.0  0.0  0.0      0.0    0.0   0.0   0.0   0.0   0.0   0.0  0.0   \n",
              "1       0.0  0.0  0.0      0.0    0.0   0.0   0.0   0.0   0.0   0.0  0.0   \n",
              "\n",
              "   ouais  oui  peux  quoi  sais  salut  tableau  veux  vois  \n",
              "0    0.0  0.0   0.0   0.0   0.0    0.0      0.0   0.0   0.0  \n",
              "1    0.0  0.0   0.0   0.0   0.0    0.0      0.0   0.0   0.0  "
            ]
          },
          "execution_count": 77,
          "metadata": {},
          "output_type": "execute_result"
        }
      ],
      "source": [
        "#tf-idf = Term Frequency Inverse Document Frequency of records\n",
        "#tf = term frequency\n",
        "#idf = inverse codument frequency (les mots les plus communs dans les documents semblent moins significatifs)\n",
        "tfidf = TfidfVectorizer(lowercase=True, #Convertir tous les caractères en lowercase avant de tokenize\n",
        "                        stop_words=stop_words,\n",
        "                        tokenizer=tokenizer.tokenize,\n",
        "                        max_df=0.7, #ignore les items ayant une fréquence supérieure à x\n",
        "                        min_df=0.015 #ignore les items ayant une fréquence inférieure à x\n",
        "                       )\n",
        "\n",
        "tfidf_train_sparse = tfidf.fit_transform(seance1_msg) # equivalent à fit puis transform : fit entraine le modèle, transform applique le modele sur le dataset\n",
        "#Crée un DF avec les résultats\n",
        "tfidf_train_df = pd.DataFrame(tfidf_train_sparse.toarray(), #transforme une matrice en tableau 2D\n",
        "                        columns=tfidf.get_feature_names_out()) #get output feature names for transfomation = les mots // les noms des colonnes ?\n",
        "\n",
        "print('Shape :',tfidf_train_df.shape)\n",
        "tfidf_train_df.head(2)"
      ]
    },
    {
      "cell_type": "code",
      "execution_count": 78,
      "metadata": {
        "id": "N-Dn1m6FyqxW"
      },
      "outputs": [
        {
          "name": "stdout",
          "output_type": "stream",
          "text": [
            "V_T shape :  (20, 20)\n"
          ]
        }
      ],
      "source": [
        "#Transforme la matrice du dessus en une autre plus réduite en utilisant la décomposition en valeurs singulières A = U * Sigma * V_T.\n",
        "\n",
        "#n_components = dimension de l'output (100 recommendé pour LSA, doit être <= au nombre de features)\n",
        "lsa_obj = TruncatedSVD(n_components=20, n_iter=100, random_state=42)\n",
        "tfidf_lsa_data = lsa_obj.fit_transform(tfidf_train_df)\n",
        "Sigma = lsa_obj.singular_values_ # Matrice centrale, valeurs correcspondant à chaque composant sélectionné\n",
        "V_T = lsa_obj.components_.T # components_ = vecteurs singuliers de droite de l'input data\n",
        "print(\"V_T shape : \",V_T.shape)"
      ]
    },
    {
      "cell_type": "code",
      "execution_count": 79,
      "metadata": {
        "colab": {
          "base_uri": "https://localhost:8080/",
          "height": 447
        },
        "id": "FoxaNDG52Moo",
        "outputId": "adf3104c-10c0-434f-de44-b61a454d7500"
      },
      "outputs": [
        {
          "data": {
            "image/png": "[encoded data removed]",
            "text/plain": [
              "<Figure size 640x480 with 1 Axes>"
            ]
          },
          "metadata": {},
          "output_type": "display_data"
        }
      ],
      "source": [
        "#Affichage de l'importance de chaque composante\n",
        "axis_object = sns.barplot(x=list(range(len(Sigma))), y = Sigma)\n",
        "plt.xlabel(\"Latent component\")\n",
        "plt.ylabel('Relative importance of each component')\n",
        "plt.title(\"Singluar values\")\n",
        "plt.show(axis_object)"
      ]
    },
    {
      "cell_type": "code",
      "execution_count": 80,
      "metadata": {
        "id": "FIeJ2-Pc2On0"
      },
      "outputs": [
        {
          "data": {
            "text/html": [
              "<div>\n",
              "<style scoped>\n",
              "    .dataframe tbody tr th:only-of-type {\n",
              "        vertical-align: middle;\n",
              "    }\n",
              "\n",
              "    .dataframe tbody tr th {\n",
              "        vertical-align: top;\n",
              "    }\n",
              "\n",
              "    .dataframe thead th {\n",
              "        text-align: right;\n",
              "    }\n",
              "</style>\n",
              "<table border=\"1\" class=\"dataframe\">\n",
              "  <thead>\n",
              "    <tr style=\"text-align: right;\">\n",
              "      <th></th>\n",
              "      <th>Latent_concept_0</th>\n",
              "      <th>Latent_concept_1</th>\n",
              "      <th>Latent_concept_2</th>\n",
              "      <th>Latent_concept_3</th>\n",
              "      <th>Latent_concept_4</th>\n",
              "      <th>Latent_concept_5</th>\n",
              "      <th>Latent_concept_6</th>\n",
              "      <th>Latent_concept_7</th>\n",
              "      <th>Latent_concept_8</th>\n",
              "      <th>Latent_concept_9</th>\n",
              "      <th>Latent_concept_10</th>\n",
              "      <th>Latent_concept_11</th>\n",
              "      <th>Latent_concept_12</th>\n",
              "      <th>Latent_concept_13</th>\n",
              "      <th>Latent_concept_14</th>\n",
              "      <th>Latent_concept_15</th>\n",
              "      <th>Latent_concept_16</th>\n",
              "      <th>Latent_concept_17</th>\n",
              "      <th>Latent_concept_18</th>\n",
              "      <th>Latent_concept_19</th>\n",
              "    </tr>\n",
              "  </thead>\n",
              "  <tbody>\n",
              "    <tr>\n",
              "      <th>activité</th>\n",
              "      <td>0.000565</td>\n",
              "      <td>0.005773</td>\n",
              "      <td>-0.001997</td>\n",
              "      <td>0.004971</td>\n",
              "      <td>0.007559</td>\n",
              "      <td>0.001825</td>\n",
              "      <td>0.034355</td>\n",
              "      <td>-0.018979</td>\n",
              "      <td>-0.026452</td>\n",
              "      <td>0.157994</td>\n",
              "      <td>0.072556</td>\n",
              "      <td>0.456579</td>\n",
              "      <td>0.253099</td>\n",
              "      <td>-0.108628</td>\n",
              "      <td>-0.009893</td>\n",
              "      <td>0.110679</td>\n",
              "      <td>0.003384</td>\n",
              "      <td>-0.008375</td>\n",
              "      <td>0.021835</td>\n",
              "      <td>0.818645</td>\n",
              "    </tr>\n",
              "    <tr>\n",
              "      <th>bah</th>\n",
              "      <td>0.044633</td>\n",
              "      <td>-0.002315</td>\n",
              "      <td>0.002000</td>\n",
              "      <td>-0.007283</td>\n",
              "      <td>0.006878</td>\n",
              "      <td>0.068611</td>\n",
              "      <td>0.082061</td>\n",
              "      <td>-0.023649</td>\n",
              "      <td>-0.019650</td>\n",
              "      <td>-0.007937</td>\n",
              "      <td>-0.000312</td>\n",
              "      <td>-0.030747</td>\n",
              "      <td>-0.002718</td>\n",
              "      <td>0.004739</td>\n",
              "      <td>0.007485</td>\n",
              "      <td>-0.013426</td>\n",
              "      <td>0.002054</td>\n",
              "      <td>-0.171344</td>\n",
              "      <td>0.977119</td>\n",
              "      <td>-0.010550</td>\n",
              "    </tr>\n",
              "    <tr>\n",
              "      <th>bon</th>\n",
              "      <td>0.993513</td>\n",
              "      <td>-0.079948</td>\n",
              "      <td>0.017527</td>\n",
              "      <td>-0.025439</td>\n",
              "      <td>0.017438</td>\n",
              "      <td>-0.028047</td>\n",
              "      <td>0.005579</td>\n",
              "      <td>0.019879</td>\n",
              "      <td>-0.010384</td>\n",
              "      <td>-0.023795</td>\n",
              "      <td>-0.029910</td>\n",
              "      <td>0.010543</td>\n",
              "      <td>0.013555</td>\n",
              "      <td>0.010638</td>\n",
              "      <td>0.001181</td>\n",
              "      <td>-0.006782</td>\n",
              "      <td>0.010668</td>\n",
              "      <td>0.001289</td>\n",
              "      <td>-0.043924</td>\n",
              "      <td>0.000524</td>\n",
              "    </tr>\n",
              "  </tbody>\n",
              "</table>\n",
              "</div>"
            ],
            "text/plain": [
              "          Latent_concept_0  Latent_concept_1  Latent_concept_2  \\\n",
              "activité          0.000565          0.005773         -0.001997   \n",
              "bah               0.044633         -0.002315          0.002000   \n",
              "bon               0.993513         -0.079948          0.017527   \n",
              "\n",
              "          Latent_concept_3  Latent_concept_4  Latent_concept_5  \\\n",
              "activité          0.004971          0.007559          0.001825   \n",
              "bah              -0.007283          0.006878          0.068611   \n",
              "bon              -0.025439          0.017438         -0.028047   \n",
              "\n",
              "          Latent_concept_6  Latent_concept_7  Latent_concept_8  \\\n",
              "activité          0.034355         -0.018979         -0.026452   \n",
              "bah               0.082061         -0.023649         -0.019650   \n",
              "bon               0.005579          0.019879         -0.010384   \n",
              "\n",
              "          Latent_concept_9  Latent_concept_10  Latent_concept_11  \\\n",
              "activité          0.157994           0.072556           0.456579   \n",
              "bah              -0.007937          -0.000312          -0.030747   \n",
              "bon              -0.023795          -0.029910           0.010543   \n",
              "\n",
              "          Latent_concept_12  Latent_concept_13  Latent_concept_14  \\\n",
              "activité           0.253099          -0.108628          -0.009893   \n",
              "bah               -0.002718           0.004739           0.007485   \n",
              "bon                0.013555           0.010638           0.001181   \n",
              "\n",
              "          Latent_concept_15  Latent_concept_16  Latent_concept_17  \\\n",
              "activité           0.110679           0.003384          -0.008375   \n",
              "bah               -0.013426           0.002054          -0.171344   \n",
              "bon               -0.006782           0.010668           0.001289   \n",
              "\n",
              "          Latent_concept_18  Latent_concept_19  \n",
              "activité           0.021835           0.818645  \n",
              "bah                0.977119          -0.010550  \n",
              "bon               -0.043924           0.000524  "
            ]
          },
          "execution_count": 80,
          "metadata": {},
          "output_type": "execute_result"
        }
      ],
      "source": [
        "#Transformation de V_T en DF pour une utilisation plus facile\n",
        "term_topic_matrix = pd.DataFrame(data=V_T,\n",
        "                                 index = tfidf_train_df.columns,\n",
        "                                 columns = [f'Latent_concept_{r}' for r in range(0,V_T.shape[1])])\n",
        "term_topic_matrix.head(3)"
      ]
    },
    {
      "cell_type": "code",
      "execution_count": 263,
      "metadata": {},
      "outputs": [],
      "source": [
        "def visualize_top_bottom_terms_component(matrix,nbComponent):\n",
        "    name_col = 'Latent_concept_'+str(nbComponent)\n",
        "    data = matrix[name_col]\n",
        "    data = data.sort_values(ascending=False)\n",
        "    top_10 = data[:10]\n",
        "    data = data.sort_values(ascending=True)\n",
        "    bottom_10 = data[:10]\n",
        "    #fig,axes = plt.subplots(nrows=1, ncols=2,figsize=(5,5))\n",
        "\n",
        "    plt.subplot(1,2,1)\n",
        "    plt.bar(top_10.index,top_10.values)\n",
        "    plt.xticks(top_10.index, top_10.index, rotation='vertical')\n",
        "    plt.title(\"Top 10\")\n",
        "\n",
        "    plt.subplot(1,2,2)\n",
        "    plt.bar(bottom_10.index,bottom_10.values)\n",
        "    plt.xticks(bottom_10.index, bottom_10.index, rotation=45,ha='center')\n",
        "    plt.title(\"Bottom 10\")\n",
        "\n",
        "    plt.tight_layout()\n",
        "\n",
        "    plt.show()\n"
      ]
    },
    {
      "cell_type": "code",
      "execution_count": 274,
      "metadata": {},
      "outputs": [],
      "source": [
        "def visualize_top_bottom_terms_component(matrix,nbComponent):\n",
        "    name_col = 'Latent_concept_'+str(nbComponent)\n",
        "    data = matrix[name_col]\n",
        "    data = data.sort_values(ascending=False)\n",
        "    top_10 = data[:10]\n",
        "    data = data.sort_values(ascending=True)\n",
        "    bottom_10 = data[:10]\n",
        "    #fig,axes = plt.subplots(nrows=1, ncols=2,figsize=(5,5))\n",
        "\n",
        "    fig, (ax1,ax2) = plt.subplots(1,2)\n",
        "\n",
        "    y_pos = np.arange(len(top_10.index))\n",
        "\n",
        "    ax1.barh(y_pos, top_10.values, align='center')\n",
        "    ax1.set_yticks(y_pos, labels=top_10.index)\n",
        "    ax1.invert_yaxis()  # labels read top-to-bottom\n",
        "    ax1.set_title('Top 10')\n",
        "\n",
        "    #fig, ax = plt.subplots(1,2,2)\n",
        "\n",
        "    y_pos = np.arange(len(bottom_10.index))\n",
        "\n",
        "    ax2.barh(y_pos, bottom_10.values, align='center')\n",
        "    ax2.set_yticks(y_pos, labels=bottom_10.index)\n",
        "    ax2.invert_yaxis()  # labels read top-to-bottom\n",
        "    ax2.set_title('Bottom 10')\n",
        "\n",
        "    plt.tight_layout()\n",
        "    plt.show()\n"
      ]
    },
    {
      "cell_type": "code",
      "execution_count": 275,
      "metadata": {},
      "outputs": [
        {
          "data": {
            "image/png": "[encoded data removed]",
            "text/plain": [
              "<Figure size 640x480 with 2 Axes>"
            ]
          },
          "metadata": {},
          "output_type": "display_data"
        }
      ],
      "source": [
        "visualize_top_bottom_terms_component(term_topic_matrix,1)"
      ]
    },
    {
      "cell_type": "code",
      "execution_count": 265,
      "metadata": {},
      "outputs": [
        {
          "data": {
            "image/png": "[encoded data removed]",
            "text/plain": [
              "<Figure size 640x480 with 1 Axes>"
            ]
          },
          "metadata": {},
          "output_type": "display_data"
        }
      ],
      "source": [
        "import matplotlib.pyplot as plt\n",
        "import numpy as np\n",
        "\n",
        "fig, ax = plt.subplots()\n",
        "\n",
        "# Example data\n",
        "people = ('Tom', 'Dick', 'Harry', 'Slim', 'Jim')\n",
        "y_pos = np.arange(len(people))\n",
        "performance = 3 + 10 * np.random.rand(len(people))\n",
        "error = np.random.rand(len(people))\n",
        "\n",
        "ax.barh(y_pos, performance, xerr=error, align='center')\n",
        "ax.set_yticks(y_pos, labels=people)\n",
        "ax.invert_yaxis()  # labels read top-to-bottom\n",
        "ax.set_xlabel('Performance')\n",
        "ax.set_title('How fast do you want to go today?')\n",
        "\n",
        "plt.show()"
      ]
    },
    {
      "cell_type": "code",
      "execution_count": 220,
      "metadata": {},
      "outputs": [
        {
          "data": {
            "image/png": "[encoded data removed]",
            "text/plain": [
              "<Figure size 640x480 with 1 Axes>"
            ]
          },
          "metadata": {},
          "output_type": "display_data"
        }
      ],
      "source": [
        "data = term_topic_matrix['Latent_concept_1']\n",
        "data = data.sort_values(ascending=False)\n",
        "top_10 = data[:10]\n",
        "plt.title('Top terms along the axis of Latent concept 1')\n",
        "fig = sns.barplot(x= top_10.values, y=top_10.index)"
      ]
    },
    {
      "cell_type": "code",
      "execution_count": 221,
      "metadata": {
        "colab": {
          "base_uri": "https://localhost:8080/",
          "height": 452
        },
        "id": "1RsTw5YA2Vik",
        "outputId": "068504ac-7f46-48de-d66e-8f77e2ff2a1f"
      },
      "outputs": [
        {
          "data": {
            "image/png": "[encoded data removed]",
            "text/plain": [
              "<Figure size 640x480 with 1 Axes>"
            ]
          },
          "metadata": {},
          "output_type": "display_data"
        }
      ],
      "source": [
        "data = term_topic_matrix[f'Latent_concept_1']\n",
        "data = data.sort_values(ascending=False)\n",
        "top_10 = data[:10]\n",
        "plt.title('Top terms along the axis of Latent concept 1')\n",
        "fig = sns.barplot(x= top_10.values, y=top_10.index)"
      ]
    },
    {
      "cell_type": "code",
      "execution_count": 222,
      "metadata": {
        "colab": {
          "base_uri": "https://localhost:8080/",
          "height": 452
        },
        "id": "ttM9XfmMBbP_",
        "outputId": "73e92d93-6c32-49f7-91b1-dd0c7433267e"
      },
      "outputs": [
        {
          "data": {
            "image/png": "[encoded data removed]",
            "text/plain": [
              "<Figure size 640x480 with 1 Axes>"
            ]
          },
          "metadata": {},
          "output_type": "display_data"
        }
      ],
      "source": [
        "data = term_topic_matrix[f'Latent_concept_1']\n",
        "data = data.sort_values(ascending=True)\n",
        "top_10 = data[:10]\n",
        "plt.title('Bottom terms along the axis of Latent concept 1')\n",
        "fig = sns.barplot(x= top_10.values, y=top_10.index)"
      ]
    },
    {
      "cell_type": "code",
      "execution_count": 86,
      "metadata": {
        "colab": {
          "base_uri": "https://localhost:8080/",
          "height": 452
        },
        "id": "vBfuk_-A3CWJ",
        "outputId": "4448752f-a983-43e7-f2f3-5f3a2def07e4"
      },
      "outputs": [
        {
          "data": {
            "image/png": "[encoded data removed]",
            "text/plain": [
              "<Figure size 640x480 with 1 Axes>"
            ]
          },
          "metadata": {},
          "output_type": "display_data"
        }
      ],
      "source": [
        "data = term_topic_matrix[f'Latent_concept_2']\n",
        "data = data.sort_values(ascending=False)\n",
        "top_10 = data[:10]\n",
        "plt.title('Top terms along the axis of Latent concept 2')\n",
        "fig = sns.barplot(x= top_10.values, y=top_10.index)"
      ]
    },
    {
      "cell_type": "code",
      "execution_count": 87,
      "metadata": {
        "colab": {
          "base_uri": "https://localhost:8080/",
          "height": 452
        },
        "id": "kgMGMmbl4fZQ",
        "outputId": "25d4a49e-d6fd-424e-c702-945d731790bb"
      },
      "outputs": [
        {
          "data": {
            "image/png": "[encoded data removed]",
            "text/plain": [
              "<Figure size 640x480 with 1 Axes>"
            ]
          },
          "metadata": {},
          "output_type": "display_data"
        }
      ],
      "source": [
        "data = term_topic_matrix[f'Latent_concept_2']\n",
        "data = data.sort_values(ascending=True)\n",
        "top_10 = data[:10]\n",
        "plt.title('Bottom terms along the axis of Latent concept 2')\n",
        "fig = sns.barplot(x= top_10.values, y=top_10.index)"
      ]
    },
    {
      "cell_type": "code",
      "execution_count": 88,
      "metadata": {
        "colab": {
          "base_uri": "https://localhost:8080/",
          "height": 452
        },
        "id": "V8YgEp6r4HPB",
        "outputId": "1a5f8d69-81ea-4bcf-953a-8e392f506ce9"
      },
      "outputs": [
        {
          "data": {
            "image/png": "[encoded data removed]",
            "text/plain": [
              "<Figure size 640x480 with 1 Axes>"
            ]
          },
          "metadata": {},
          "output_type": "display_data"
        }
      ],
      "source": [
        "data = term_topic_matrix[f'Latent_concept_5']\n",
        "data = data.sort_values(ascending=False)\n",
        "top_10 = data[:10]\n",
        "plt.title('Top terms along the axis of Latent concept 5')\n",
        "fig = sns.barplot(x= top_10.values, y=top_10.index)"
      ]
    },
    {
      "cell_type": "code",
      "execution_count": 89,
      "metadata": {
        "colab": {
          "base_uri": "https://localhost:8080/",
          "height": 452
        },
        "id": "MHmYYXt0B8Db",
        "outputId": "9edb7f8f-602d-4c82-dcff-7db8d4a32d0f"
      },
      "outputs": [
        {
          "data": {
            "image/png": "[encoded data removed]",
            "text/plain": [
              "<Figure size 640x480 with 1 Axes>"
            ]
          },
          "metadata": {},
          "output_type": "display_data"
        }
      ],
      "source": [
        "data = term_topic_matrix[f'Latent_concept_5']\n",
        "data = data.sort_values(ascending=True)\n",
        "top_10 = data[:10]\n",
        "plt.title('Bottom terms along the axis of Latent concept 5')\n",
        "fig = sns.barplot(x= top_10.values, y=top_10.index)"
      ]
    },
    {
      "cell_type": "code",
      "execution_count": null,
      "metadata": {
        "id": "iSmzzfGGJWnQ"
      },
      "outputs": [],
      "source": []
    }
  ],
  "metadata": {
    "colab": {
      "provenance": []
    },
    "kernelspec": {
      "display_name": "jupyterenv",
      "language": "python",
      "name": "python3"
    },
    "language_info": {
      "codemirror_mode": {
        "name": "ipython",
        "version": 3
      },
      "file_extension": ".py",
      "mimetype": "text/x-python",
      "name": "python",
      "nbconvert_exporter": "python",
      "pygments_lexer": "ipython3",
      "version": "3.9.21"
    }
  },
  "nbformat": 4,
  "nbformat_minor": 0
}
