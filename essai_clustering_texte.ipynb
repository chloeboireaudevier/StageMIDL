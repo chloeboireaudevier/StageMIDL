{
  "cells": [
    {
      "cell_type": "markdown",
      "metadata": {},
      "source": [
        "### Imports"
      ]
    },
    {
      "cell_type": "code",
      "execution_count": 2,
      "metadata": {
        "id": "hAFDY1_yg3Aw"
      },
      "outputs": [],
      "source": [
        "import numpy as np\n",
        "import pandas as pd\n",
        "from sklearn.ensemble import RandomForestClassifier\n",
        "from sklearn.model_selection import train_test_split\n",
        "from nltk.corpus import stopwords\n",
        "from nltk.tokenize import RegexpTokenizer\n",
        "import re\n",
        "import nltk\n",
        "import string\n",
        "from sklearn.feature_extraction.text import TfidfVectorizer\n",
        "from sklearn.decomposition import TruncatedSVD\n",
        "import seaborn as sns\n",
        "import matplotlib.pyplot as plt\n",
        "import os\n",
        "import json\n",
        "import pandas as pd"
      ]
    },
    {
      "cell_type": "code",
      "execution_count": 3,
      "metadata": {},
      "outputs": [],
      "source": [
        "#A ne pas executer si déjà téléchargés\n",
        "#nltk.download('stopwords')\n",
        "#nltk.download('punkt')\n",
        "#nltk.download('wordnet')"
      ]
    },
    {
      "cell_type": "markdown",
      "metadata": {
        "id": "AuPtbcKkLJcs"
      },
      "source": [
        "### Test avec fetch20newsgroup"
      ]
    },
    {
      "cell_type": "code",
      "execution_count": 4,
      "metadata": {
        "colab": {
          "base_uri": "https://localhost:8080/"
        },
        "collapsed": true,
        "id": "n3YGT1NQg6tf",
        "outputId": "0a6f9790-dded-40fb-a9ed-ee94666b38e8"
      },
      "outputs": [
        {
          "data": {
            "text/plain": [
              "\"from sklearn.datasets import fetch_20newsgroups\\nX_train, y_train = fetch_20newsgroups(subset='train', return_X_y=True)\\nX_test, y_test = fetch_20newsgroups(subset='test', return_X_y=True)\\nX_train\""
            ]
          },
          "execution_count": 4,
          "metadata": {},
          "output_type": "execute_result"
        }
      ],
      "source": [
        "'''from sklearn.datasets import fetch_20newsgroups\n",
        "X_train, y_train = fetch_20newsgroups(subset='train', return_X_y=True)\n",
        "X_test, y_test = fetch_20newsgroups(subset='test', return_X_y=True)\n",
        "X_train'''"
      ]
    },
    {
      "cell_type": "code",
      "execution_count": 5,
      "metadata": {
        "colab": {
          "base_uri": "https://localhost:8080/",
          "height": 0
        },
        "collapsed": true,
        "id": "iZZYrqjDhIJT",
        "outputId": "9b6b16d2-d32d-44eb-abff-d0198f4bf89f"
      },
      "outputs": [],
      "source": [
        "#X_train[0]"
      ]
    },
    {
      "cell_type": "markdown",
      "metadata": {
        "id": "mPGMquYcLQeR"
      },
      "source": [
        "### Test, traitement, récupération des traces"
      ]
    },
    {
      "cell_type": "code",
      "execution_count": 6,
      "metadata": {
        "colab": {
          "base_uri": "https://localhost:8080/",
          "height": 112
        },
        "id": "9Xpl5osthTdw",
        "outputId": "0a6700de-c682-42b1-f92b-26794cd7320f"
      },
      "outputs": [],
      "source": [
        "data_1 = pd.read_json('Data\\messages_chat_seance1\\exportChatMessage\\\\0dfd43cb-9957-4102-954a-899ca075e56d.json')\n",
        "data_2 = pd.read_json('Data\\messages_chat_seance1\\exportChatMessage\\\\1db9dee2-2702-457f-aa07-6b60589446ce.json')\n",
        "data_3 = pd.read_json('Data\\messages_chat_seance1\\exportChatMessage\\\\2ccf746f-62b9-4690-8bff-59c49fb2c310.json')"
      ]
    },
    {
      "cell_type": "markdown",
      "metadata": {},
      "source": [
        "Recupérer ici la fin du fichier : seance 1 ne regroupe que 3 messages :: mettre dans seance 1 tous les messages de la seance 1\n",
        "creer csv avec toutes les données : seance + nomfichier comme id."
      ]
    },
    {
      "cell_type": "code",
      "execution_count": 7,
      "metadata": {
        "colab": {
          "base_uri": "https://localhost:8080/",
          "height": 81
        },
        "id": "j5g13LAjjOX6",
        "outputId": "8a5d071b-6da0-4c0e-8f2d-47032acf28d3"
      },
      "outputs": [
        {
          "data": {
            "text/html": [
              "<div>\n",
              "<style scoped>\n",
              "    .dataframe tbody tr th:only-of-type {\n",
              "        vertical-align: middle;\n",
              "    }\n",
              "\n",
              "    .dataframe tbody tr th {\n",
              "        vertical-align: top;\n",
              "    }\n",
              "\n",
              "    .dataframe thead th {\n",
              "        text-align: right;\n",
              "    }\n",
              "</style>\n",
              "<table border=\"1\" class=\"dataframe\">\n",
              "  <thead>\n",
              "    <tr style=\"text-align: right;\">\n",
              "      <th></th>\n",
              "      <th>user</th>\n",
              "      <th>role</th>\n",
              "      <th>message</th>\n",
              "      <th>timestamp</th>\n",
              "    </tr>\n",
              "  </thead>\n",
              "  <tbody>\n",
              "    <tr>\n",
              "      <th>0</th>\n",
              "      <td>194872</td>\n",
              "      <td>Driver</td>\n",
              "      <td>roro</td>\n",
              "      <td>2024-10-09 04:24:09.074000+00:00</td>\n",
              "    </tr>\n",
              "    <tr>\n",
              "      <th>1</th>\n",
              "      <td>194872</td>\n",
              "      <td>Driver</td>\n",
              "      <td>Qui est là</td>\n",
              "      <td>2024-10-09 04:27:03.939000+00:00</td>\n",
              "    </tr>\n",
              "    <tr>\n",
              "      <th>2</th>\n",
              "      <td>145797</td>\n",
              "      <td>Driver</td>\n",
              "      <td>Bonjour</td>\n",
              "      <td>2024-10-09 04:22:52.924000+00:00</td>\n",
              "    </tr>\n",
              "    <tr>\n",
              "      <th>3</th>\n",
              "      <td>200807</td>\n",
              "      <td>Navigator</td>\n",
              "      <td>Bonjour</td>\n",
              "      <td>2024-10-09 04:24:14.448000+00:00</td>\n",
              "    </tr>\n",
              "    <tr>\n",
              "      <th>4</th>\n",
              "      <td>145797</td>\n",
              "      <td>Driver</td>\n",
              "      <td>tu pense si je fais un for in in range avec un...</td>\n",
              "      <td>2024-10-09 04:25:31.692000+00:00</td>\n",
              "    </tr>\n",
              "  </tbody>\n",
              "</table>\n",
              "</div>"
            ],
            "text/plain": [
              "     user       role                                            message  \\\n",
              "0  194872     Driver                                               roro   \n",
              "1  194872     Driver                                         Qui est là   \n",
              "2  145797     Driver                                            Bonjour   \n",
              "3  200807  Navigator                                            Bonjour   \n",
              "4  145797     Driver  tu pense si je fais un for in in range avec un...   \n",
              "\n",
              "                         timestamp  \n",
              "0 2024-10-09 04:24:09.074000+00:00  \n",
              "1 2024-10-09 04:27:03.939000+00:00  \n",
              "2 2024-10-09 04:22:52.924000+00:00  \n",
              "3 2024-10-09 04:24:14.448000+00:00  \n",
              "4 2024-10-09 04:25:31.692000+00:00  "
            ]
          },
          "execution_count": 7,
          "metadata": {},
          "output_type": "execute_result"
        }
      ],
      "source": [
        "# Gros df avec les 3 données\n",
        "messages_df = pd.concat([data_1,data_2,data_3],axis = 0)\n",
        "messages_df.reset_index(drop=True, inplace=True) #Créer un id ? Plus tard, quand mesure d'impact -> nécessité de tracer\n",
        "messages_df.head(5)"
      ]
    },
    {
      "cell_type": "code",
      "execution_count": 58,
      "metadata": {},
      "outputs": [],
      "source": [
        "def parse_json_files_in_folder(folder_path):\n",
        "    \"\"\"\n",
        "    Parses all JSON files in a folder and concatenates them into a pandas DataFrame.\n",
        "\n",
        "    Args:\n",
        "        folder_path (str): The path to the folder containing the JSON files.\n",
        "\n",
        "    Returns:\n",
        "        pandas.DataFrame: A DataFrame containing the concatenated data from all JSON files.\n",
        "    \"\"\"\n",
        "    all_data = []\n",
        "    groupid = 0 #find a way to add group id\n",
        "    for filename in os.listdir(folder_path):\n",
        "        if filename.endswith(\".json\"):\n",
        "            filepath = os.path.join(folder_path, filename)\n",
        "            with open(filepath, 'r') as f:\n",
        "                data = json.load(f)\n",
        "                print(data)\n",
        "                all_data.extend(data)  # Assuming each JSON file contains a list of dictionaries\n",
        "\n",
        "    return pd.DataFrame(all_data)"
      ]
    },
    {
      "cell_type": "code",
      "execution_count": 59,
      "metadata": {},
      "outputs": [
        {
          "name": "stdout",
          "output_type": "stream",
          "text": [
            "[{'user': '186202', 'role': 'Navigator', 'message': 'Tu es qui ,', 'timestamp': '2024-10-09T04:38:10.418Z'}, {'user': '186202', 'role': 'Navigator', 'message': 'On se met 5 partout ok ?', 'timestamp': '2024-10-09T04:38:23.761Z'}]\n",
            "[{'user': '183897', 'role': 'Driver', 'message': 'Opé', 'timestamp': '2024-10-09T04:21:22.214Z'}, {'user': '183897', 'role': 'Driver', 'message': 'Opé lmkt', 'timestamp': '2024-10-09T04:21:39.982Z'}, {'user': '193392', 'role': 'Navigator', 'message': 'A PAR SA LE COUZ ', 'timestamp': '2024-10-09T04:21:46.552Z'}, {'user': '183897', 'role': 'Driver', 'message': 'Opé ', 'timestamp': '2024-10-09T04:25:11.271Z'}, {'user': '183897', 'role': 'Driver', 'message': 'Ou lé jolie ? ', 'timestamp': '2024-10-09T04:26:09.319Z'}, {'user': '183897', 'role': 'Driver', 'message': 'A ou ', 'timestamp': '2024-10-09T04:26:41.181Z'}, {'user': '183897', 'role': 'Driver', 'message': 'Commencé ', 'timestamp': '2024-10-09T04:26:43.332Z'}, {'user': '183897', 'role': 'Driver', 'message': 'Comment nous fé la ', 'timestamp': '2024-10-09T04:27:23.322Z'}, {'user': '183897', 'role': 'Driver', 'message': \"c'est kwé faut fait \", 'timestamp': '2024-10-09T04:27:43.687Z'}, {'user': '183897', 'role': 'Driver', 'message': 'Lève ton main un coup la ', 'timestamp': '2024-10-09T04:28:43.494Z'}, {'user': '183897', 'role': 'Driver', 'message': 'aide a moins un coup la ', 'timestamp': '2024-10-09T04:31:04.184Z'}]\n",
            "[{'user': '194872', 'role': 'Driver', 'message': 'roro', 'timestamp': '2024-10-09T04:24:09.074Z'}, {'user': '194872', 'role': 'Driver', 'message': 'Qui est là', 'timestamp': '2024-10-09T04:27:03.939Z'}]\n",
            "[{'user': '197872', 'role': 'Navigator', 'message': 'je ne sais pas comment voir le résultat ', 'timestamp': '2024-10-09T04:30:29.870Z'}, {'user': '154957', 'role': 'Driver', 'message': 'faut mettre print(coincide)', 'timestamp': '2024-10-09T04:31:08.005Z'}, {'user': '197872', 'role': 'Navigator', 'message': 'essaye', 'timestamp': '2024-10-09T04:31:39.412Z'}, {'user': '154957', 'role': 'Driver', 'message': 'attend', 'timestamp': '2024-10-09T04:31:53.491Z'}, {'user': '197872', 'role': 'Navigator', 'message': \"je crois que c'est bon\", 'timestamp': '2024-10-09T04:35:00.365Z'}]\n",
            "[{'user': '145797', 'role': 'Driver', 'message': 'Bonjour', 'timestamp': '2024-10-09T04:22:52.924Z'}, {'user': '200807', 'role': 'Navigator', 'message': 'Bonjour', 'timestamp': '2024-10-09T04:24:14.448Z'}, {'user': '145797', 'role': 'Driver', 'message': 'tu pense si je fais un for in in range avec un for j in range dedans ça peut marcher? ', 'timestamp': '2024-10-09T04:25:31.692Z'}, {'user': '200807', 'role': 'Navigator', 'message': 'oui ', 'timestamp': '2024-10-09T04:26:10.059Z'}, {'user': '145797', 'role': 'Driver', 'message': 'tu veux editer?', 'timestamp': '2024-10-09T04:27:23.061Z'}, {'user': '200807', 'role': 'Navigator', 'message': 'comme tu veux', 'timestamp': '2024-10-09T04:27:32.020Z'}, {'user': '145797', 'role': 'Driver', 'message': 'je teste si ça marche pas on echange', 'timestamp': '2024-10-09T04:27:53.546Z'}, {'user': '200807', 'role': 'Navigator', 'message': 'vsy ', 'timestamp': '2024-10-09T04:28:04.354Z'}, {'user': '200807', 'role': 'Navigator', 'message': 'en vrai c\\'est pas mieux de faire un \"if len(a) != len(b)\"', 'timestamp': '2024-10-09T04:28:50.777Z'}, {'user': '145797', 'role': 'Driver', 'message': 'tu veux teste?', 'timestamp': '2024-10-09T04:29:08.237Z'}, {'user': '145797', 'role': 'Driver', 'message': \"demande l'édition\", 'timestamp': '2024-10-09T04:29:19.619Z'}, {'user': '200807', 'role': 'Navigator', 'message': 'vsy je teste le code', 'timestamp': '2024-10-09T04:29:23.119Z'}, {'user': '200807', 'role': 'Navigator', 'message': \"quand je teste le code il me disent y'a des erreurs de type\", 'timestamp': '2024-10-09T04:30:08.573Z'}, {'user': '200807', 'role': 'Navigator', 'message': 'pour int', 'timestamp': '2024-10-09T04:30:22.074Z'}, {'user': '200807', 'role': 'Navigator', 'message': 'je sais pas pk', 'timestamp': '2024-10-09T04:30:27.447Z'}, {'user': '145797', 'role': 'Driver', 'message': 'demande a éditer je te passe la main tu teste ce que tu as dis', 'timestamp': '2024-10-09T04:30:36.268Z'}, {'user': '200807', 'role': 'Navigator', 'message': \"vsy je sauvegarde juste le ocde que t'a déja fait\", 'timestamp': '2024-10-09T04:30:59.312Z'}, {'user': '145797', 'role': 'Driver', 'message': 'ok', 'timestamp': '2024-10-09T04:31:05.907Z'}, {'user': '200807', 'role': 'Navigator', 'message': 'je supprime', 'timestamp': '2024-10-09T04:31:32.058Z'}, {'user': '145797', 'role': 'Driver', 'message': \"c bon t'as la main\", 'timestamp': '2024-10-09T04:31:57.880Z'}, {'user': '200807', 'role': 'Navigator', 'message': \"je crois c'est bon , je suis pas sur\", 'timestamp': '2024-10-09T04:35:00.492Z'}, {'user': '200807', 'role': 'Navigator', 'message': 'tu peux tester?', 'timestamp': '2024-10-09T04:35:02.642Z'}, {'user': '145797', 'role': 'Driver', 'message': \"il y a des erreurs sur plusieurs lignes mais le dernier j'ai pas\", 'timestamp': '2024-10-09T04:36:39.645Z'}, {'user': '145797', 'role': 'Driver', 'message': 'sur le return positions', 'timestamp': '2024-10-09T04:36:53.830Z'}, {'user': '145797', 'role': 'Driver', 'message': \"on fini l'activité ducoup?\", 'timestamp': '2024-10-09T04:37:09.805Z'}]\n",
            "[{'user': '183337', 'role': 'Driver', 'message': 'Il y a quelqun', 'timestamp': '2024-10-09T04:25:21.204Z'}, {'user': '153597', 'role': 'Navigator', 'message': 'oui', 'timestamp': '2024-10-09T04:25:36.708Z'}]\n",
            "[]\n",
            "[{'user': '199277', 'role': 'Driver', 'message': 'Yo!', 'timestamp': '2024-10-09T04:26:37.621Z'}, {'user': '182622', 'role': 'Navigator', 'message': 'OUI', 'timestamp': '2024-10-09T04:27:20.462Z'}, {'user': '182622', 'role': 'Navigator', 'message': ',????', 'timestamp': '2024-10-09T04:28:58.198Z'}, {'user': '199277', 'role': 'Driver', 'message': 'Oui', 'timestamp': '2024-10-09T04:29:03.267Z'}, {'user': '182622', 'role': 'Navigator', 'message': \"C'est bon pour toi\", 'timestamp': '2024-10-09T04:29:13.402Z'}, {'user': '199277', 'role': 'Driver', 'message': \"C'est bon\", 'timestamp': '2024-10-09T04:29:47.359Z'}, {'user': '199277', 'role': 'Driver', 'message': 'Est ce que faut vérifié si les listes sont de la même longueur ?', 'timestamp': '2024-10-09T04:30:31.733Z'}, {'user': '182622', 'role': 'Navigator', 'message': 'def coincide(tableau1, tableau2):     # On s\\'assure que les deux tableaux ont la même longueur     if len(tableau1) != len(tableau2):         return []      # On crée un tableau vide pour stocker les indices où les éléments sont identiques     result = []          # On parcourt les deux tableaux et on compare les éléments     for i in range(len(tableau1)):         if tableau1[i] == tableau2[i]:             result.append(i)      return result  # Exemples d\\'utilisation : print(coincide([78, 23, 12, 12, 54, 32], [67, 23, 44, 12, 54, 32]))  # [1, 3, 4, 5] print(coincide([\"antoine\", \"isaac\", \"denis\"], [\"jeanne\", \"sofiane\", \"lise\"]))  # []', 'timestamp': '2024-10-09T04:30:42.983Z'}, {'user': '199277', 'role': 'Driver', 'message': 'okok  je vois', 'timestamp': '2024-10-09T04:31:47.558Z'}, {'user': '199277', 'role': 'Driver', 'message': 'nickel!', 'timestamp': '2024-10-09T04:32:01.157Z'}, {'user': '182622', 'role': 'Navigator', 'message': 'je te donne la main', 'timestamp': '2024-10-09T04:32:08.819Z'}, {'user': '199277', 'role': 'Driver', 'message': 'Merci!', 'timestamp': '2024-10-09T04:32:13.328Z'}, {'user': '199277', 'role': 'Driver', 'message': 'je met en commentaire mon morceau', 'timestamp': '2024-10-09T04:32:22.396Z'}, {'user': '182622', 'role': 'Navigator', 'message': 'ok', 'timestamp': '2024-10-09T04:32:29.428Z'}, {'user': '182622', 'role': 'Navigator', 'message': 'complete le tableau', 'timestamp': '2024-10-09T04:33:41.494Z'}, {'user': '199277', 'role': 'Driver', 'message': \"wait, quand j'exécute ca fonctionne pas\", 'timestamp': '2024-10-09T04:34:27.846Z'}, {'user': '199277', 'role': 'Driver', 'message': \"je te donne la main, j'ai pas compris ce que tu m'as dit\", 'timestamp': '2024-10-09T04:34:36.263Z'}, {'user': '182622', 'role': 'Navigator', 'message': \"att c'est noramal\", 'timestamp': '2024-10-09T04:34:43.795Z'}, {'user': '199277', 'role': 'Driver', 'message': 'ca bug, je peut plus donner la main', 'timestamp': '2024-10-09T04:35:10.678Z'}, {'user': '199277', 'role': 'Driver', 'message': 'hummm! regarde ca', 'timestamp': '2024-10-09T04:35:25.053Z'}, {'user': '199277', 'role': 'Driver', 'message': 'bon je sais pas pourquoi', 'timestamp': '2024-10-09T04:35:53.964Z'}, {'user': '199277', 'role': 'Driver', 'message': '', 'timestamp': '2024-10-09T04:35:59.648Z'}, {'user': '182622', 'role': 'Navigator', 'message': 'accepte', 'timestamp': '2024-10-09T04:36:10.379Z'}, {'user': '199277', 'role': 'Driver', 'message': 'ok', 'timestamp': '2024-10-09T04:36:21.806Z'}, {'user': '199277', 'role': 'Driver', 'message': 'ta pas besoin du return  []', 'timestamp': '2024-10-09T04:37:01.896Z'}, {'user': '199277', 'role': 'Driver', 'message': 'bon on termine, tkt', 'timestamp': '2024-10-09T04:37:20.001Z'}, {'user': '182622', 'role': 'Navigator', 'message': \"c'est ok \", 'timestamp': '2024-10-09T04:39:04.328Z'}, {'user': '182622', 'role': 'Navigator', 'message': 'on fini', 'timestamp': '2024-10-09T04:39:08.054Z'}]\n",
            "[]\n",
            "[{'user': '189372', 'role': 'Driver', 'message': 'salut', 'timestamp': '2024-10-09T04:28:45.483Z'}, {'user': '185497', 'role': 'Navigator', 'message': 'salut ', 'timestamp': '2024-10-09T04:29:07.857Z'}, {'user': '185497', 'role': 'Navigator', 'message': 'tu sais coder ou pas dutout ? ', 'timestamp': '2024-10-09T04:29:17.700Z'}, {'user': '189372', 'role': 'Driver', 'message': \"pas forcément, j'ai juste la base des bases\", 'timestamp': '2024-10-09T04:29:49.174Z'}, {'user': '185497', 'role': 'Navigator', 'message': 'okay ', 'timestamp': '2024-10-09T04:30:05.673Z'}, {'user': '185497', 'role': 'Navigator', 'message': 'et la ta compris un peu le contexte ? ', 'timestamp': '2024-10-09T04:30:17.263Z'}, {'user': '189372', 'role': 'Driver', 'message': \"je sais qu''il faut implémenter le tableau pour l'utiliser dans la fonction coincide\", 'timestamp': '2024-10-09T04:31:08.184Z'}, {'user': '185497', 'role': 'Navigator', 'message': 'masi tkt si tu sais pas faire je vais faire ', 'timestamp': '2024-10-09T04:31:38.292Z'}, {'user': '189372', 'role': 'Driver', 'message': 'maintenant je vois ce qui est demandé', 'timestamp': '2024-10-09T04:34:37.202Z'}, {'user': '185497', 'role': 'Navigator', 'message': 'ben je te laisse modifier si tu veux parce que je suis un peu perdu la ', 'timestamp': '2024-10-09T04:35:54.083Z'}]\n",
            "[{'user': '182567', 'role': 'Driver', 'message': 'salut', 'timestamp': '2024-10-09T04:35:26.412Z'}]\n",
            "[{'user': '188087', 'role': 'Navigator', 'message': 'yo ', 'timestamp': '2024-10-09T04:22:57.252Z'}, {'user': '188087', 'role': 'Navigator', 'message': 'yo ', 'timestamp': '2024-10-09T04:35:21.240Z'}]\n",
            "[{'user': '154957', 'role': 'Driver', 'message': 'Hello !!!', 'timestamp': '2024-10-09T04:19:13.226Z'}]\n",
            "[]\n",
            "[{'user': '133905', 'role': 'Navigator', 'message': 'Test', 'timestamp': '2024-10-09T04:27:04.562Z'}, {'user': '133905', 'role': 'Navigator', 'message': 'Chef ta la notif ?', 'timestamp': '2024-10-09T04:29:31.880Z'}, {'user': '194277', 'role': 'Driver', 'message': 'sisi', 'timestamp': '2024-10-09T04:29:39.329Z'}, {'user': '133905', 'role': 'Navigator', 'message': 'Ok Nice', 'timestamp': '2024-10-09T04:29:51.788Z'}, {'user': '133905', 'role': 'Navigator', 'message': 'Chef ??', 'timestamp': '2024-10-09T04:32:23.202Z'}, {'user': '194277', 'role': 'Driver', 'message': '??', 'timestamp': '2024-10-09T04:32:58.955Z'}, {'user': '133905', 'role': 'Navigator', 'message': 'Ta eu une deco en dirait', 'timestamp': '2024-10-09T04:33:16.578Z'}, {'user': '194277', 'role': 'Driver', 'message': 'comment ca', 'timestamp': '2024-10-09T04:33:26.622Z'}, {'user': '133905', 'role': 'Navigator', 'message': 'Je sais ça écris', 'timestamp': '2024-10-09T04:33:39.830Z'}, {'user': '133905', 'role': 'Navigator', 'message': 'Ça', 'timestamp': '2024-10-09T04:33:42.037Z'}, {'user': '133905', 'role': 'Navigator', 'message': 'C t', 'timestamp': '2024-10-09T04:33:44.810Z'}, {'user': '194277', 'role': 'Driver', 'message': 'non meme pas hein ', 'timestamp': '2024-10-09T04:34:11.811Z'}, {'user': '133905', 'role': 'Navigator', 'message': 'hmm Ça doit être ça ', 'timestamp': '2024-10-09T04:35:27.130Z'}, {'user': '194277', 'role': 'Driver', 'message': 'jai meme pas deco', 'timestamp': '2024-10-09T04:35:55.098Z'}, {'user': '133905', 'role': 'Navigator', 'message': 'C pas grave', 'timestamp': '2024-10-09T04:36:37.921Z'}, {'user': '194277', 'role': 'Driver', 'message': 'tu fais quelque chose ?', 'timestamp': '2024-10-09T04:36:55.244Z'}, {'user': '133905', 'role': 'Navigator', 'message': 'La c fini non ?', 'timestamp': '2024-10-09T04:37:04.930Z'}]\n",
            "[{'user': '184187', 'role': 'Driver', 'message': \"ya quelqu'un ?\", 'timestamp': '2024-10-09T04:25:51.495Z'}, {'user': '103277', 'role': 'Navigator', 'message': 'oui je suis la !', 'timestamp': '2024-10-09T04:26:28.346Z'}, {'user': '103277', 'role': 'Navigator', 'message': 'ça va ?', 'timestamp': '2024-10-09T04:26:52.724Z'}, {'user': '184187', 'role': 'Driver', 'message': 'ouais tranquille', 'timestamp': '2024-10-09T04:27:31.731Z'}, {'user': '103277', 'role': 'Navigator', 'message': \"sache que pour t'aider a codé ça va être compliqué\", 'timestamp': '2024-10-09T04:29:02.633Z'}, {'user': '184187', 'role': 'Driver', 'message': 'comment sa :(', 'timestamp': '2024-10-09T04:29:41.296Z'}, {'user': '103277', 'role': 'Navigator', 'message': 'je comprend rien ', 'timestamp': '2024-10-09T04:30:23.320Z'}, {'user': '184187', 'role': 'Driver', 'message': 'ah merde ', 'timestamp': '2024-10-09T04:30:30.877Z'}, {'user': '184187', 'role': 'Driver', 'message': 'bah le code est bon ', 'timestamp': '2024-10-09T04:30:35.868Z'}, {'user': '184187', 'role': 'Driver', 'message': \"si tu veux que je t'explique un truc\", 'timestamp': '2024-10-09T04:31:03.269Z'}, {'user': '103277', 'role': 'Navigator', 'message': \"ah t'a fini ?\", 'timestamp': '2024-10-09T04:31:13.937Z'}, {'user': '103277', 'role': 'Navigator', 'message': 'wesh tu va grave vite', 'timestamp': '2024-10-09T04:31:24.230Z'}, {'user': '184187', 'role': 'Driver', 'message': 'oui :)', 'timestamp': '2024-10-09T04:31:28.380Z'}, {'user': '103277', 'role': 'Navigator', 'message': 'bah gg :)', 'timestamp': '2024-10-09T04:31:58.930Z'}, {'user': '184187', 'role': 'Driver', 'message': 'nice', 'timestamp': '2024-10-09T04:32:04.865Z'}, {'user': '184187', 'role': 'Driver', 'message': 'nice', 'timestamp': '2024-10-09T04:35:19.411Z'}, {'user': '103277', 'role': 'Navigator', 'message': 'bah gg :)', 'timestamp': '2024-10-09T04:35:26.004Z'}]\n",
            "[{'user': '141845', 'role': 'Driver', 'message': 'stp tu peux faire, parce que je sais pas trop programmer', 'timestamp': '2024-10-07T06:41:50.310Z'}, {'user': '156001', 'role': 'Navigator', 'message': 'pareille mais essaye sur chat à tout moment ça passe ', 'timestamp': '2024-10-07T06:42:42.118Z'}, {'user': '141845', 'role': 'Driver', 'message': \"d'accord\", 'timestamp': '2024-10-07T06:43:42.492Z'}, {'user': '156001', 'role': 'Navigator', 'message': \"t'es vers dans la salle \", 'timestamp': '2024-10-07T06:43:57.250Z'}, {'user': '156001', 'role': 'Navigator', 'message': 'alors ça donne quoi ', 'timestamp': '2024-10-07T06:46:38.708Z'}, {'user': '141845', 'role': 'Driver', 'message': 'tout devant ', 'timestamp': '2024-10-07T06:47:40.782Z'}, {'user': '156001', 'role': 'Navigator', 'message': 'alors ça donne quoi ', 'timestamp': '2024-10-07T06:49:14.568Z'}, {'user': '141845', 'role': 'Driver', 'message': 'tout devant ', 'timestamp': '2024-10-07T06:49:14.789Z'}, {'user': '141845', 'role': 'Driver', 'message': \"j'essaye encore\", 'timestamp': '2024-10-07T06:50:01.769Z'}, {'user': '156001', 'role': 'Navigator', 'message': \"d'acccord vas y essaye de faire de ton mieux \", 'timestamp': '2024-10-07T06:50:36.257Z'}]\n",
            "[]\n",
            "[{'user': '194587', 'role': 'Driver', 'message': 'SLT SLT', 'timestamp': '2024-10-07T06:37:52.976Z'}, {'user': '194587', 'role': 'Driver', 'message': 'tg', 'timestamp': '2024-10-07T06:41:15.324Z'}, {'user': '194587', 'role': 'Driver', 'message': 'deso ', 'timestamp': '2024-10-07T06:41:17.688Z'}, {'user': '194587', 'role': 'Driver', 'message': \"c'est pas moi\", 'timestamp': '2024-10-07T06:41:21.219Z'}, {'user': '194587', 'role': 'Driver', 'message': '#help', 'timestamp': '2024-10-07T06:53:06.104Z'}, {'user': '194587', 'role': 'Driver', 'message': '#help', 'timestamp': '2024-10-07T06:53:07.035Z'}]\n",
            "[{'user': '177441', 'role': 'Navigator', 'message': 'coucou', 'timestamp': '2024-10-09T04:26:27.472Z'}, {'user': '177041', 'role': 'Driver', 'message': 'BONJOUR', 'timestamp': '2024-10-09T04:27:21.235Z'}]\n",
            "[{'user': '184697', 'role': 'Navigator', 'message': 'salut', 'timestamp': '2024-10-09T04:18:00.343Z'}]\n",
            "[{'user': '194872', 'role': 'Driver', 'message': 'salut', 'timestamp': '2024-10-08T13:05:29.657Z'}, {'user': '184897', 'role': 'Navigator', 'message': 'yo ', 'timestamp': '2024-10-08T13:05:37.424Z'}, {'user': '194872', 'role': 'Driver', 'message': 'ça va', 'timestamp': '2024-10-08T13:05:39.047Z'}, {'user': '194872', 'role': 'Driver', 'message': 'ça va', 'timestamp': '2024-10-08T13:20:59.855Z'}]\n",
            "[{'user': '194277', 'role': 'Driver', 'message': 'wshhh', 'timestamp': '2024-10-09T04:19:29.448Z'}, {'user': '145133', 'role': 'Navigator', 'message': 'slt', 'timestamp': '2024-10-09T04:19:39.048Z'}, {'user': '194277', 'role': 'Driver', 'message': 'ca va ?', 'timestamp': '2024-10-09T04:19:54.095Z'}, {'user': '145133', 'role': 'Navigator', 'message': 'oui et toi?', 'timestamp': '2024-10-09T04:20:05.708Z'}, {'user': '194277', 'role': 'Driver', 'message': 'trkl leve la main la xD ', 'timestamp': '2024-10-09T04:20:26.580Z'}, {'user': '145133', 'role': 'Navigator', 'message': 'pourquoi faire', 'timestamp': '2024-10-09T04:20:45.457Z'}, {'user': '194277', 'role': 'Driver', 'message': 'voir tes qui le s', 'timestamp': '2024-10-09T04:21:06.490Z'}, {'user': '194277', 'role': 'Driver', 'message': '', 'timestamp': '2024-10-09T04:21:36.828Z'}, {'user': '145133', 'role': 'Navigator', 'message': \"t'as une idéee\", 'timestamp': '2024-10-09T04:28:57.808Z'}, {'user': '145133', 'role': 'Navigator', 'message': \"j'ai plus d'idée\", 'timestamp': '2024-10-09T04:31:13.131Z'}]\n",
            "[]\n",
            "[]\n",
            "[{'user': '192807', 'role': 'Navigator', 'message': 'Utilise append pour ajouter un élément dans une liste', 'timestamp': '2024-10-09T04:26:13.366Z'}, {'user': '192807', 'role': 'Navigator', 'message': 'Utilise append pour ajouter un élément dans une liste', 'timestamp': '2024-10-09T04:35:31.039Z'}]\n",
            "[]\n",
            "[{'user': '192267', 'role': 'Navigator', 'message': \"Je suis nulle je m'excuse d'avance pour mon icompétence\", 'timestamp': '2024-10-09T04:23:56.107Z'}, {'user': '205262', 'role': 'Driver', 'message': \"ce n'est pas grave on vas essayer pour y arriver  \", 'timestamp': '2024-10-09T04:24:53.640Z'}, {'user': '192267', 'role': 'Navigator', 'message': 'commence', 'timestamp': '2024-10-09T04:26:08.551Z'}, {'user': '205262', 'role': 'Driver', 'message': 'mais par quoi ?', 'timestamp': '2024-10-09T04:26:39.470Z'}, {'user': '205262', 'role': 'Driver', 'message': 'ah je vois ok', 'timestamp': '2024-10-09T04:27:01.554Z'}, {'user': '205262', 'role': 'Driver', 'message': 'att une seconde tu es une fille ?', 'timestamp': '2024-10-09T04:27:21.073Z'}, {'user': '192267', 'role': 'Navigator', 'message': 'oui ?', 'timestamp': '2024-10-09T04:27:29.337Z'}, {'user': '205262', 'role': 'Driver', 'message': \"ah d'accord\", 'timestamp': '2024-10-09T04:27:38.690Z'}, {'user': '192267', 'role': 'Navigator', 'message': \"j'ai fais 2ans de NSI au cas me sous estime pas trop\", 'timestamp': '2024-10-09T04:27:54.297Z'}, {'user': '205262', 'role': 'Driver', 'message': \"bon vas y aller progressivement pour l'exo\", 'timestamp': '2024-10-09T04:27:57.995Z'}, {'user': '192267', 'role': 'Navigator', 'message': 'au cas où*', 'timestamp': '2024-10-09T04:28:02.666Z'}, {'user': '205262', 'role': 'Driver', 'message': \"d'accord ne t'inquite pas je suis du même cas \", 'timestamp': '2024-10-09T04:28:30.065Z'}, {'user': '192267', 'role': 'Navigator', 'message': 'commence gros ou laisse moi la main', 'timestamp': '2024-10-09T04:28:44.401Z'}, {'user': '205262', 'role': 'Driver', 'message': 'je te laisse la main si tu veut ', 'timestamp': '2024-10-09T04:28:58.895Z'}, {'user': '205262', 'role': 'Driver', 'message': 'ok pour le début ça commence bien ', 'timestamp': '2024-10-09T04:30:15.087Z'}, {'user': '192267', 'role': 'Navigator', 'message': 'je réfléchis par quoi commencé, si tu sais : fais', 'timestamp': '2024-10-09T04:30:51.448Z'}, {'user': '205262', 'role': 'Driver', 'message': \"mais il faut que l'on parcours les deux tableaux \", 'timestamp': '2024-10-09T04:31:28.797Z'}, {'user': '205262', 'role': 'Driver', 'message': 'et tu as raison pour le tableau vide', 'timestamp': '2024-10-09T04:31:43.737Z'}, {'user': '192267', 'role': 'Navigator', 'message': \"t'as récupérer la main\", 'timestamp': '2024-10-09T04:32:20.928Z'}, {'user': '205262', 'role': 'Driver', 'message': 'ok', 'timestamp': '2024-10-09T04:32:26.706Z'}, {'user': '192267', 'role': 'Navigator', 'message': 'continue', 'timestamp': '2024-10-09T04:32:29.088Z'}, {'user': '192267', 'role': 'Navigator', 'message': '', 'timestamp': '2024-10-09T04:32:29.526Z'}, {'user': '192267', 'role': 'Navigator', 'message': '', 'timestamp': '2024-10-09T04:32:29.589Z'}, {'user': '192267', 'role': 'Navigator', 'message': '', 'timestamp': '2024-10-09T04:32:29.602Z'}, {'user': '192267', 'role': 'Navigator', 'message': '', 'timestamp': '2024-10-09T04:32:29.636Z'}, {'user': '192267', 'role': 'Navigator', 'message': '', 'timestamp': '2024-10-09T04:32:29.752Z'}, {'user': '192267', 'role': 'Navigator', 'message': '', 'timestamp': '2024-10-09T04:32:29.754Z'}, {'user': '192267', 'role': 'Navigator', 'message': '', 'timestamp': '2024-10-09T04:32:29.771Z'}, {'user': '192267', 'role': 'Navigator', 'message': '', 'timestamp': '2024-10-09T04:32:29.784Z'}, {'user': '192267', 'role': 'Navigator', 'message': '', 'timestamp': '2024-10-09T04:32:29.799Z'}, {'user': '192267', 'role': 'Navigator', 'message': '', 'timestamp': '2024-10-09T04:32:29.816Z'}, {'user': '192267', 'role': 'Navigator', 'message': '', 'timestamp': '2024-10-09T04:32:29.837Z'}, {'user': '192267', 'role': 'Navigator', 'message': '', 'timestamp': '2024-10-09T04:32:29.852Z'}, {'user': '192267', 'role': 'Navigator', 'message': '', 'timestamp': '2024-10-09T04:32:29.859Z'}, {'user': '192267', 'role': 'Navigator', 'message': '', 'timestamp': '2024-10-09T04:32:30.163Z'}, {'user': '192267', 'role': 'Navigator', 'message': '', 'timestamp': '2024-10-09T04:32:30.180Z'}, {'user': '192267', 'role': 'Navigator', 'message': '', 'timestamp': '2024-10-09T04:32:30.191Z'}, {'user': '192267', 'role': 'Navigator', 'message': '', 'timestamp': '2024-10-09T04:32:30.205Z'}, {'user': '192267', 'role': 'Navigator', 'message': 'oups', 'timestamp': '2024-10-09T04:32:32.344Z'}, {'user': '205262', 'role': 'Driver', 'message': 'pg', 'timestamp': '2024-10-09T04:32:38.624Z'}, {'user': '205262', 'role': 'Driver', 'message': \"il faudrait que 'on prenne l'indice\", 'timestamp': '2024-10-09T04:34:25.958Z'}, {'user': '192267', 'role': 'Navigator', 'message': \"c'est i l'indice\", 'timestamp': '2024-10-09T04:34:43.979Z'}, {'user': '205262', 'role': 'Driver', 'message': \"et qu'il soit mis dans egal\", 'timestamp': '2024-10-09T04:34:50.404Z'}, {'user': '205262', 'role': 'Driver', 'message': 'oui', 'timestamp': '2024-10-09T04:35:01.637Z'}, {'user': '192267', 'role': 'Navigator', 'message': 'vsy je fais', 'timestamp': '2024-10-09T04:35:06.862Z'}, {'user': '205262', 'role': 'Driver', 'message': 'ok', 'timestamp': '2024-10-09T04:35:18.935Z'}, {'user': '205262', 'role': 'Driver', 'message': 'copie colle', 'timestamp': '2024-10-09T04:36:25.933Z'}, {'user': '192267', 'role': 'Navigator', 'message': 'de quoi ?', 'timestamp': '2024-10-09T04:36:34.794Z'}, {'user': '205262', 'role': 'Driver', 'message': 'non laisse tomber', 'timestamp': '2024-10-09T04:36:48.109Z'}, {'user': '205262', 'role': 'Driver', 'message': 'ja', 'timestamp': '2024-10-09T04:36:50.222Z'}, {'user': '205262', 'role': 'Driver', 'message': \"j'allais de proposer de copier coller mais non\", 'timestamp': '2024-10-09T04:37:09.275Z'}, {'user': '192267', 'role': 'Navigator', 'message': \"on fini l'activité ducoup?\", 'timestamp': '2024-10-09T04:37:51.409Z'}, {'user': '205262', 'role': 'Driver', 'message': 'ok', 'timestamp': '2024-10-09T04:37:58.873Z'}]\n",
            "[{'user': '190642', 'role': 'Navigator', 'message': 't puissant en info ?', 'timestamp': '2024-10-07T06:41:39.730Z'}, {'user': '183107', 'role': 'Driver', 'message': 'non jsuis pas puissant ', 'timestamp': '2024-10-07T06:41:51.106Z'}, {'user': '190642', 'role': 'Navigator', 'message': '😂', 'timestamp': '2024-10-07T06:42:50.660Z'}, {'user': '183107', 'role': 'Driver', 'message': ' toi t puissant en info ?', 'timestamp': '2024-10-07T06:45:39.279Z'}, {'user': '190642', 'role': 'Navigator', 'message': 'nn je suis eclater', 'timestamp': '2024-10-07T06:46:03.720Z'}, {'user': '183107', 'role': 'Driver', 'message': \"tu vois cque j'écris la ?\", 'timestamp': '2024-10-07T06:47:38.337Z'}, {'user': '183107', 'role': 'Driver', 'message': 'dans le éditeur', 'timestamp': '2024-10-07T06:47:42.642Z'}, {'user': '190642', 'role': 'Navigator', 'message': 'ouai', 'timestamp': '2024-10-07T06:48:12.138Z'}, {'user': '183107', 'role': 'Driver', 'message': 'écrit un truc pour voir si jvois', 'timestamp': '2024-10-07T06:48:25.409Z'}, {'user': '190642', 'role': 'Navigator', 'message': 't qui leve toi pour voir 😂', 'timestamp': '2024-10-07T06:48:37.606Z'}, {'user': '183107', 'role': 'Driver', 'message': 't ou dans la salle?', 'timestamp': '2024-10-07T06:49:11.932Z'}, {'user': '190642', 'role': 'Navigator', 'message': 'ta un t-shirt vert ?', 'timestamp': '2024-10-07T06:49:16.220Z'}, {'user': '183107', 'role': 'Driver', 'message': 'ouais c moi', 'timestamp': '2024-10-07T06:49:21.110Z'}, {'user': '183107', 'role': 'Driver', 'message': 'toi t qui ?', 'timestamp': '2024-10-07T06:49:23.831Z'}, {'user': '190642', 'role': 'Navigator', 'message': 'au fond ', 'timestamp': '2024-10-07T06:49:29.319Z'}, {'user': '190642', 'role': 'Navigator', 'message': '😂 😂 😂 pk ta donner la main attend', 'timestamp': '2024-10-07T06:50:24.852Z'}, {'user': '183107', 'role': 'Driver', 'message': 'ta demandé ', 'timestamp': '2024-10-07T06:50:40.041Z'}, {'user': '190642', 'role': 'Navigator', 'message': 'ct pas moi c le moukate de tar scooter moi 😂', 'timestamp': '2024-10-07T06:50:57.407Z'}, {'user': '183107', 'role': 'Driver', 'message': 't puissant quand meme', 'timestamp': '2024-10-07T06:52:29.613Z'}, {'user': '190642', 'role': 'Navigator', 'message': 'nn je copier sur mon pote 😂', 'timestamp': '2024-10-07T06:53:11.000Z'}, {'user': '190642', 'role': 'Navigator', 'message': 'je fais finir moi ', 'timestamp': '2024-10-07T06:53:50.939Z'}]\n",
            "[{'user': '158073', 'role': 'Driver', 'message': '^^', 'timestamp': '2024-10-09T04:23:13.241Z'}, {'user': '184232', 'role': 'Navigator', 'message': 'Merde j’ai oublié qu’on etait 2', 'timestamp': '2024-10-09T04:27:12.991Z'}, {'user': '158073', 'role': 'Driver', 'message': 'pas grave ', 'timestamp': '2024-10-09T04:27:24.162Z'}, {'user': '158073', 'role': 'Driver', 'message': 'moi je suis nul en programmation T_T', 'timestamp': '2024-10-09T04:27:44.233Z'}, {'user': '184232', 'role': 'Navigator', 'message': 'Tu veux pas bosser un peu xD j’ai grave la flemme', 'timestamp': '2024-10-09T04:28:30.900Z'}, {'user': '158073', 'role': 'Driver', 'message': 'on est 2 xD', 'timestamp': '2024-10-09T04:29:04.358Z'}, {'user': '184232', 'role': 'Navigator', 'message': 'J’ai fini si ta des questions n’hésite pas ', 'timestamp': '2024-10-09T04:32:07.846Z'}, {'user': '158073', 'role': 'Driver', 'message': \"le True et le False c'est pour dire que ils sont égaux ?\", 'timestamp': '2024-10-09T04:33:01.085Z'}, {'user': '158073', 'role': 'Driver', 'message': 'si ils sont egaux ou pas', 'timestamp': '2024-10-09T04:33:20.713Z'}, {'user': '184232', 'role': 'Navigator', 'message': 'Non c’est la réponse qu’il va renvoyer, True ils sont les même nombre d’éléments, False : il n’ont pas le même nombre', 'timestamp': '2024-10-09T04:34:08.177Z'}, {'user': '158073', 'role': 'Driver', 'message': 'ok :D', 'timestamp': '2024-10-09T04:34:33.627Z'}, {'user': '184232', 'role': 'Navigator', 'message': 'En faite c’est que la longueur des tableaux qui faut comparer ', 'timestamp': '2024-10-09T04:34:37.157Z'}, {'user': '184232', 'role': 'Navigator', 'message': 'Att peut être que j’ai mal lue la consigne', 'timestamp': '2024-10-09T04:35:09.017Z'}, {'user': '158073', 'role': 'Driver', 'message': 'o_o', 'timestamp': '2024-10-09T04:36:10.224Z'}]\n",
            "[{'user': '146853', 'role': 'Driver', 'message': 'slt ! ', 'timestamp': '2024-10-09T04:23:34.712Z'}, {'user': '184492', 'role': 'Navigator', 'message': 'salut', 'timestamp': '2024-10-09T04:24:01.149Z'}, {'user': '146853', 'role': 'Driver', 'message': 'ca va ? ', 'timestamp': '2024-10-09T04:24:19.837Z'}, {'user': '184492', 'role': 'Navigator', 'message': 'oui ça va et toi ', 'timestamp': '2024-10-09T04:24:40.255Z'}, {'user': '146853', 'role': 'Driver', 'message': 'tranquille ', 'timestamp': '2024-10-09T04:25:07.592Z'}, {'user': '146853', 'role': 'Driver', 'message': 'tu sais plus ou moins comment faire ? ', 'timestamp': '2024-10-09T04:25:24.233Z'}, {'user': '184492', 'role': 'Navigator', 'message': 'Je ne suis pas très fort en info ', 'timestamp': '2024-10-09T04:25:29.523Z'}, {'user': '146853', 'role': 'Driver', 'message': \"on est deux tkt j'ai une vague idée de comment faire mais je sais pas comment réellement le faire\", 'timestamp': '2024-10-09T04:26:01.240Z'}, {'user': '146853', 'role': 'Driver', 'message': \"deja tu comprends ce que j'ai écris\", 'timestamp': '2024-10-09T04:26:19.318Z'}, {'user': '146853', 'role': 'Driver', 'message': '? ', 'timestamp': '2024-10-09T04:26:21.569Z'}, {'user': '184492', 'role': 'Navigator', 'message': 'ouais ', 'timestamp': '2024-10-09T04:26:50.227Z'}, {'user': '184492', 'role': 'Navigator', 'message': 'faut mettre la longueur du tableau noramlement ', 'timestamp': '2024-10-09T04:29:14.732Z'}, {'user': '146853', 'role': 'Driver', 'message': 'mais faut faire pour les deux non ? ', 'timestamp': '2024-10-09T04:29:49.077Z'}, {'user': '184492', 'role': 'Navigator', 'message': \"oui je pense mais il y'a aussi le truc de la position\", 'timestamp': '2024-10-09T04:31:20.285Z'}, {'user': '146853', 'role': 'Driver', 'message': \"ah ouais voila c ca que je chercher a faire avec le if je suis trop nul j'arrive pas a retenir certain truc essentiel \", 'timestamp': '2024-10-09T04:34:06.444Z'}, {'user': '184492', 'role': 'Navigator', 'message': \"c'est pas grave \", 'timestamp': '2024-10-09T04:35:26.626Z'}, {'user': '184492', 'role': 'Navigator', 'message': \"il faut mettre le (i) a coter d'append\", 'timestamp': '2024-10-09T04:35:52.328Z'}, {'user': '146853', 'role': 'Driver', 'message': 'je sais pas si ca sert vrmt a qqch', 'timestamp': '2024-10-09T04:36:24.783Z'}, {'user': '146853', 'role': 'Driver', 'message': 'en théorie ca pourrait marcher ', 'timestamp': '2024-10-09T04:36:34.470Z'}, {'user': '146853', 'role': 'Driver', 'message': 'le seul probleme devrait etre le for ', 'timestamp': '2024-10-09T04:36:53.867Z'}, {'user': '146853', 'role': 'Driver', 'message': \"je sais pas tu es qui mais si tu veux je peux essayer et t'envoyer mais faut echanger nos contact\", 'timestamp': '2024-10-09T04:37:45.140Z'}]\n",
            "[{'user': '186927', 'role': 'Driver', 'message': 'slt', 'timestamp': '2024-10-09T04:23:28.007Z'}, {'user': '158569', 'role': 'Navigator', 'message': 'yoo', 'timestamp': '2024-10-09T04:23:45.868Z'}, {'user': '186927', 'role': 'Driver', 'message': 'bah voila', 'timestamp': '2024-10-09T04:29:36.878Z'}, {'user': '186927', 'role': 'Driver', 'message': 'je sait pas comment je te donne la main', 'timestamp': '2024-10-09T04:29:53.591Z'}, {'user': '186927', 'role': 'Driver', 'message': \"on fini l'activité ?\", 'timestamp': '2024-10-09T04:32:55.430Z'}, {'user': '158569', 'role': 'Navigator', 'message': 'normalement, non', 'timestamp': '2024-10-09T04:33:24.930Z'}, {'user': '158569', 'role': 'Navigator', 'message': \"ils faut mettre les exemples d'appels à au fonction\", 'timestamp': '2024-10-09T04:33:49.347Z'}, {'user': '186927', 'role': 'Driver', 'message': 'ah oui bien vu', 'timestamp': '2024-10-09T04:34:11.757Z'}, {'user': '186927', 'role': 'Driver', 'message': 'tu peux les mettres ?', 'timestamp': '2024-10-09T04:34:37.372Z'}]\n",
            "[{'user': '177511', 'role': 'Navigator', 'message': 'salam il faudrait que tu écris en légende ', 'timestamp': '2024-10-09T04:23:44.014Z'}, {'user': '144773', 'role': 'Driver', 'message': '???', 'timestamp': '2024-10-09T04:24:15.741Z'}, {'user': '177511', 'role': 'Navigator', 'message': 'non tqt je commence à écrire le programme', 'timestamp': '2024-10-09T04:24:38.292Z'}, {'user': '144773', 'role': 'Driver', 'message': \"on t'as dit deux tableaux []\", 'timestamp': '2024-10-09T04:25:40.659Z'}, {'user': '177511', 'role': 'Navigator', 'message': 'oui a , b sont les tableaux en paramètres tqt ', 'timestamp': '2024-10-09T04:26:00.914Z'}, {'user': '177511', 'role': 'Navigator', 'message': 'on suppose les deux tabs de mêmes tailles ', 'timestamp': '2024-10-09T04:26:30.586Z'}, {'user': '177511', 'role': 'Navigator', 'message': 'tu trouves comment ', 'timestamp': '2024-10-09T04:28:50.792Z'}, {'user': '144773', 'role': 'Driver', 'message': 'explique ce que tu fait ', 'timestamp': '2024-10-09T04:29:06.832Z'}, {'user': '177511', 'role': 'Navigator', 'message': \"le tableau a à l'indice 0 parcourt tout les indices \", 'timestamp': '2024-10-09T04:30:14.563Z'}, {'user': '177511', 'role': 'Navigator', 'message': \"du tableau B et vérifie si c'est égaux\", 'timestamp': '2024-10-09T04:30:34.559Z'}, {'user': '177511', 'role': 'Navigator', 'message': 'les doubles boucles ça marche mal ? ', 'timestamp': '2024-10-09T04:32:43.520Z'}, {'user': '177511', 'role': 'Navigator', 'message': 'il faut renvoyer un tableau', 'timestamp': '2024-10-09T04:32:59.243Z'}, {'user': '177511', 'role': 'Navigator', 'message': 'tu veux prendre la main ?', 'timestamp': '2024-10-09T04:35:44.008Z'}, {'user': '144773', 'role': 'Driver', 'message': \"on met finir l'activité \", 'timestamp': '2024-10-09T04:37:40.471Z'}, {'user': '177511', 'role': 'Navigator', 'message': 'ah ouais tu sais pas faire une fonction ', 'timestamp': '2024-10-09T04:37:46.300Z'}, {'user': '177511', 'role': 'Navigator', 'message': 'bon ouais on finis ', 'timestamp': '2024-10-09T04:38:39.278Z'}]\n",
            "[{'user': '184737', 'role': 'Driver', 'message': 'yo', 'timestamp': '2024-10-09T04:27:23.170Z'}, {'user': '182347', 'role': 'Navigator', 'message': 'for i in range(0,len(list_1) : ?', 'timestamp': '2024-10-09T04:27:26.906Z'}, {'user': '182347', 'role': 'Navigator', 'message': 'yo', 'timestamp': '2024-10-09T04:27:28.061Z'}, {'user': '184737', 'role': 'Driver', 'message': 'Je te mens pas je sais pas quoi faire après ', 'timestamp': '2024-10-09T04:28:43.902Z'}, {'user': '182347', 'role': 'Navigator', 'message': 'if list_1[i] == liste_2[i] :', 'timestamp': '2024-10-09T04:28:47.322Z'}, {'user': '182347', 'role': 'Navigator', 'message': \"t'inquiète\", 'timestamp': '2024-10-09T04:28:58.514Z'}, {'user': '182347', 'role': 'Navigator', 'message': \"resultat.append(i) et après en dehors de la boucle tu met return resultat et jpense c'est bon\", 'timestamp': '2024-10-09T04:30:00.626Z'}, {'user': '184737', 'role': 'Driver', 'message': 'comment ?', 'timestamp': '2024-10-09T04:31:33.784Z'}, {'user': '182347', 'role': 'Navigator', 'message': 'jsais pas comment on execute', 'timestamp': '2024-10-09T04:31:58.974Z'}, {'user': '184737', 'role': 'Driver', 'message': 'en haut a droite normalement ', 'timestamp': '2024-10-09T04:32:28.090Z'}, {'user': '182347', 'role': 'Navigator', 'message': 'jcrois faut tu mettes la ligne de test dans le code à la toute fin et après je peux executer', 'timestamp': '2024-10-09T04:33:14.364Z'}, {'user': '182347', 'role': 'Navigator', 'message': \"pour voir si c'est bon\", 'timestamp': '2024-10-09T04:33:17.380Z'}, {'user': '182347', 'role': 'Navigator', 'message': 'tu met ça coincide([78,23,12,12,54,32],[67,23,44,12,54,32]', 'timestamp': '2024-10-09T04:34:29.516Z'}, {'user': '182347', 'role': 'Navigator', 'message': 'avec une paranthese à la fin', 'timestamp': '2024-10-09T04:34:35.977Z'}, {'user': '182347', 'role': 'Navigator', 'message': \"copie colle ce qu'il y a dans sur moodle au pire\", 'timestamp': '2024-10-09T04:34:52.639Z'}, {'user': '184737', 'role': 'Driver', 'message': 'juste en dessous de return resultat ?', 'timestamp': '2024-10-09T04:35:02.578Z'}, {'user': '182347', 'role': 'Navigator', 'message': 'en dehors ', 'timestamp': '2024-10-09T04:35:34.625Z'}, {'user': '182347', 'role': 'Navigator', 'message': \"juste un cran avant et c'est bon\", 'timestamp': '2024-10-09T04:35:42.249Z'}, {'user': '184737', 'role': 'Driver', 'message': \"c'est bon \", 'timestamp': '2024-10-09T04:36:48.870Z'}, {'user': '182347', 'role': 'Navigator', 'message': 'enleve le ? entre 67 et 23 dans la deuxième liste', 'timestamp': '2024-10-09T04:37:32.190Z'}, {'user': '182347', 'role': 'Navigator', 'message': \"et c'est bon \", 'timestamp': '2024-10-09T04:37:34.008Z'}, {'user': '182347', 'role': 'Navigator', 'message': \"mais au pire c'est grâve jmet finir l'activité \", 'timestamp': '2024-10-09T04:37:57.203Z'}, {'user': '182347', 'role': 'Navigator', 'message': \"c'est pas grâve*\", 'timestamp': '2024-10-09T04:38:04.842Z'}]\n",
            "[]\n",
            "[]\n",
            "[{'user': '184672', 'role': 'Driver', 'message': 'slt ', 'timestamp': '2024-10-09T04:24:13.348Z'}, {'user': '186172', 'role': 'Navigator', 'message': 'Slt ', 'timestamp': '2024-10-09T04:24:21.883Z'}, {'user': '184672', 'role': 'Driver', 'message': 'tu sais un peut codé ? x)', 'timestamp': '2024-10-09T04:24:43.630Z'}, {'user': '186172', 'role': 'Navigator', 'message': 'Non sorry x(', 'timestamp': '2024-10-09T04:25:06.673Z'}, {'user': '184672', 'role': 'Driver', 'message': 'eh merde x)', 'timestamp': '2024-10-09T04:25:23.243Z'}, {'user': '186172', 'role': 'Navigator', 'message': 'Et toi ? ', 'timestamp': '2024-10-09T04:25:29.331Z'}, {'user': '184672', 'role': 'Driver', 'message': \"J'ai les bases a peut prêt x)\", 'timestamp': '2024-10-09T04:26:11.514Z'}, {'user': '186172', 'role': 'Navigator', 'message': 'Tu sais quoi faire la ?', 'timestamp': '2024-10-09T04:27:27.450Z'}, {'user': '184672', 'role': 'Driver', 'message': \"Jvais lire ce qu'il a mis sur moodle voir ce qu'il faut faire \", 'timestamp': '2024-10-09T04:28:13.231Z'}, {'user': '186172', 'role': 'Navigator', 'message': 'Je vais faire de mm ', 'timestamp': '2024-10-09T04:28:37.946Z'}, {'user': '184672', 'role': 'Driver', 'message': 'vsy', 'timestamp': '2024-10-09T04:29:56.500Z'}, {'user': '186172', 'role': 'Navigator', 'message': 'Je crois qu’elle est aux tableaux, les consignes ', 'timestamp': '2024-10-09T04:30:40.459Z'}, {'user': '184672', 'role': 'Driver', 'message': \"yep , j'essaie de bien comprendre la consigne x)\", 'timestamp': '2024-10-09T04:31:26.655Z'}, {'user': '184672', 'role': 'Driver', 'message': 'si jamais tu as une idée , hésite pas ', 'timestamp': '2024-10-09T04:34:59.042Z'}, {'user': '186172', 'role': 'Navigator', 'message': 'Bon bin désolé :( ', 'timestamp': '2024-10-09T04:36:01.409Z'}, {'user': '184672', 'role': 'Driver', 'message': 'pas de soucis x)', 'timestamp': '2024-10-09T04:36:27.606Z'}, {'user': '184672', 'role': 'Driver', 'message': \"tu as qui dans l'amphi d'ailleurs ? x) \", 'timestamp': '2024-10-09T04:36:51.734Z'}]\n",
            "[{'user': '182567', 'role': 'Driver', 'message': 'salut', 'timestamp': '2024-10-09T04:25:45.092Z'}]\n",
            "[]\n",
            "[]\n",
            "[{'user': '144245', 'role': 'Driver', 'message': 'salut', 'timestamp': '2024-10-09T04:19:56.312Z'}, {'user': '165681', 'role': 'Navigator', 'message': 'Salut', 'timestamp': '2024-10-09T04:22:29.400Z'}, {'user': '144245', 'role': 'Driver', 'message': 'tu commence en premiere', 'timestamp': '2024-10-09T04:23:59.302Z'}, {'user': '165681', 'role': 'Navigator', 'message': 'Franchement je ne suis pas très bon mais si tu veux je peux essayer', 'timestamp': '2024-10-09T04:24:40.345Z'}, {'user': '144245', 'role': 'Driver', 'message': \"d'accord\", 'timestamp': '2024-10-09T04:24:59.364Z'}, {'user': '165681', 'role': 'Navigator', 'message': 'Je bloque à partir de là, est ce qur tu aurais une idée pour nous faire avancer', 'timestamp': '2024-10-09T04:29:32.580Z'}, {'user': '165681', 'role': 'Navigator', 'message': 'Tu peux prendre la main si tu veux', 'timestamp': '2024-10-09T04:30:33.615Z'}]\n",
            "[{'user': '141469', 'role': 'Driver', 'message': 'si t as des idee ou tu veut la main fait peter', 'timestamp': '2024-10-09T04:25:03.805Z'}, {'user': '190037', 'role': 'Navigator', 'message': \"ouais je réfléchis j'ai rien là\", 'timestamp': '2024-10-09T04:25:36.265Z'}, {'user': '141469', 'role': 'Driver', 'message': 'ok trkl je teste des truck tjr ', 'timestamp': '2024-10-09T04:27:06.620Z'}, {'user': '190037', 'role': 'Navigator', 'message': '👍', 'timestamp': '2024-10-09T04:27:22.451Z'}, {'user': '190037', 'role': 'Navigator', 'message': 'lébon nn', 'timestamp': '2024-10-09T04:32:10.476Z'}, {'user': '141469', 'role': 'Driver', 'message': 'ou gain exécuter ?', 'timestamp': '2024-10-09T04:32:48.042Z'}, {'user': '190037', 'role': 'Navigator', 'message': 'att', 'timestamp': '2024-10-09T04:32:55.967Z'}]\n",
            "[]\n",
            "[{'user': '76628', 'role': 'Navigator', 'message': 'good morning how are you doing', 'timestamp': '2024-10-09T04:26:20.552Z'}]\n",
            "[{'user': '184897', 'role': 'Driver', 'message': 'c bon ma couille ? ', 'timestamp': '2024-10-09T04:27:38.935Z'}, {'user': '184897', 'role': 'Driver', 'message': 'HOOOOO ', 'timestamp': '2024-10-09T04:30:42.769Z'}, {'user': '200682', 'role': 'Navigator', 'message': 'ouais ', 'timestamp': '2024-10-09T04:31:02.090Z'}, {'user': '184897', 'role': 'Driver', 'message': 'lest go il parle !!!', 'timestamp': '2024-10-09T04:31:15.223Z'}, {'user': '200682', 'role': 'Navigator', 'message': 'ya pas de retour a la ligne ou quoi frr', 'timestamp': '2024-10-09T04:31:18.385Z'}, {'user': '184897', 'role': 'Driver', 'message': 'c bon ducoup ? ', 'timestamp': '2024-10-09T04:31:25.355Z'}, {'user': '200682', 'role': 'Navigator', 'message': 'non', 'timestamp': '2024-10-09T04:31:32.702Z'}, {'user': '184897', 'role': 'Driver', 'message': 'ben vasy fait ', 'timestamp': '2024-10-09T04:31:45.170Z'}, {'user': '184897', 'role': 'Driver', 'message': 'il est trop chau ', 'timestamp': '2024-10-09T04:33:45.636Z'}, {'user': '200682', 'role': 'Navigator', 'message': 'jsp si c bon', 'timestamp': '2024-10-09T04:34:17.035Z'}, {'user': '184897', 'role': 'Driver', 'message': 'ya pas de verif si la tab1 est plus grande que la tab 2 ', 'timestamp': '2024-10-09T04:34:53.987Z'}, {'user': '184897', 'role': 'Driver', 'message': 'ya pas de verif si la tab1 est plus grande que la tab 2 ', 'timestamp': '2024-10-09T04:35:16.742Z'}, {'user': '200682', 'role': 'Navigator', 'message': 'jsp si c bon', 'timestamp': '2024-10-09T04:35:16.767Z'}, {'user': '200682', 'role': 'Navigator', 'message': 'ouais js guez', 'timestamp': '2024-10-09T04:35:21.245Z'}]\n",
            "[{'user': '188487', 'role': 'Driver', 'message': \"T'es où dans la salle\", 'timestamp': '2024-10-07T06:39:08.561Z'}, {'user': '144665', 'role': 'Navigator', 'message': 'je suis du coté gauche de la salle ', 'timestamp': '2024-10-07T06:40:42.047Z'}, {'user': '188487', 'role': 'Driver', 'message': 'devant ou derriere ?', 'timestamp': '2024-10-07T06:41:01.381Z'}, {'user': '144665', 'role': 'Navigator', 'message': 'au milieux', 'timestamp': '2024-10-07T06:41:16.508Z'}, {'user': '144665', 'role': 'Navigator', 'message': 'et toi ?', 'timestamp': '2024-10-07T06:41:32.579Z'}, {'user': '188487', 'role': 'Driver', 'message': 'A gauche au milieu', 'timestamp': '2024-10-07T06:41:54.591Z'}, {'user': '188487', 'role': 'Driver', 'message': \"tu as compris ce qu'il faut faire ?\", 'timestamp': '2024-10-07T06:43:39.890Z'}, {'user': '144665', 'role': 'Navigator', 'message': \"je crois qu'il faut définir une fonction coincide\", 'timestamp': '2024-10-07T06:44:45.620Z'}, {'user': '144665', 'role': 'Navigator', 'message': 'comme sur le tableau je pense ...', 'timestamp': '2024-10-07T06:45:22.076Z'}, {'user': '188487', 'role': 'Driver', 'message': 'ahh oui je vois mais je comprends pas comment il faut commencer ', 'timestamp': '2024-10-07T06:46:00.968Z'}, {'user': '144665', 'role': 'Navigator', 'message': 'bah commence par écrire def coincide (....', 'timestamp': '2024-10-07T06:48:38.576Z'}, {'user': '188487', 'role': 'Driver', 'message': 'toi aussi tu peux écrire je crois', 'timestamp': '2024-10-07T06:49:49.830Z'}, {'user': '188487', 'role': 'Driver', 'message': \"rectifie ce que j'écris si jamais ça te semble pas bon\", 'timestamp': '2024-10-07T06:50:01.778Z'}, {'user': '144665', 'role': 'Navigator', 'message': 'Ok', 'timestamp': '2024-10-07T06:50:19.865Z'}, {'user': '144665', 'role': 'Navigator', 'message': 'je suis pas trop forte en python dsl si je peux pas trop aider !', 'timestamp': '2024-10-07T06:51:28.718Z'}, {'user': '188487', 'role': 'Driver', 'message': 'je suis vraiment nulle aussi haha', 'timestamp': '2024-10-07T06:51:47.351Z'}, {'user': '144665', 'role': 'Navigator', 'message': 'ok bon bah salut ! XD', 'timestamp': '2024-10-07T06:52:53.095Z'}, {'user': '188487', 'role': 'Driver', 'message': 'salut mdrr', 'timestamp': '2024-10-07T06:53:04.791Z'}]\n",
            "[{'user': '186697', 'role': 'Driver', 'message': 'pareil ', 'timestamp': '2024-10-07T06:39:57.692Z'}, {'user': '186697', 'role': 'Driver', 'message': 'chef on fait quoi ', 'timestamp': '2024-10-07T06:42:37.730Z'}, {'user': '198017', 'role': 'Navigator', 'message': 'Je suis sur le téléphone je peux quasiment rien faire ', 'timestamp': '2024-10-07T06:43:00.342Z'}, {'user': '186697', 'role': 'Driver', 'message': 'on est foutu ', 'timestamp': '2024-10-07T06:43:14.449Z'}, {'user': '186697', 'role': 'Driver', 'message': 'mdr ', 'timestamp': '2024-10-07T06:43:19.055Z'}, {'user': '198017', 'role': 'Navigator', 'message': 'Au pire je regarde sur mon pote ', 'timestamp': '2024-10-07T06:43:29.942Z'}, {'user': '186697', 'role': 'Driver', 'message': \"tqt j'ai un pote c'est un crack il va gerer \", 'timestamp': '2024-10-07T06:43:41.806Z'}, {'user': '198017', 'role': 'Navigator', 'message': 'Ha nikel alors ', 'timestamp': '2024-10-07T06:43:56.011Z'}, {'user': '198017', 'role': 'Navigator', 'message': 'Comment tu t’appelles si non ?', 'timestamp': '2024-10-07T06:44:03.211Z'}, {'user': '186697', 'role': 'Driver', 'message': 'mehlam et toi ', 'timestamp': '2024-10-07T06:44:17.685Z'}, {'user': '198017', 'role': 'Navigator', 'message': 'Super moi c’est ethan ', 'timestamp': '2024-10-07T06:44:30.572Z'}, {'user': '186697', 'role': 'Driver', 'message': 'enchanté mec !!!!!!!!!', 'timestamp': '2024-10-07T06:44:45.099Z'}, {'user': '186697', 'role': 'Driver', 'message': 'bon on fait quoi ', 'timestamp': '2024-10-07T06:44:56.909Z'}, {'user': '198017', 'role': 'Navigator', 'message': 'Enchanté ', 'timestamp': '2024-10-07T06:44:57.517Z'}, {'user': '198017', 'role': 'Navigator', 'message': 'Du coup la c’est ton pote qui fait le programme ?', 'timestamp': '2024-10-07T06:45:12.861Z'}, {'user': '186697', 'role': 'Driver', 'message': 'ouais ', 'timestamp': '2024-10-07T06:45:20.802Z'}, {'user': '186697', 'role': 'Driver', 'message': 'au pire chat gpt', 'timestamp': '2024-10-07T06:45:28.065Z'}, {'user': '198017', 'role': 'Navigator', 'message': 'Bah du coup on attend non j’ai aucune idée de ce qui ', 'timestamp': '2024-10-07T06:45:37.611Z'}, {'user': '198017', 'role': 'Navigator', 'message': '', 'timestamp': '2024-10-07T06:45:37.741Z'}, {'user': '198017', 'role': 'Navigator', 'message': 'Faut faire 😭', 'timestamp': '2024-10-07T06:45:46.597Z'}, {'user': '186697', 'role': 'Driver', 'message': 'tu vois ce qui est ecris ', 'timestamp': '2024-10-07T06:46:37.238Z'}, {'user': '198017', 'role': 'Navigator', 'message': 'Ouais ', 'timestamp': '2024-10-07T06:47:18.637Z'}, {'user': '198017', 'role': 'Navigator', 'message': 'C’est bon ', 'timestamp': '2024-10-07T06:52:11.856Z'}, {'user': '198017', 'role': 'Navigator', 'message': 'Je peux ecrire ?', 'timestamp': '2024-10-07T06:52:24.598Z'}, {'user': '186697', 'role': 'Driver', 'message': \"c'est pas bon mais bon on s'ne fou\", 'timestamp': '2024-10-07T06:52:29.232Z'}, {'user': '186697', 'role': 'Driver', 'message': 'vays', 'timestamp': '2024-10-07T06:52:33.132Z'}]\n",
            "[{'user': '189522', 'role': 'Driver', 'message': 'Salut', 'timestamp': '2024-10-09T04:23:45.087Z'}, {'user': '184262', 'role': 'Navigator', 'message': 'yo', 'timestamp': '2024-10-09T04:24:10.230Z'}, {'user': '184262', 'role': 'Navigator', 'message': 'sv', 'timestamp': '2024-10-09T04:24:20.646Z'}, {'user': '189522', 'role': 'Driver', 'message': 'yep et toi?', 'timestamp': '2024-10-09T04:24:26.166Z'}, {'user': '184262', 'role': 'Navigator', 'message': 'oui', 'timestamp': '2024-10-09T04:24:47.830Z'}, {'user': '184262', 'role': 'Navigator', 'message': 'je préfère prévenir je suis pas fort', 'timestamp': '2024-10-09T04:25:20.775Z'}, {'user': '189522', 'role': 'Driver', 'message': 'Cool et tkt moi aussi XD je vais faire un vase qui je pense devrais aller et je te passe la main sa te vas?', 'timestamp': '2024-10-09T04:25:54.700Z'}, {'user': '184262', 'role': 'Navigator', 'message': 'comment sa un vase?', 'timestamp': '2024-10-09T04:26:26.020Z'}, {'user': '189522', 'role': 'Driver', 'message': '\"base\" déso faute de frappe', 'timestamp': '2024-10-09T04:26:50.095Z'}, {'user': '184262', 'role': 'Navigator', 'message': 'ok tkt', 'timestamp': '2024-10-09T04:27:08.846Z'}, {'user': '184262', 'role': 'Navigator', 'message': 'je dois faire quoi concretement?', 'timestamp': '2024-10-09T04:30:15.470Z'}, {'user': '189522', 'role': 'Driver', 'message': \"tu peut demander la main pour editer le code a ton tour sinon la j'ai une erreur sur le code si tu veux essayer de corriger\", 'timestamp': '2024-10-09T04:31:11.275Z'}, {'user': '184262', 'role': 'Navigator', 'message': \"elle est ou l'erreur?\", 'timestamp': '2024-10-09T04:32:19.848Z'}, {'user': '189522', 'role': 'Driver', 'message': \"line 4 apparement mais je crois qu'il faut juste que j'utilise des [] a la place de ()\", 'timestamp': '2024-10-09T04:32:52.050Z'}, {'user': '184262', 'role': 'Navigator', 'message': \"c'est bon comme sa ?\", 'timestamp': '2024-10-09T04:33:52.806Z'}, {'user': '189522', 'role': 'Driver', 'message': \"c'est bon ça marche\", 'timestamp': '2024-10-09T04:33:59.937Z'}, {'user': '184262', 'role': 'Navigator', 'message': \"j'execute?\", 'timestamp': '2024-10-09T04:34:20.008Z'}, {'user': '189522', 'role': 'Driver', 'message': \"si tu veux tester quand ta fini de tester dit moi et on termine l'activité\", 'timestamp': '2024-10-09T04:34:47.394Z'}, {'user': '184262', 'role': 'Navigator', 'message': 'vas-y demande la main', 'timestamp': '2024-10-09T04:35:28.454Z'}, {'user': '184262', 'role': 'Navigator', 'message': \"on termine l'activité\", 'timestamp': '2024-10-09T04:36:26.072Z'}, {'user': '184262', 'role': 'Navigator', 'message': '?', 'timestamp': '2024-10-09T04:36:33.671Z'}]\n",
            "[{'user': '87321', 'role': 'Driver', 'message': \"Je t'avoues que je ne sait pas quoi faire tu pourrais prendre la main s'il te plait \", 'timestamp': '2024-10-09T04:24:55.371Z'}, {'user': '197902', 'role': 'Navigator', 'message': 'bonne chance ', 'timestamp': '2024-10-09T04:25:10.932Z'}, {'user': '87321', 'role': 'Driver', 'message': '-_-', 'timestamp': '2024-10-09T04:25:23.105Z'}]\n",
            "[{'user': '200552', 'role': 'Driver', 'message': 'bonjour', 'timestamp': '2024-10-09T04:22:58.087Z'}, {'user': '200552', 'role': 'Driver', 'message': 'bonjour', 'timestamp': '2024-10-09T04:23:02.894Z'}, {'user': '188437', 'role': 'Navigator', 'message': 'bjr', 'timestamp': '2024-10-09T04:23:24.508Z'}, {'user': '200552', 'role': 'Driver', 'message': 'tu vois les ligne de codes ?', 'timestamp': '2024-10-09T04:27:43.353Z'}, {'user': '188437', 'role': 'Navigator', 'message': \"oui j'vois\", 'timestamp': '2024-10-09T04:28:20.602Z'}, {'user': '188437', 'role': 'Navigator', 'message': 'tu as fais des tests?', 'timestamp': '2024-10-09T04:28:34.018Z'}, {'user': '200552', 'role': 'Driver', 'message': 'pas encore', 'timestamp': '2024-10-09T04:28:42.662Z'}, {'user': '188437', 'role': 'Navigator', 'message': \"ça l'air correct\", 'timestamp': '2024-10-09T04:29:16.876Z'}, {'user': '188437', 'role': 'Navigator', 'message': \"c'est ok\", 'timestamp': '2024-10-09T04:34:49.257Z'}, {'user': '200552', 'role': 'Driver', 'message': 'on fini ?', 'timestamp': '2024-10-09T04:35:29.999Z'}]\n",
            "[]\n"
          ]
        }
      ],
      "source": [
        "seance1_df = parse_json_files_in_folder('Data\\messages_chat_seance1\\exportChatMessage')"
      ]
    },
    {
      "cell_type": "code",
      "execution_count": 9,
      "metadata": {},
      "outputs": [
        {
          "name": "stdout",
          "output_type": "stream",
          "text": [
            "seance1_df shape :  (440, 4)\n"
          ]
        },
        {
          "data": {
            "text/plain": [
              "array(['Tu es qui ,', 'On se met 5 partout ok ?', 'Opé', 'Opé lmkt',\n",
              "       'A PAR SA LE COUZ ', 'Opé ', 'Ou lé jolie ? ', 'A ou ',\n",
              "       'Commencé ', 'Comment nous fé la ', \"c'est kwé faut fait \",\n",
              "       'Lève ton main un coup la ', 'aide a moins un coup la ', 'roro',\n",
              "       'Qui est là', 'je ne sais pas comment voir le résultat ',\n",
              "       'faut mettre print(coincide)', 'essaye', 'attend',\n",
              "       \"je crois que c'est bon\", 'Bonjour', 'Bonjour',\n",
              "       'tu pense si je fais un for in in range avec un for j in range dedans ça peut marcher? ',\n",
              "       'oui ', 'tu veux editer?', 'comme tu veux',\n",
              "       'je teste si ça marche pas on echange', 'vsy ',\n",
              "       'en vrai c\\'est pas mieux de faire un \"if len(a) != len(b)\"',\n",
              "       'tu veux teste?', \"demande l'édition\", 'vsy je teste le code',\n",
              "       \"quand je teste le code il me disent y'a des erreurs de type\",\n",
              "       'pour int', 'je sais pas pk',\n",
              "       'demande a éditer je te passe la main tu teste ce que tu as dis',\n",
              "       \"vsy je sauvegarde juste le ocde que t'a déja fait\", 'ok',\n",
              "       'je supprime', \"c bon t'as la main\",\n",
              "       \"je crois c'est bon , je suis pas sur\", 'tu peux tester?',\n",
              "       \"il y a des erreurs sur plusieurs lignes mais le dernier j'ai pas\",\n",
              "       'sur le return positions', \"on fini l'activité ducoup?\",\n",
              "       'Il y a quelqun', 'oui', 'Yo!', 'OUI', ',????', 'Oui',\n",
              "       \"C'est bon pour toi\", \"C'est bon\",\n",
              "       'Est ce que faut vérifié si les listes sont de la même longueur ?',\n",
              "       'def coincide(tableau1, tableau2):     # On s\\'assure que les deux tableaux ont la même longueur     if len(tableau1) != len(tableau2):         return []      # On crée un tableau vide pour stocker les indices où les éléments sont identiques     result = []          # On parcourt les deux tableaux et on compare les éléments     for i in range(len(tableau1)):         if tableau1[i] == tableau2[i]:             result.append(i)      return result  # Exemples d\\'utilisation : print(coincide([78, 23, 12, 12, 54, 32], [67, 23, 44, 12, 54, 32]))  # [1, 3, 4, 5] print(coincide([\"antoine\", \"isaac\", \"denis\"], [\"jeanne\", \"sofiane\", \"lise\"]))  # []',\n",
              "       'okok  je vois', 'nickel!', 'je te donne la main', 'Merci!',\n",
              "       'je met en commentaire mon morceau', 'ok', 'complete le tableau',\n",
              "       \"wait, quand j'exécute ca fonctionne pas\",\n",
              "       \"je te donne la main, j'ai pas compris ce que tu m'as dit\",\n",
              "       \"att c'est noramal\", 'ca bug, je peut plus donner la main',\n",
              "       'hummm! regarde ca', 'bon je sais pas pourquoi', '', 'accepte',\n",
              "       'ok', 'ta pas besoin du return  []', 'bon on termine, tkt',\n",
              "       \"c'est ok \", 'on fini', 'salut', 'salut ',\n",
              "       'tu sais coder ou pas dutout ? ',\n",
              "       \"pas forcément, j'ai juste la base des bases\", 'okay ',\n",
              "       'et la ta compris un peu le contexte ? ',\n",
              "       \"je sais qu''il faut implémenter le tableau pour l'utiliser dans la fonction coincide\",\n",
              "       'masi tkt si tu sais pas faire je vais faire ',\n",
              "       'maintenant je vois ce qui est demandé',\n",
              "       'ben je te laisse modifier si tu veux parce que je suis un peu perdu la ',\n",
              "       'salut', 'yo ', 'yo ', 'Hello !!!', 'Test', 'Chef ta la notif ?',\n",
              "       'sisi', 'Ok Nice', 'Chef ??', '??', 'Ta eu une deco en dirait',\n",
              "       'comment ca', 'Je sais ça écris', 'Ça', 'C t',\n",
              "       'non meme pas hein ', 'hmm Ça doit être ça ', 'jai meme pas deco',\n",
              "       'C pas grave', 'tu fais quelque chose ?', 'La c fini non ?',\n",
              "       \"ya quelqu'un ?\", 'oui je suis la !', 'ça va ?',\n",
              "       'ouais tranquille',\n",
              "       \"sache que pour t'aider a codé ça va être compliqué\",\n",
              "       'comment sa :(', 'je comprend rien ', 'ah merde ',\n",
              "       'bah le code est bon ', \"si tu veux que je t'explique un truc\",\n",
              "       \"ah t'a fini ?\", 'wesh tu va grave vite', 'oui :)', 'bah gg :)',\n",
              "       'nice', 'nice', 'bah gg :)',\n",
              "       'stp tu peux faire, parce que je sais pas trop programmer',\n",
              "       'pareille mais essaye sur chat à tout moment ça passe ',\n",
              "       \"d'accord\", \"t'es vers dans la salle \", 'alors ça donne quoi ',\n",
              "       'tout devant ', 'alors ça donne quoi ', 'tout devant ',\n",
              "       \"j'essaye encore\", \"d'acccord vas y essaye de faire de ton mieux \",\n",
              "       'SLT SLT', 'tg', 'deso ', \"c'est pas moi\", '#help', '#help',\n",
              "       'coucou', 'BONJOUR', 'salut', 'salut', 'yo ', 'ça va', 'ça va',\n",
              "       'wshhh', 'slt', 'ca va ?', 'oui et toi?',\n",
              "       'trkl leve la main la xD ', 'pourquoi faire', 'voir tes qui le s',\n",
              "       '', \"t'as une idéee\", \"j'ai plus d'idée\",\n",
              "       'Utilise append pour ajouter un élément dans une liste',\n",
              "       'Utilise append pour ajouter un élément dans une liste',\n",
              "       \"Je suis nulle je m'excuse d'avance pour mon icompétence\",\n",
              "       \"ce n'est pas grave on vas essayer pour y arriver  \", 'commence',\n",
              "       'mais par quoi ?', 'ah je vois ok',\n",
              "       'att une seconde tu es une fille ?', 'oui ?', \"ah d'accord\",\n",
              "       \"j'ai fais 2ans de NSI au cas me sous estime pas trop\",\n",
              "       \"bon vas y aller progressivement pour l'exo\", 'au cas où*',\n",
              "       \"d'accord ne t'inquite pas je suis du même cas \",\n",
              "       'commence gros ou laisse moi la main',\n",
              "       'je te laisse la main si tu veut ',\n",
              "       'ok pour le début ça commence bien ',\n",
              "       'je réfléchis par quoi commencé, si tu sais : fais',\n",
              "       \"mais il faut que l'on parcours les deux tableaux \",\n",
              "       'et tu as raison pour le tableau vide', \"t'as récupérer la main\",\n",
              "       'ok', 'continue', '', '', '', '', '', '', '', '', '', '', '', '',\n",
              "       '', '', '', '', '', 'oups', 'pg',\n",
              "       \"il faudrait que 'on prenne l'indice\", \"c'est i l'indice\",\n",
              "       \"et qu'il soit mis dans egal\", 'oui', 'vsy je fais', 'ok',\n",
              "       'copie colle', 'de quoi ?', 'non laisse tomber', 'ja',\n",
              "       \"j'allais de proposer de copier coller mais non\",\n",
              "       \"on fini l'activité ducoup?\", 'ok', 't puissant en info ?',\n",
              "       'non jsuis pas puissant ', '😂', ' toi t puissant en info ?',\n",
              "       'nn je suis eclater', \"tu vois cque j'écris la ?\",\n",
              "       'dans le éditeur', 'ouai', 'écrit un truc pour voir si jvois',\n",
              "       't qui leve toi pour voir 😂', 't ou dans la salle?',\n",
              "       'ta un t-shirt vert ?', 'ouais c moi', 'toi t qui ?', 'au fond ',\n",
              "       '😂 😂 😂 pk ta donner la main attend', 'ta demandé ',\n",
              "       'ct pas moi c le moukate de tar scooter moi 😂',\n",
              "       't puissant quand meme', 'nn je copier sur mon pote 😂',\n",
              "       'je fais finir moi ', '^^', 'Merde j’ai oublié qu’on etait 2',\n",
              "       'pas grave ', 'moi je suis nul en programmation T_T',\n",
              "       'Tu veux pas bosser un peu xD j’ai grave la flemme', 'on est 2 xD',\n",
              "       'J’ai fini si ta des questions n’hésite pas ',\n",
              "       \"le True et le False c'est pour dire que ils sont égaux ?\",\n",
              "       'si ils sont egaux ou pas',\n",
              "       'Non c’est la réponse qu’il va renvoyer, True ils sont les même nombre d’éléments, False : il n’ont pas le même nombre',\n",
              "       'ok :D',\n",
              "       'En faite c’est que la longueur des tableaux qui faut comparer ',\n",
              "       'Att peut être que j’ai mal lue la consigne', 'o_o', 'slt ! ',\n",
              "       'salut', 'ca va ? ', 'oui ça va et toi ', 'tranquille ',\n",
              "       'tu sais plus ou moins comment faire ? ',\n",
              "       'Je ne suis pas très fort en info ',\n",
              "       \"on est deux tkt j'ai une vague idée de comment faire mais je sais pas comment réellement le faire\",\n",
              "       \"deja tu comprends ce que j'ai écris\", '? ', 'ouais ',\n",
              "       'faut mettre la longueur du tableau noramlement ',\n",
              "       'mais faut faire pour les deux non ? ',\n",
              "       \"oui je pense mais il y'a aussi le truc de la position\",\n",
              "       \"ah ouais voila c ca que je chercher a faire avec le if je suis trop nul j'arrive pas a retenir certain truc essentiel \",\n",
              "       \"c'est pas grave \", \"il faut mettre le (i) a coter d'append\",\n",
              "       'je sais pas si ca sert vrmt a qqch',\n",
              "       'en théorie ca pourrait marcher ',\n",
              "       'le seul probleme devrait etre le for ',\n",
              "       \"je sais pas tu es qui mais si tu veux je peux essayer et t'envoyer mais faut echanger nos contact\",\n",
              "       'slt', 'yoo', 'bah voila',\n",
              "       'je sait pas comment je te donne la main', \"on fini l'activité ?\",\n",
              "       'normalement, non',\n",
              "       \"ils faut mettre les exemples d'appels à au fonction\",\n",
              "       'ah oui bien vu', 'tu peux les mettres ?',\n",
              "       'salam il faudrait que tu écris en légende ', '???',\n",
              "       'non tqt je commence à écrire le programme',\n",
              "       \"on t'as dit deux tableaux []\",\n",
              "       'oui a , b sont les tableaux en paramètres tqt ',\n",
              "       'on suppose les deux tabs de mêmes tailles ',\n",
              "       'tu trouves comment ', 'explique ce que tu fait ',\n",
              "       \"le tableau a à l'indice 0 parcourt tout les indices \",\n",
              "       \"du tableau B et vérifie si c'est égaux\",\n",
              "       'les doubles boucles ça marche mal ? ',\n",
              "       'il faut renvoyer un tableau', 'tu veux prendre la main ?',\n",
              "       \"on met finir l'activité \",\n",
              "       'ah ouais tu sais pas faire une fonction ', 'bon ouais on finis ',\n",
              "       'yo', 'for i in range(0,len(list_1) : ?', 'yo',\n",
              "       'Je te mens pas je sais pas quoi faire après ',\n",
              "       'if list_1[i] == liste_2[i] :', \"t'inquiète\",\n",
              "       \"resultat.append(i) et après en dehors de la boucle tu met return resultat et jpense c'est bon\",\n",
              "       'comment ?', 'jsais pas comment on execute',\n",
              "       'en haut a droite normalement ',\n",
              "       'jcrois faut tu mettes la ligne de test dans le code à la toute fin et après je peux executer',\n",
              "       \"pour voir si c'est bon\",\n",
              "       'tu met ça coincide([78,23,12,12,54,32],[67,23,44,12,54,32]',\n",
              "       'avec une paranthese à la fin',\n",
              "       \"copie colle ce qu'il y a dans sur moodle au pire\",\n",
              "       'juste en dessous de return resultat ?', 'en dehors ',\n",
              "       \"juste un cran avant et c'est bon\", \"c'est bon \",\n",
              "       'enleve le ? entre 67 et 23 dans la deuxième liste',\n",
              "       \"et c'est bon \", \"mais au pire c'est grâve jmet finir l'activité \",\n",
              "       \"c'est pas grâve*\", 'slt ', 'Slt ', 'tu sais un peut codé ? x)',\n",
              "       'Non sorry x(', 'eh merde x)', 'Et toi ? ',\n",
              "       \"J'ai les bases a peut prêt x)\", 'Tu sais quoi faire la ?',\n",
              "       \"Jvais lire ce qu'il a mis sur moodle voir ce qu'il faut faire \",\n",
              "       'Je vais faire de mm ', 'vsy',\n",
              "       'Je crois qu’elle est aux tableaux, les consignes ',\n",
              "       \"yep , j'essaie de bien comprendre la consigne x)\",\n",
              "       'si jamais tu as une idée , hésite pas ', 'Bon bin désolé :( ',\n",
              "       'pas de soucis x)', \"tu as qui dans l'amphi d'ailleurs ? x) \",\n",
              "       'salut', 'salut', 'Salut', 'tu commence en premiere',\n",
              "       'Franchement je ne suis pas très bon mais si tu veux je peux essayer',\n",
              "       \"d'accord\",\n",
              "       'Je bloque à partir de là, est ce qur tu aurais une idée pour nous faire avancer',\n",
              "       'Tu peux prendre la main si tu veux',\n",
              "       'si t as des idee ou tu veut la main fait peter',\n",
              "       \"ouais je réfléchis j'ai rien là\",\n",
              "       'ok trkl je teste des truck tjr ', '👍', 'lébon nn',\n",
              "       'ou gain exécuter ?', 'att', 'good morning how are you doing',\n",
              "       'c bon ma couille ? ', 'HOOOOO ', 'ouais ', 'lest go il parle !!!',\n",
              "       'ya pas de retour a la ligne ou quoi frr', 'c bon ducoup ? ',\n",
              "       'non', 'ben vasy fait ', 'il est trop chau ', 'jsp si c bon',\n",
              "       'ya pas de verif si la tab1 est plus grande que la tab 2 ',\n",
              "       'ya pas de verif si la tab1 est plus grande que la tab 2 ',\n",
              "       'jsp si c bon', 'ouais js guez', \"T'es où dans la salle\",\n",
              "       'je suis du coté gauche de la salle ', 'devant ou derriere ?',\n",
              "       'au milieux', 'et toi ?', 'A gauche au milieu',\n",
              "       \"tu as compris ce qu'il faut faire ?\",\n",
              "       \"je crois qu'il faut définir une fonction coincide\",\n",
              "       'comme sur le tableau je pense ...',\n",
              "       'ahh oui je vois mais je comprends pas comment il faut commencer ',\n",
              "       'bah commence par écrire def coincide (....',\n",
              "       'toi aussi tu peux écrire je crois',\n",
              "       \"rectifie ce que j'écris si jamais ça te semble pas bon\", 'Ok',\n",
              "       'je suis pas trop forte en python dsl si je peux pas trop aider !',\n",
              "       'je suis vraiment nulle aussi haha', 'ok bon bah salut ! XD',\n",
              "       'salut mdrr', 'pareil ', 'chef on fait quoi ',\n",
              "       'Je suis sur le téléphone je peux quasiment rien faire ',\n",
              "       'on est foutu ', 'mdr ', 'Au pire je regarde sur mon pote ',\n",
              "       \"tqt j'ai un pote c'est un crack il va gerer \", 'Ha nikel alors ',\n",
              "       'Comment tu t’appelles si non ?', 'mehlam et toi ',\n",
              "       'Super moi c’est ethan ', 'enchanté mec !!!!!!!!!',\n",
              "       'bon on fait quoi ', 'Enchanté ',\n",
              "       'Du coup la c’est ton pote qui fait le programme ?', 'ouais ',\n",
              "       'au pire chat gpt',\n",
              "       'Bah du coup on attend non j’ai aucune idée de ce qui ', '',\n",
              "       'Faut faire 😭', 'tu vois ce qui est ecris ', 'Ouais ',\n",
              "       'C’est bon ', 'Je peux ecrire ?',\n",
              "       \"c'est pas bon mais bon on s'ne fou\", 'vays', 'Salut', 'yo', 'sv',\n",
              "       'yep et toi?', 'oui', 'je préfère prévenir je suis pas fort',\n",
              "       'Cool et tkt moi aussi XD je vais faire un vase qui je pense devrais aller et je te passe la main sa te vas?',\n",
              "       'comment sa un vase?', '\"base\" déso faute de frappe', 'ok tkt',\n",
              "       'je dois faire quoi concretement?',\n",
              "       \"tu peut demander la main pour editer le code a ton tour sinon la j'ai une erreur sur le code si tu veux essayer de corriger\",\n",
              "       \"elle est ou l'erreur?\",\n",
              "       \"line 4 apparement mais je crois qu'il faut juste que j'utilise des [] a la place de ()\",\n",
              "       \"c'est bon comme sa ?\", \"c'est bon ça marche\", \"j'execute?\",\n",
              "       \"si tu veux tester quand ta fini de tester dit moi et on termine l'activité\",\n",
              "       'vas-y demande la main', \"on termine l'activité\", '?',\n",
              "       \"Je t'avoues que je ne sait pas quoi faire tu pourrais prendre la main s'il te plait \",\n",
              "       'bonne chance ', '-_-', 'bonjour', 'bonjour', 'bjr',\n",
              "       'tu vois les ligne de codes ?', \"oui j'vois\",\n",
              "       'tu as fais des tests?', 'pas encore', \"ça l'air correct\",\n",
              "       \"c'est ok\", 'on fini ?'], dtype=object)"
            ]
          },
          "execution_count": 9,
          "metadata": {},
          "output_type": "execute_result"
        }
      ],
      "source": [
        "seance1_df = parse_json_files_in_folder('Data\\messages_chat_seance1\\exportChatMessage')\n",
        "print(\"seance1_df shape : \",seance1_df.shape)\n",
        "seance1_df['message'].values"
      ]
    },
    {
      "cell_type": "code",
      "execution_count": 10,
      "metadata": {
        "colab": {
          "base_uri": "https://localhost:8080/"
        },
        "id": "sOSGca_DADbE",
        "outputId": "ab802235-2449-4584-d0ad-f47919e988b9"
      },
      "outputs": [
        {
          "name": "stdout",
          "output_type": "stream",
          "text": [
            "440\n",
            "['Tu es qui ,' 'On se met 5 partout ok ?' 'Opé' 'Opé lmkt'\n",
            " 'A PAR SA LE COUZ ' 'Opé ' 'Ou lé jolie ? ' 'A ou ' 'Commencé '\n",
            " 'Comment nous fé la ' \"c'est kwé faut fait \" 'Lève ton main un coup la '\n",
            " 'aide a moins un coup la ' 'roro' 'Qui est là'\n",
            " 'je ne sais pas comment voir le résultat ' 'faut mettre print(coincide)'\n",
            " 'essaye' 'attend' \"je crois que c'est bon\" 'Bonjour' 'Bonjour'\n",
            " 'tu pense si je fais un for in in range avec un for j in range dedans ça peut marcher? '\n",
            " 'oui ' 'tu veux editer?' 'comme tu veux'\n",
            " 'je teste si ça marche pas on echange' 'vsy '\n",
            " 'en vrai c\\'est pas mieux de faire un \"if len(a) != len(b)\"'\n",
            " 'tu veux teste?' \"demande l'édition\" 'vsy je teste le code'\n",
            " \"quand je teste le code il me disent y'a des erreurs de type\" 'pour int'\n",
            " 'je sais pas pk'\n",
            " 'demande a éditer je te passe la main tu teste ce que tu as dis'\n",
            " \"vsy je sauvegarde juste le ocde que t'a déja fait\" 'ok' 'je supprime'\n",
            " \"c bon t'as la main\" \"je crois c'est bon , je suis pas sur\"\n",
            " 'tu peux tester?'\n",
            " \"il y a des erreurs sur plusieurs lignes mais le dernier j'ai pas\"\n",
            " 'sur le return positions' \"on fini l'activité ducoup?\" 'Il y a quelqun'\n",
            " 'oui' 'Yo!' 'OUI' ',????' 'Oui' \"C'est bon pour toi\" \"C'est bon\"\n",
            " 'Est ce que faut vérifié si les listes sont de la même longueur ?'\n",
            " 'def coincide(tableau1, tableau2):     # On s\\'assure que les deux tableaux ont la même longueur     if len(tableau1) != len(tableau2):         return []      # On crée un tableau vide pour stocker les indices où les éléments sont identiques     result = []          # On parcourt les deux tableaux et on compare les éléments     for i in range(len(tableau1)):         if tableau1[i] == tableau2[i]:             result.append(i)      return result  # Exemples d\\'utilisation : print(coincide([78, 23, 12, 12, 54, 32], [67, 23, 44, 12, 54, 32]))  # [1, 3, 4, 5] print(coincide([\"antoine\", \"isaac\", \"denis\"], [\"jeanne\", \"sofiane\", \"lise\"]))  # []'\n",
            " 'okok  je vois' 'nickel!' 'je te donne la main' 'Merci!'\n",
            " 'je met en commentaire mon morceau' 'ok' 'complete le tableau'\n",
            " \"wait, quand j'exécute ca fonctionne pas\"\n",
            " \"je te donne la main, j'ai pas compris ce que tu m'as dit\"\n",
            " \"att c'est noramal\" 'ca bug, je peut plus donner la main'\n",
            " 'hummm! regarde ca' 'bon je sais pas pourquoi' '' 'accepte' 'ok'\n",
            " 'ta pas besoin du return  []' 'bon on termine, tkt' \"c'est ok \" 'on fini'\n",
            " 'salut' 'salut ' 'tu sais coder ou pas dutout ? '\n",
            " \"pas forcément, j'ai juste la base des bases\" 'okay '\n",
            " 'et la ta compris un peu le contexte ? '\n",
            " \"je sais qu''il faut implémenter le tableau pour l'utiliser dans la fonction coincide\"\n",
            " 'masi tkt si tu sais pas faire je vais faire '\n",
            " 'maintenant je vois ce qui est demandé'\n",
            " 'ben je te laisse modifier si tu veux parce que je suis un peu perdu la '\n",
            " 'salut' 'yo ' 'yo ' 'Hello !!!' 'Test' 'Chef ta la notif ?' 'sisi'\n",
            " 'Ok Nice' 'Chef ??' '??' 'Ta eu une deco en dirait' 'comment ca'\n",
            " 'Je sais ça écris' 'Ça' 'C t' 'non meme pas hein ' 'hmm Ça doit être ça '\n",
            " 'jai meme pas deco' 'C pas grave' 'tu fais quelque chose ?'\n",
            " 'La c fini non ?' \"ya quelqu'un ?\" 'oui je suis la !' 'ça va ?'\n",
            " 'ouais tranquille' \"sache que pour t'aider a codé ça va être compliqué\"\n",
            " 'comment sa :(' 'je comprend rien ' 'ah merde ' 'bah le code est bon '\n",
            " \"si tu veux que je t'explique un truc\" \"ah t'a fini ?\"\n",
            " 'wesh tu va grave vite' 'oui :)' 'bah gg :)' 'nice' 'nice' 'bah gg :)'\n",
            " 'stp tu peux faire, parce que je sais pas trop programmer'\n",
            " 'pareille mais essaye sur chat à tout moment ça passe ' \"d'accord\"\n",
            " \"t'es vers dans la salle \" 'alors ça donne quoi ' 'tout devant '\n",
            " 'alors ça donne quoi ' 'tout devant ' \"j'essaye encore\"\n",
            " \"d'acccord vas y essaye de faire de ton mieux \" 'SLT SLT' 'tg' 'deso '\n",
            " \"c'est pas moi\" '#help' '#help' 'coucou' 'BONJOUR' 'salut' 'salut' 'yo '\n",
            " 'ça va' 'ça va' 'wshhh' 'slt' 'ca va ?' 'oui et toi?'\n",
            " 'trkl leve la main la xD ' 'pourquoi faire' 'voir tes qui le s' ''\n",
            " \"t'as une idéee\" \"j'ai plus d'idée\"\n",
            " 'Utilise append pour ajouter un élément dans une liste'\n",
            " 'Utilise append pour ajouter un élément dans une liste'\n",
            " \"Je suis nulle je m'excuse d'avance pour mon icompétence\"\n",
            " \"ce n'est pas grave on vas essayer pour y arriver  \" 'commence'\n",
            " 'mais par quoi ?' 'ah je vois ok' 'att une seconde tu es une fille ?'\n",
            " 'oui ?' \"ah d'accord\"\n",
            " \"j'ai fais 2ans de NSI au cas me sous estime pas trop\"\n",
            " \"bon vas y aller progressivement pour l'exo\" 'au cas où*'\n",
            " \"d'accord ne t'inquite pas je suis du même cas \"\n",
            " 'commence gros ou laisse moi la main' 'je te laisse la main si tu veut '\n",
            " 'ok pour le début ça commence bien '\n",
            " 'je réfléchis par quoi commencé, si tu sais : fais'\n",
            " \"mais il faut que l'on parcours les deux tableaux \"\n",
            " 'et tu as raison pour le tableau vide' \"t'as récupérer la main\" 'ok'\n",
            " 'continue' '' '' '' '' '' '' '' '' '' '' '' '' '' '' '' '' '' 'oups' 'pg'\n",
            " \"il faudrait que 'on prenne l'indice\" \"c'est i l'indice\"\n",
            " \"et qu'il soit mis dans egal\" 'oui' 'vsy je fais' 'ok' 'copie colle'\n",
            " 'de quoi ?' 'non laisse tomber' 'ja'\n",
            " \"j'allais de proposer de copier coller mais non\"\n",
            " \"on fini l'activité ducoup?\" 'ok' 't puissant en info ?'\n",
            " 'non jsuis pas puissant ' '😂' ' toi t puissant en info ?'\n",
            " 'nn je suis eclater' \"tu vois cque j'écris la ?\" 'dans le éditeur' 'ouai'\n",
            " 'écrit un truc pour voir si jvois' 't qui leve toi pour voir 😂'\n",
            " 't ou dans la salle?' 'ta un t-shirt vert ?' 'ouais c moi' 'toi t qui ?'\n",
            " 'au fond ' '😂 😂 😂 pk ta donner la main attend' 'ta demandé '\n",
            " 'ct pas moi c le moukate de tar scooter moi 😂' 't puissant quand meme'\n",
            " 'nn je copier sur mon pote 😂' 'je fais finir moi ' '^^'\n",
            " 'Merde j’ai oublié qu’on etait 2' 'pas grave '\n",
            " 'moi je suis nul en programmation T_T'\n",
            " 'Tu veux pas bosser un peu xD j’ai grave la flemme' 'on est 2 xD'\n",
            " 'J’ai fini si ta des questions n’hésite pas '\n",
            " \"le True et le False c'est pour dire que ils sont égaux ?\"\n",
            " 'si ils sont egaux ou pas'\n",
            " 'Non c’est la réponse qu’il va renvoyer, True ils sont les même nombre d’éléments, False : il n’ont pas le même nombre'\n",
            " 'ok :D' 'En faite c’est que la longueur des tableaux qui faut comparer '\n",
            " 'Att peut être que j’ai mal lue la consigne' 'o_o' 'slt ! ' 'salut'\n",
            " 'ca va ? ' 'oui ça va et toi ' 'tranquille '\n",
            " 'tu sais plus ou moins comment faire ? '\n",
            " 'Je ne suis pas très fort en info '\n",
            " \"on est deux tkt j'ai une vague idée de comment faire mais je sais pas comment réellement le faire\"\n",
            " \"deja tu comprends ce que j'ai écris\" '? ' 'ouais '\n",
            " 'faut mettre la longueur du tableau noramlement '\n",
            " 'mais faut faire pour les deux non ? '\n",
            " \"oui je pense mais il y'a aussi le truc de la position\"\n",
            " \"ah ouais voila c ca que je chercher a faire avec le if je suis trop nul j'arrive pas a retenir certain truc essentiel \"\n",
            " \"c'est pas grave \" \"il faut mettre le (i) a coter d'append\"\n",
            " 'je sais pas si ca sert vrmt a qqch' 'en théorie ca pourrait marcher '\n",
            " 'le seul probleme devrait etre le for '\n",
            " \"je sais pas tu es qui mais si tu veux je peux essayer et t'envoyer mais faut echanger nos contact\"\n",
            " 'slt' 'yoo' 'bah voila' 'je sait pas comment je te donne la main'\n",
            " \"on fini l'activité ?\" 'normalement, non'\n",
            " \"ils faut mettre les exemples d'appels à au fonction\" 'ah oui bien vu'\n",
            " 'tu peux les mettres ?' 'salam il faudrait que tu écris en légende '\n",
            " '???' 'non tqt je commence à écrire le programme'\n",
            " \"on t'as dit deux tableaux []\"\n",
            " 'oui a , b sont les tableaux en paramètres tqt '\n",
            " 'on suppose les deux tabs de mêmes tailles ' 'tu trouves comment '\n",
            " 'explique ce que tu fait '\n",
            " \"le tableau a à l'indice 0 parcourt tout les indices \"\n",
            " \"du tableau B et vérifie si c'est égaux\"\n",
            " 'les doubles boucles ça marche mal ? ' 'il faut renvoyer un tableau'\n",
            " 'tu veux prendre la main ?' \"on met finir l'activité \"\n",
            " 'ah ouais tu sais pas faire une fonction ' 'bon ouais on finis ' 'yo'\n",
            " 'for i in range(0,len(list_1) : ?' 'yo'\n",
            " 'Je te mens pas je sais pas quoi faire après '\n",
            " 'if list_1[i] == liste_2[i] :' \"t'inquiète\"\n",
            " \"resultat.append(i) et après en dehors de la boucle tu met return resultat et jpense c'est bon\"\n",
            " 'comment ?' 'jsais pas comment on execute'\n",
            " 'en haut a droite normalement '\n",
            " 'jcrois faut tu mettes la ligne de test dans le code à la toute fin et après je peux executer'\n",
            " \"pour voir si c'est bon\"\n",
            " 'tu met ça coincide([78,23,12,12,54,32],[67,23,44,12,54,32]'\n",
            " 'avec une paranthese à la fin'\n",
            " \"copie colle ce qu'il y a dans sur moodle au pire\"\n",
            " 'juste en dessous de return resultat ?' 'en dehors '\n",
            " \"juste un cran avant et c'est bon\" \"c'est bon \"\n",
            " 'enleve le ? entre 67 et 23 dans la deuxième liste' \"et c'est bon \"\n",
            " \"mais au pire c'est grâve jmet finir l'activité \" \"c'est pas grâve*\"\n",
            " 'slt ' 'Slt ' 'tu sais un peut codé ? x)' 'Non sorry x(' 'eh merde x)'\n",
            " 'Et toi ? ' \"J'ai les bases a peut prêt x)\" 'Tu sais quoi faire la ?'\n",
            " \"Jvais lire ce qu'il a mis sur moodle voir ce qu'il faut faire \"\n",
            " 'Je vais faire de mm ' 'vsy'\n",
            " 'Je crois qu’elle est aux tableaux, les consignes '\n",
            " \"yep , j'essaie de bien comprendre la consigne x)\"\n",
            " 'si jamais tu as une idée , hésite pas ' 'Bon bin désolé :( '\n",
            " 'pas de soucis x)' \"tu as qui dans l'amphi d'ailleurs ? x) \" 'salut'\n",
            " 'salut' 'Salut' 'tu commence en premiere'\n",
            " 'Franchement je ne suis pas très bon mais si tu veux je peux essayer'\n",
            " \"d'accord\"\n",
            " 'Je bloque à partir de là, est ce qur tu aurais une idée pour nous faire avancer'\n",
            " 'Tu peux prendre la main si tu veux'\n",
            " 'si t as des idee ou tu veut la main fait peter'\n",
            " \"ouais je réfléchis j'ai rien là\" 'ok trkl je teste des truck tjr ' '👍'\n",
            " 'lébon nn' 'ou gain exécuter ?' 'att' 'good morning how are you doing'\n",
            " 'c bon ma couille ? ' 'HOOOOO ' 'ouais ' 'lest go il parle !!!'\n",
            " 'ya pas de retour a la ligne ou quoi frr' 'c bon ducoup ? ' 'non'\n",
            " 'ben vasy fait ' 'il est trop chau ' 'jsp si c bon'\n",
            " 'ya pas de verif si la tab1 est plus grande que la tab 2 '\n",
            " 'ya pas de verif si la tab1 est plus grande que la tab 2 ' 'jsp si c bon'\n",
            " 'ouais js guez' \"T'es où dans la salle\"\n",
            " 'je suis du coté gauche de la salle ' 'devant ou derriere ?' 'au milieux'\n",
            " 'et toi ?' 'A gauche au milieu' \"tu as compris ce qu'il faut faire ?\"\n",
            " \"je crois qu'il faut définir une fonction coincide\"\n",
            " 'comme sur le tableau je pense ...'\n",
            " 'ahh oui je vois mais je comprends pas comment il faut commencer '\n",
            " 'bah commence par écrire def coincide (....'\n",
            " 'toi aussi tu peux écrire je crois'\n",
            " \"rectifie ce que j'écris si jamais ça te semble pas bon\" 'Ok'\n",
            " 'je suis pas trop forte en python dsl si je peux pas trop aider !'\n",
            " 'je suis vraiment nulle aussi haha' 'ok bon bah salut ! XD' 'salut mdrr'\n",
            " 'pareil ' 'chef on fait quoi '\n",
            " 'Je suis sur le téléphone je peux quasiment rien faire ' 'on est foutu '\n",
            " 'mdr ' 'Au pire je regarde sur mon pote '\n",
            " \"tqt j'ai un pote c'est un crack il va gerer \" 'Ha nikel alors '\n",
            " 'Comment tu t’appelles si non ?' 'mehlam et toi '\n",
            " 'Super moi c’est ethan ' 'enchanté mec !!!!!!!!!' 'bon on fait quoi '\n",
            " 'Enchanté ' 'Du coup la c’est ton pote qui fait le programme ?' 'ouais '\n",
            " 'au pire chat gpt'\n",
            " 'Bah du coup on attend non j’ai aucune idée de ce qui ' '' 'Faut faire 😭'\n",
            " 'tu vois ce qui est ecris ' 'Ouais ' 'C’est bon ' 'Je peux ecrire ?'\n",
            " \"c'est pas bon mais bon on s'ne fou\" 'vays' 'Salut' 'yo' 'sv'\n",
            " 'yep et toi?' 'oui' 'je préfère prévenir je suis pas fort'\n",
            " 'Cool et tkt moi aussi XD je vais faire un vase qui je pense devrais aller et je te passe la main sa te vas?'\n",
            " 'comment sa un vase?' '\"base\" déso faute de frappe' 'ok tkt'\n",
            " 'je dois faire quoi concretement?'\n",
            " \"tu peut demander la main pour editer le code a ton tour sinon la j'ai une erreur sur le code si tu veux essayer de corriger\"\n",
            " \"elle est ou l'erreur?\"\n",
            " \"line 4 apparement mais je crois qu'il faut juste que j'utilise des [] a la place de ()\"\n",
            " \"c'est bon comme sa ?\" \"c'est bon ça marche\" \"j'execute?\"\n",
            " \"si tu veux tester quand ta fini de tester dit moi et on termine l'activité\"\n",
            " 'vas-y demande la main' \"on termine l'activité\" '?'\n",
            " \"Je t'avoues que je ne sait pas quoi faire tu pourrais prendre la main s'il te plait \"\n",
            " 'bonne chance ' '-_-' 'bonjour' 'bonjour' 'bjr'\n",
            " 'tu vois les ligne de codes ?' \"oui j'vois\" 'tu as fais des tests?'\n",
            " 'pas encore' \"ça l'air correct\" \"c'est ok\" 'on fini ?']\n"
          ]
        }
      ],
      "source": [
        "seance1_msg = seance1_df['message'].values #Récupère les valeurs de la colonne message et en fait une liste\n",
        "print(len(seance1_msg))\n",
        "print(seance1_msg)"
      ]
    },
    {
      "cell_type": "code",
      "execution_count": 11,
      "metadata": {},
      "outputs": [
        {
          "name": "stdout",
          "output_type": "stream",
          "text": [
            "seance2_df shape :  (1315, 4)\n"
          ]
        },
        {
          "data": {
            "text/plain": [
              "array(['bonjour ', 'bonjour', 'tu es bloqué?', ...,\n",
              "       'Tu voulais tous les mettre total non ?',\n",
              "       'Sais-tu pourquoi il y a une erreur ?', \"c'est bon\"], dtype=object)"
            ]
          },
          "execution_count": 11,
          "metadata": {},
          "output_type": "execute_result"
        }
      ],
      "source": [
        "seance2_df = parse_json_files_in_folder('Data\\messages_chat_seance2\\exportChatMessage')\n",
        "print(\"seance2_df shape : \",seance2_df.shape)\n",
        "seance2_df['message'].values"
      ]
    },
    {
      "cell_type": "code",
      "execution_count": 12,
      "metadata": {},
      "outputs": [
        {
          "name": "stdout",
          "output_type": "stream",
          "text": [
            "1315\n",
            "['bonjour ' 'bonjour' 'tu es bloqué?' ...\n",
            " 'Tu voulais tous les mettre total non ?'\n",
            " 'Sais-tu pourquoi il y a une erreur ?' \"c'est bon\"]\n"
          ]
        }
      ],
      "source": [
        "seance2_msg = seance2_df['message'].values #Récupère les valeurs de la colonne message et en fait une liste\n",
        "print(len(seance2_msg))\n",
        "print(seance2_msg)"
      ]
    },
    {
      "cell_type": "code",
      "execution_count": 30,
      "metadata": {},
      "outputs": [
        {
          "data": {
            "text/html": [
              "<div>\n",
              "<style scoped>\n",
              "    .dataframe tbody tr th:only-of-type {\n",
              "        vertical-align: middle;\n",
              "    }\n",
              "\n",
              "    .dataframe tbody tr th {\n",
              "        vertical-align: top;\n",
              "    }\n",
              "\n",
              "    .dataframe thead th {\n",
              "        text-align: right;\n",
              "    }\n",
              "</style>\n",
              "<table border=\"1\" class=\"dataframe\">\n",
              "  <thead>\n",
              "    <tr style=\"text-align: right;\">\n",
              "      <th></th>\n",
              "      <th>user</th>\n",
              "      <th>role</th>\n",
              "      <th>message</th>\n",
              "      <th>timestamp</th>\n",
              "      <th>Seance</th>\n",
              "    </tr>\n",
              "  </thead>\n",
              "  <tbody>\n",
              "    <tr>\n",
              "      <th>0</th>\n",
              "      <td>186202</td>\n",
              "      <td>Navigator</td>\n",
              "      <td>Tu es qui ,</td>\n",
              "      <td>2024-10-09T04:38:10.418Z</td>\n",
              "      <td>1</td>\n",
              "    </tr>\n",
              "    <tr>\n",
              "      <th>1</th>\n",
              "      <td>186202</td>\n",
              "      <td>Navigator</td>\n",
              "      <td>On se met 5 partout ok ?</td>\n",
              "      <td>2024-10-09T04:38:23.761Z</td>\n",
              "      <td>1</td>\n",
              "    </tr>\n",
              "    <tr>\n",
              "      <th>2</th>\n",
              "      <td>183897</td>\n",
              "      <td>Driver</td>\n",
              "      <td>Opé</td>\n",
              "      <td>2024-10-09T04:21:22.214Z</td>\n",
              "      <td>1</td>\n",
              "    </tr>\n",
              "    <tr>\n",
              "      <th>3</th>\n",
              "      <td>183897</td>\n",
              "      <td>Driver</td>\n",
              "      <td>Opé lmkt</td>\n",
              "      <td>2024-10-09T04:21:39.982Z</td>\n",
              "      <td>1</td>\n",
              "    </tr>\n",
              "    <tr>\n",
              "      <th>4</th>\n",
              "      <td>193392</td>\n",
              "      <td>Navigator</td>\n",
              "      <td>A PAR SA LE COUZ</td>\n",
              "      <td>2024-10-09T04:21:46.552Z</td>\n",
              "      <td>1</td>\n",
              "    </tr>\n",
              "  </tbody>\n",
              "</table>\n",
              "</div>"
            ],
            "text/plain": [
              "     user       role                   message                 timestamp  \\\n",
              "0  186202  Navigator               Tu es qui ,  2024-10-09T04:38:10.418Z   \n",
              "1  186202  Navigator  On se met 5 partout ok ?  2024-10-09T04:38:23.761Z   \n",
              "2  183897     Driver                       Opé  2024-10-09T04:21:22.214Z   \n",
              "3  183897     Driver                  Opé lmkt  2024-10-09T04:21:39.982Z   \n",
              "4  193392  Navigator         A PAR SA LE COUZ   2024-10-09T04:21:46.552Z   \n",
              "\n",
              "   Seance  \n",
              "0       1  \n",
              "1       1  \n",
              "2       1  \n",
              "3       1  \n",
              "4       1  "
            ]
          },
          "execution_count": 30,
          "metadata": {},
          "output_type": "execute_result"
        }
      ],
      "source": [
        "#Ajout d'une séance colonne pour différencier\n",
        "seance1_df['seanceID'] = 1\n",
        "seance1_df.head(5)"
      ]
    },
    {
      "cell_type": "code",
      "execution_count": 32,
      "metadata": {},
      "outputs": [
        {
          "data": {
            "text/html": [
              "<div>\n",
              "<style scoped>\n",
              "    .dataframe tbody tr th:only-of-type {\n",
              "        vertical-align: middle;\n",
              "    }\n",
              "\n",
              "    .dataframe tbody tr th {\n",
              "        vertical-align: top;\n",
              "    }\n",
              "\n",
              "    .dataframe thead th {\n",
              "        text-align: right;\n",
              "    }\n",
              "</style>\n",
              "<table border=\"1\" class=\"dataframe\">\n",
              "  <thead>\n",
              "    <tr style=\"text-align: right;\">\n",
              "      <th></th>\n",
              "      <th>user</th>\n",
              "      <th>role</th>\n",
              "      <th>message</th>\n",
              "      <th>timestamp</th>\n",
              "      <th>Seance</th>\n",
              "    </tr>\n",
              "  </thead>\n",
              "  <tbody>\n",
              "    <tr>\n",
              "      <th>0</th>\n",
              "      <td>183337</td>\n",
              "      <td>Driver</td>\n",
              "      <td>bonjour</td>\n",
              "      <td>2024-11-12T04:30:24.331Z</td>\n",
              "      <td>2</td>\n",
              "    </tr>\n",
              "    <tr>\n",
              "      <th>1</th>\n",
              "      <td>145133</td>\n",
              "      <td>Navigator</td>\n",
              "      <td>bonjour</td>\n",
              "      <td>2024-11-12T04:30:44.161Z</td>\n",
              "      <td>2</td>\n",
              "    </tr>\n",
              "    <tr>\n",
              "      <th>2</th>\n",
              "      <td>145133</td>\n",
              "      <td>Navigator</td>\n",
              "      <td>tu es bloqué?</td>\n",
              "      <td>2024-11-12T04:36:03.105Z</td>\n",
              "      <td>2</td>\n",
              "    </tr>\n",
              "    <tr>\n",
              "      <th>3</th>\n",
              "      <td>145133</td>\n",
              "      <td>Navigator</td>\n",
              "      <td>hésite pas si t'as une idée</td>\n",
              "      <td>2024-11-12T04:39:50.494Z</td>\n",
              "      <td>2</td>\n",
              "    </tr>\n",
              "    <tr>\n",
              "      <th>4</th>\n",
              "      <td>183337</td>\n",
              "      <td>Driver</td>\n",
              "      <td>ok</td>\n",
              "      <td>2024-11-12T04:40:06.334Z</td>\n",
              "      <td>2</td>\n",
              "    </tr>\n",
              "  </tbody>\n",
              "</table>\n",
              "</div>"
            ],
            "text/plain": [
              "     user       role                      message                 timestamp  \\\n",
              "0  183337     Driver                     bonjour   2024-11-12T04:30:24.331Z   \n",
              "1  145133  Navigator                      bonjour  2024-11-12T04:30:44.161Z   \n",
              "2  145133  Navigator                tu es bloqué?  2024-11-12T04:36:03.105Z   \n",
              "3  145133  Navigator  hésite pas si t'as une idée  2024-11-12T04:39:50.494Z   \n",
              "4  183337     Driver                          ok   2024-11-12T04:40:06.334Z   \n",
              "\n",
              "   Seance  \n",
              "0       2  \n",
              "1       2  \n",
              "2       2  \n",
              "3       2  \n",
              "4       2  "
            ]
          },
          "execution_count": 32,
          "metadata": {},
          "output_type": "execute_result"
        }
      ],
      "source": [
        "seance2_df['seanceID'] = 2\n",
        "seance2_df.head(5)"
      ]
    },
    {
      "cell_type": "code",
      "execution_count": 56,
      "metadata": {},
      "outputs": [
        {
          "name": "stdout",
          "output_type": "stream",
          "text": [
            "             user       role                   message  \\\n",
            "messageID                                                \n",
            "0          186202  Navigator               Tu es qui ,   \n",
            "1          186202  Navigator  On se met 5 partout ok ?   \n",
            "2          183897     Driver                       Opé   \n",
            "3          183897     Driver                  Opé lmkt   \n",
            "4          193392  Navigator         A PAR SA LE COUZ    \n",
            "\n",
            "                          timestamp  Seance  \n",
            "messageID                                    \n",
            "0          2024-10-09T04:38:10.418Z       1  \n",
            "1          2024-10-09T04:38:23.761Z       1  \n",
            "2          2024-10-09T04:21:22.214Z       1  \n",
            "3          2024-10-09T04:21:39.982Z       1  \n",
            "4          2024-10-09T04:21:46.552Z       1                user       role                                 message  \\\n",
            "messageID                                                              \n",
            "1310       144245  Navigator                               c'est bon   \n",
            "1311       192807     Driver     A la base, ce n'est pas total non ?   \n",
            "1312       192807     Driver  Tu voulais tous les mettre total non ?   \n",
            "1313       192807     Driver    Sais-tu pourquoi il y a une erreur ?   \n",
            "1314       144245  Navigator                               c'est bon   \n",
            "\n",
            "                          timestamp  Seance  \n",
            "messageID                                    \n",
            "1310       2024-11-12T04:48:02.342Z       2  \n",
            "1311       2024-11-12T04:48:09.259Z       2  \n",
            "1312       2024-11-12T04:49:41.241Z       2  \n",
            "1313       2024-11-12T05:00:20.639Z       2  \n",
            "1314       2024-11-12T05:11:26.402Z       2  \n"
          ]
        }
      ],
      "source": [
        "all_messages_df = pd.concat([seance1_df,seance2_df],axis = 0)\n",
        "all_messages_df.index.names=['messageID']\n",
        "print(all_messages_df.head(5),all_messages_df.tail(5))"
      ]
    },
    {
      "cell_type": "code",
      "execution_count": 57,
      "metadata": {},
      "outputs": [],
      "source": [
        "all_messages_df.to_csv('all_messages.csv')"
      ]
    },
    {
      "cell_type": "markdown",
      "metadata": {},
      "source": [
        "### Truncated SVD -- LSA (Latent Semantic Analysis)"
      ]
    },
    {
      "cell_type": "code",
      "execution_count": 13,
      "metadata": {
        "id": "L7Z_ST7_zSt_"
      },
      "outputs": [
        {
          "name": "stdout",
          "output_type": "stream",
          "text": [
            "['ces', 'eusses', 'aurions', 'fussiez', 'dans', 'eues', 'on', 'eue', 'aurez', 'ton', 'eussiez', 'avait', 'serai', 'fûmes', 'ayante', 'aux', 'étaient', 'furent', 'avais', 'un', 'ou', 'eussent', 'fut', 'eurent', 'il', 'aurait', 'mes', 'qu', 'par', 'toi', 'me', 'fût', 'eux', 'avons', 'seriez', 'suis', 'ma', 'aies', 'étant', 'au', 'ce', 'du', 'eut', 'se', 'des', 'eu', 'eûtes', 'en', 'ils', 'aurons', 'votre', 'vous', 'seras', 'sur', 'étions', 'auriez', 'que', 'aient', 'nous', 'aviez', 'je', 'c', 'aura', 'le', 'ayez', 'es', 'serait', 'avions', 'l', 'as', 'étais', 'ta', 'notre', 'étée', 'serais', 'te', 'mais', 'serez', 'y', 'son', 'tes', 'à', 'était', 'serons', 'qui', 'soit', 'avec', 'étées', 'avaient', 's', 'eusse', 'fûtes', 't', 'aurais', 'êtes', 'fusse', 'soient', 'de', 'eus', 'étantes', 'fussions', 'avez', 'étante', 'ses', 'et', 'fus', 'auras', 'été', 'serions', 'soyons', 'ayants', 'eussions', 'ait', 'mon', 'la', 'fusses', 'nos', 'sa', 'fussent', 'auraient', 'moi', 'eûmes', 'est', 'ayant', 'seraient', 'étiez', 'j', 'soyez', 'n', 'sois', 'sera', 'aurai', 'elle', 'étants', 'ayantes', 'étés', 'ai', 'tu', 'vos', 'auront', 'pas', 'sommes', 'leur', 'eût', 'seront', 'ont', 'd', 'même', 'une', 'les', 'm', 'pour', 'aie', 'ne', 'lui', 'ayons', 'sont']\n"
          ]
        }
      ],
      "source": [
        "tokenizer = RegexpTokenizer(r'\\b\\w{3,}\\b') #garde les mots d'au moins trois lettres, avec dans les mots soit des lettres, soit des chiffres (pas de caractères spéciaux)\n",
        "stop_words = list(set(stopwords.words(\"french\"))) #On enlève les mots communs sans interêt en français ; on garde ceux en anglais car indique probablement du code\n",
        "print(stop_words)\n",
        "stop_words += list(string.punctuation)"
      ]
    },
    {
      "cell_type": "code",
      "execution_count": 14,
      "metadata": {
        "colab": {
          "base_uri": "https://localhost:8080/",
          "height": 147
        },
        "id": "AT-s8eNEzTtR",
        "outputId": "b8bf80ec-ab29-4df5-e80e-f4c0d2ba9694"
      },
      "outputs": [
        {
          "name": "stdout",
          "output_type": "stream",
          "text": [
            "Shape : (440, 20)\n"
          ]
        },
        {
          "name": "stderr",
          "output_type": "stream",
          "text": [
            "c:\\Users\\cbd65\\anaconda3\\envs\\jupyterenv\\lib\\site-packages\\sklearn\\feature_extraction\\text.py:517: UserWarning: The parameter 'token_pattern' will not be used since 'tokenizer' is not None'\n",
            "  warnings.warn(\n"
          ]
        },
        {
          "data": {
            "text/html": [
              "<div>\n",
              "<style scoped>\n",
              "    .dataframe tbody tr th:only-of-type {\n",
              "        vertical-align: middle;\n",
              "    }\n",
              "\n",
              "    .dataframe tbody tr th {\n",
              "        vertical-align: top;\n",
              "    }\n",
              "\n",
              "    .dataframe thead th {\n",
              "        text-align: right;\n",
              "    }\n",
              "</style>\n",
              "<table border=\"1\" class=\"dataframe\">\n",
              "  <thead>\n",
              "    <tr style=\"text-align: right;\">\n",
              "      <th></th>\n",
              "      <th>activité</th>\n",
              "      <th>bah</th>\n",
              "      <th>bon</th>\n",
              "      <th>comment</th>\n",
              "      <th>faire</th>\n",
              "      <th>fais</th>\n",
              "      <th>fait</th>\n",
              "      <th>faut</th>\n",
              "      <th>fini</th>\n",
              "      <th>main</th>\n",
              "      <th>non</th>\n",
              "      <th>ouais</th>\n",
              "      <th>oui</th>\n",
              "      <th>peux</th>\n",
              "      <th>quoi</th>\n",
              "      <th>sais</th>\n",
              "      <th>salut</th>\n",
              "      <th>tableau</th>\n",
              "      <th>veux</th>\n",
              "      <th>vois</th>\n",
              "    </tr>\n",
              "  </thead>\n",
              "  <tbody>\n",
              "    <tr>\n",
              "      <th>0</th>\n",
              "      <td>0.0</td>\n",
              "      <td>0.0</td>\n",
              "      <td>0.0</td>\n",
              "      <td>0.0</td>\n",
              "      <td>0.0</td>\n",
              "      <td>0.0</td>\n",
              "      <td>0.0</td>\n",
              "      <td>0.0</td>\n",
              "      <td>0.0</td>\n",
              "      <td>0.0</td>\n",
              "      <td>0.0</td>\n",
              "      <td>0.0</td>\n",
              "      <td>0.0</td>\n",
              "      <td>0.0</td>\n",
              "      <td>0.0</td>\n",
              "      <td>0.0</td>\n",
              "      <td>0.0</td>\n",
              "      <td>0.0</td>\n",
              "      <td>0.0</td>\n",
              "      <td>0.0</td>\n",
              "    </tr>\n",
              "    <tr>\n",
              "      <th>1</th>\n",
              "      <td>0.0</td>\n",
              "      <td>0.0</td>\n",
              "      <td>0.0</td>\n",
              "      <td>0.0</td>\n",
              "      <td>0.0</td>\n",
              "      <td>0.0</td>\n",
              "      <td>0.0</td>\n",
              "      <td>0.0</td>\n",
              "      <td>0.0</td>\n",
              "      <td>0.0</td>\n",
              "      <td>0.0</td>\n",
              "      <td>0.0</td>\n",
              "      <td>0.0</td>\n",
              "      <td>0.0</td>\n",
              "      <td>0.0</td>\n",
              "      <td>0.0</td>\n",
              "      <td>0.0</td>\n",
              "      <td>0.0</td>\n",
              "      <td>0.0</td>\n",
              "      <td>0.0</td>\n",
              "    </tr>\n",
              "  </tbody>\n",
              "</table>\n",
              "</div>"
            ],
            "text/plain": [
              "   activité  bah  bon  comment  faire  fais  fait  faut  fini  main  non  \\\n",
              "0       0.0  0.0  0.0      0.0    0.0   0.0   0.0   0.0   0.0   0.0  0.0   \n",
              "1       0.0  0.0  0.0      0.0    0.0   0.0   0.0   0.0   0.0   0.0  0.0   \n",
              "\n",
              "   ouais  oui  peux  quoi  sais  salut  tableau  veux  vois  \n",
              "0    0.0  0.0   0.0   0.0   0.0    0.0      0.0   0.0   0.0  \n",
              "1    0.0  0.0   0.0   0.0   0.0    0.0      0.0   0.0   0.0  "
            ]
          },
          "execution_count": 14,
          "metadata": {},
          "output_type": "execute_result"
        }
      ],
      "source": [
        "#tf-idf = Term Frequency Inverse Document Frequency of records\n",
        "#tf = term frequency\n",
        "#idf = inverse codument frequency (les mots les plus communs dans les documents semblent moins significatifs)\n",
        "tfidf = TfidfVectorizer(lowercase=True, #Convertir tous les caractères en lowercase avant de tokenize\n",
        "                        stop_words=stop_words,\n",
        "                        tokenizer=tokenizer.tokenize,\n",
        "                        max_df=0.7, #ignore les items ayant une fréquence supérieure à x\n",
        "                        min_df=0.015 #ignore les items ayant une fréquence inférieure à x\n",
        "                       )\n",
        "\n",
        "tfidf_train_sparse = tfidf.fit_transform(seance1_msg) # equivalent à fit puis transform : fit entraine le modèle, transform applique le modele sur le dataset\n",
        "#Crée un DF avec les résultats\n",
        "tfidf_train_df = pd.DataFrame(tfidf_train_sparse.toarray(), #transforme une matrice en tableau 2D\n",
        "                        columns=tfidf.get_feature_names_out()) #get output feature names for transfomation = les mots // les noms des colonnes ?\n",
        "\n",
        "print('Shape :',tfidf_train_df.shape)\n",
        "tfidf_train_df.head(2)"
      ]
    },
    {
      "cell_type": "code",
      "execution_count": 15,
      "metadata": {
        "id": "N-Dn1m6FyqxW"
      },
      "outputs": [
        {
          "name": "stdout",
          "output_type": "stream",
          "text": [
            "V_T shape :  (20, 20)\n"
          ]
        }
      ],
      "source": [
        "#Transforme la matrice du dessus en une autre plus réduite en utilisant la décomposition en valeurs singulières A = U * Sigma * V_T.\n",
        "\n",
        "#n_components = dimension de l'output (100 recommendé pour LSA, doit être <= au nombre de features)\n",
        "lsa_obj = TruncatedSVD(n_components=20, n_iter=100, random_state=42)\n",
        "tfidf_lsa_data = lsa_obj.fit_transform(tfidf_train_df)\n",
        "Sigma = lsa_obj.singular_values_ # Matrice centrale, valeurs correcspondant à chaque composant sélectionné\n",
        "V_T = lsa_obj.components_.T # components_ = vecteurs singuliers de droite de l'input data\n",
        "print(\"V_T shape : \",V_T.shape)"
      ]
    },
    {
      "cell_type": "code",
      "execution_count": 16,
      "metadata": {
        "colab": {
          "base_uri": "https://localhost:8080/",
          "height": 447
        },
        "id": "FoxaNDG52Moo",
        "outputId": "adf3104c-10c0-434f-de44-b61a454d7500"
      },
      "outputs": [
        {
          "data": {
            "image/png": "[encoded data removed]",
            "text/plain": [
              "<Figure size 640x480 with 1 Axes>"
            ]
          },
          "metadata": {},
          "output_type": "display_data"
        }
      ],
      "source": [
        "#Affichage de l'importance de chaque composante\n",
        "axis_object = sns.barplot(x=list(range(len(Sigma))), y = Sigma)\n",
        "plt.xlabel(\"Latent component\")\n",
        "plt.ylabel('Relative importance of each component')\n",
        "plt.title(\"Singluar values\")\n",
        "plt.show(axis_object)"
      ]
    },
    {
      "cell_type": "code",
      "execution_count": 17,
      "metadata": {
        "id": "FIeJ2-Pc2On0"
      },
      "outputs": [
        {
          "data": {
            "text/html": [
              "<div>\n",
              "<style scoped>\n",
              "    .dataframe tbody tr th:only-of-type {\n",
              "        vertical-align: middle;\n",
              "    }\n",
              "\n",
              "    .dataframe tbody tr th {\n",
              "        vertical-align: top;\n",
              "    }\n",
              "\n",
              "    .dataframe thead th {\n",
              "        text-align: right;\n",
              "    }\n",
              "</style>\n",
              "<table border=\"1\" class=\"dataframe\">\n",
              "  <thead>\n",
              "    <tr style=\"text-align: right;\">\n",
              "      <th></th>\n",
              "      <th>Latent_concept_0</th>\n",
              "      <th>Latent_concept_1</th>\n",
              "      <th>Latent_concept_2</th>\n",
              "      <th>Latent_concept_3</th>\n",
              "      <th>Latent_concept_4</th>\n",
              "      <th>Latent_concept_5</th>\n",
              "      <th>Latent_concept_6</th>\n",
              "      <th>Latent_concept_7</th>\n",
              "      <th>Latent_concept_8</th>\n",
              "      <th>Latent_concept_9</th>\n",
              "      <th>Latent_concept_10</th>\n",
              "      <th>Latent_concept_11</th>\n",
              "      <th>Latent_concept_12</th>\n",
              "      <th>Latent_concept_13</th>\n",
              "      <th>Latent_concept_14</th>\n",
              "      <th>Latent_concept_15</th>\n",
              "      <th>Latent_concept_16</th>\n",
              "      <th>Latent_concept_17</th>\n",
              "      <th>Latent_concept_18</th>\n",
              "      <th>Latent_concept_19</th>\n",
              "    </tr>\n",
              "  </thead>\n",
              "  <tbody>\n",
              "    <tr>\n",
              "      <th>activité</th>\n",
              "      <td>0.000565</td>\n",
              "      <td>0.005773</td>\n",
              "      <td>-0.001997</td>\n",
              "      <td>0.004971</td>\n",
              "      <td>0.007559</td>\n",
              "      <td>0.001825</td>\n",
              "      <td>0.034355</td>\n",
              "      <td>-0.018979</td>\n",
              "      <td>-0.026452</td>\n",
              "      <td>0.157994</td>\n",
              "      <td>0.072556</td>\n",
              "      <td>0.456579</td>\n",
              "      <td>0.253099</td>\n",
              "      <td>-0.108628</td>\n",
              "      <td>-0.009893</td>\n",
              "      <td>0.110679</td>\n",
              "      <td>0.003384</td>\n",
              "      <td>-0.008375</td>\n",
              "      <td>0.021835</td>\n",
              "      <td>0.818645</td>\n",
              "    </tr>\n",
              "    <tr>\n",
              "      <th>bah</th>\n",
              "      <td>0.044633</td>\n",
              "      <td>-0.002315</td>\n",
              "      <td>0.002000</td>\n",
              "      <td>-0.007283</td>\n",
              "      <td>0.006878</td>\n",
              "      <td>0.068611</td>\n",
              "      <td>0.082061</td>\n",
              "      <td>-0.023649</td>\n",
              "      <td>-0.019650</td>\n",
              "      <td>-0.007937</td>\n",
              "      <td>-0.000312</td>\n",
              "      <td>-0.030747</td>\n",
              "      <td>-0.002718</td>\n",
              "      <td>0.004739</td>\n",
              "      <td>0.007485</td>\n",
              "      <td>-0.013426</td>\n",
              "      <td>0.002054</td>\n",
              "      <td>-0.171344</td>\n",
              "      <td>0.977119</td>\n",
              "      <td>-0.010550</td>\n",
              "    </tr>\n",
              "    <tr>\n",
              "      <th>bon</th>\n",
              "      <td>0.993513</td>\n",
              "      <td>-0.079948</td>\n",
              "      <td>0.017527</td>\n",
              "      <td>-0.025439</td>\n",
              "      <td>0.017438</td>\n",
              "      <td>-0.028047</td>\n",
              "      <td>0.005579</td>\n",
              "      <td>0.019879</td>\n",
              "      <td>-0.010384</td>\n",
              "      <td>-0.023795</td>\n",
              "      <td>-0.029910</td>\n",
              "      <td>0.010543</td>\n",
              "      <td>0.013555</td>\n",
              "      <td>0.010638</td>\n",
              "      <td>0.001181</td>\n",
              "      <td>-0.006782</td>\n",
              "      <td>0.010668</td>\n",
              "      <td>0.001289</td>\n",
              "      <td>-0.043924</td>\n",
              "      <td>0.000524</td>\n",
              "    </tr>\n",
              "  </tbody>\n",
              "</table>\n",
              "</div>"
            ],
            "text/plain": [
              "          Latent_concept_0  Latent_concept_1  Latent_concept_2  \\\n",
              "activité          0.000565          0.005773         -0.001997   \n",
              "bah               0.044633         -0.002315          0.002000   \n",
              "bon               0.993513         -0.079948          0.017527   \n",
              "\n",
              "          Latent_concept_3  Latent_concept_4  Latent_concept_5  \\\n",
              "activité          0.004971          0.007559          0.001825   \n",
              "bah              -0.007283          0.006878          0.068611   \n",
              "bon              -0.025439          0.017438         -0.028047   \n",
              "\n",
              "          Latent_concept_6  Latent_concept_7  Latent_concept_8  \\\n",
              "activité          0.034355         -0.018979         -0.026452   \n",
              "bah               0.082061         -0.023649         -0.019650   \n",
              "bon               0.005579          0.019879         -0.010384   \n",
              "\n",
              "          Latent_concept_9  Latent_concept_10  Latent_concept_11  \\\n",
              "activité          0.157994           0.072556           0.456579   \n",
              "bah              -0.007937          -0.000312          -0.030747   \n",
              "bon              -0.023795          -0.029910           0.010543   \n",
              "\n",
              "          Latent_concept_12  Latent_concept_13  Latent_concept_14  \\\n",
              "activité           0.253099          -0.108628          -0.009893   \n",
              "bah               -0.002718           0.004739           0.007485   \n",
              "bon                0.013555           0.010638           0.001181   \n",
              "\n",
              "          Latent_concept_15  Latent_concept_16  Latent_concept_17  \\\n",
              "activité           0.110679           0.003384          -0.008375   \n",
              "bah               -0.013426           0.002054          -0.171344   \n",
              "bon               -0.006782           0.010668           0.001289   \n",
              "\n",
              "          Latent_concept_18  Latent_concept_19  \n",
              "activité           0.021835           0.818645  \n",
              "bah                0.977119          -0.010550  \n",
              "bon               -0.043924           0.000524  "
            ]
          },
          "execution_count": 17,
          "metadata": {},
          "output_type": "execute_result"
        }
      ],
      "source": [
        "#Transformation de V_T en DF pour une utilisation plus facile\n",
        "term_topic_matrix = pd.DataFrame(data=V_T,\n",
        "                                 index = tfidf_train_df.columns,\n",
        "                                 columns = [f'Latent_concept_{r}' for r in range(0,V_T.shape[1])])\n",
        "term_topic_matrix.head(3)"
      ]
    },
    {
      "cell_type": "code",
      "execution_count": 18,
      "metadata": {},
      "outputs": [],
      "source": [
        "def visualize_top_bottom_terms_component(matrix,nbComponent):\n",
        "    name_col = 'Latent_concept_'+str(nbComponent)\n",
        "    data = matrix[name_col]\n",
        "    data = data.sort_values(ascending=False)\n",
        "    top_10 = data[:10]\n",
        "    data = data.sort_values(ascending=True)\n",
        "    bottom_10 = data[:10]\n",
        "    #fig,axes = plt.subplots(nrows=1, ncols=2,figsize=(5,5))\n",
        "\n",
        "    plt.subplot(1,2,1)\n",
        "    plt.bar(top_10.values,top_10.index)\n",
        "\n",
        "    plt.subplot(1,2,2)\n",
        "    plt.bar(bottom_10.values,bottom_10.index)\n",
        "\n",
        "    plt.show()\n"
      ]
    },
    {
      "cell_type": "code",
      "execution_count": 19,
      "metadata": {},
      "outputs": [
        {
          "data": {
            "image/png": "[encoded data removed]",
            "text/plain": [
              "<Figure size 640x480 with 2 Axes>"
            ]
          },
          "metadata": {},
          "output_type": "display_data"
        }
      ],
      "source": [
        "visualize_top_bottom_terms_component(term_topic_matrix,1) ##not working"
      ]
    },
    {
      "cell_type": "code",
      "execution_count": 20,
      "metadata": {},
      "outputs": [
        {
          "data": {
            "image/png": "[encoded data removed]",
            "text/plain": [
              "<Figure size 640x480 with 1 Axes>"
            ]
          },
          "metadata": {},
          "output_type": "display_data"
        }
      ],
      "source": [
        "data = term_topic_matrix['Latent_concept_1']\n",
        "data = data.sort_values(ascending=False)\n",
        "top_10 = data[:10]\n",
        "plt.title('Top terms along the axis of Latent concept 1')\n",
        "fig = sns.barplot(x= top_10.values, y=top_10.index)"
      ]
    },
    {
      "cell_type": "code",
      "execution_count": 21,
      "metadata": {
        "colab": {
          "base_uri": "https://localhost:8080/",
          "height": 452
        },
        "id": "1RsTw5YA2Vik",
        "outputId": "068504ac-7f46-48de-d66e-8f77e2ff2a1f"
      },
      "outputs": [
        {
          "data": {
            "image/png": "[encoded data removed]",
            "text/plain": [
              "<Figure size 640x480 with 1 Axes>"
            ]
          },
          "metadata": {},
          "output_type": "display_data"
        }
      ],
      "source": [
        "data = term_topic_matrix[f'Latent_concept_1']\n",
        "data = data.sort_values(ascending=False)\n",
        "top_10 = data[:10]\n",
        "plt.title('Top terms along the axis of Latent concept 1')\n",
        "fig = sns.barplot(x= top_10.values, y=top_10.index)"
      ]
    },
    {
      "cell_type": "code",
      "execution_count": 22,
      "metadata": {
        "colab": {
          "base_uri": "https://localhost:8080/",
          "height": 452
        },
        "id": "ttM9XfmMBbP_",
        "outputId": "73e92d93-6c32-49f7-91b1-dd0c7433267e"
      },
      "outputs": [
        {
          "data": {
            "image/png": "[encoded data removed]",
            "text/plain": [
              "<Figure size 640x480 with 1 Axes>"
            ]
          },
          "metadata": {},
          "output_type": "display_data"
        }
      ],
      "source": [
        "data = term_topic_matrix[f'Latent_concept_1']\n",
        "data = data.sort_values(ascending=True)\n",
        "top_10 = data[:10]\n",
        "plt.title('Bottom terms along the axis of Latent concept 1')\n",
        "fig = sns.barplot(x= top_10.values, y=top_10.index)"
      ]
    },
    {
      "cell_type": "code",
      "execution_count": 23,
      "metadata": {
        "colab": {
          "base_uri": "https://localhost:8080/",
          "height": 452
        },
        "id": "vBfuk_-A3CWJ",
        "outputId": "4448752f-a983-43e7-f2f3-5f3a2def07e4"
      },
      "outputs": [
        {
          "data": {
            "image/png": "[encoded data removed]",
            "text/plain": [
              "<Figure size 640x480 with 1 Axes>"
            ]
          },
          "metadata": {},
          "output_type": "display_data"
        }
      ],
      "source": [
        "data = term_topic_matrix[f'Latent_concept_2']\n",
        "data = data.sort_values(ascending=False)\n",
        "top_10 = data[:10]\n",
        "plt.title('Top terms along the axis of Latent concept 2')\n",
        "fig = sns.barplot(x= top_10.values, y=top_10.index)"
      ]
    },
    {
      "cell_type": "code",
      "execution_count": 24,
      "metadata": {
        "colab": {
          "base_uri": "https://localhost:8080/",
          "height": 452
        },
        "id": "kgMGMmbl4fZQ",
        "outputId": "25d4a49e-d6fd-424e-c702-945d731790bb"
      },
      "outputs": [
        {
          "data": {
            "image/png": "[encoded data removed]",
            "text/plain": [
              "<Figure size 640x480 with 1 Axes>"
            ]
          },
          "metadata": {},
          "output_type": "display_data"
        }
      ],
      "source": [
        "data = term_topic_matrix[f'Latent_concept_2']\n",
        "data = data.sort_values(ascending=True)\n",
        "top_10 = data[:10]\n",
        "plt.title('Bottom terms along the axis of Latent concept 2')\n",
        "fig = sns.barplot(x= top_10.values, y=top_10.index)"
      ]
    },
    {
      "cell_type": "code",
      "execution_count": 25,
      "metadata": {
        "colab": {
          "base_uri": "https://localhost:8080/",
          "height": 452
        },
        "id": "V8YgEp6r4HPB",
        "outputId": "1a5f8d69-81ea-4bcf-953a-8e392f506ce9"
      },
      "outputs": [
        {
          "data": {
            "image/png": "[encoded data removed]",
            "text/plain": [
              "<Figure size 640x480 with 1 Axes>"
            ]
          },
          "metadata": {},
          "output_type": "display_data"
        }
      ],
      "source": [
        "data = term_topic_matrix[f'Latent_concept_5']\n",
        "data = data.sort_values(ascending=False)\n",
        "top_10 = data[:10]\n",
        "plt.title('Top terms along the axis of Latent concept 5')\n",
        "fig = sns.barplot(x= top_10.values, y=top_10.index)"
      ]
    },
    {
      "cell_type": "code",
      "execution_count": 26,
      "metadata": {
        "colab": {
          "base_uri": "https://localhost:8080/",
          "height": 452
        },
        "id": "MHmYYXt0B8Db",
        "outputId": "9edb7f8f-602d-4c82-dcff-7db8d4a32d0f"
      },
      "outputs": [
        {
          "data": {
            "image/png": "[encoded data removed]",
            "text/plain": [
              "<Figure size 640x480 with 1 Axes>"
            ]
          },
          "metadata": {},
          "output_type": "display_data"
        }
      ],
      "source": [
        "data = term_topic_matrix[f'Latent_concept_5']\n",
        "data = data.sort_values(ascending=True)\n",
        "top_10 = data[:10]\n",
        "plt.title('Bottom terms along the axis of Latent concept 5')\n",
        "fig = sns.barplot(x= top_10.values, y=top_10.index)"
      ]
    },
    {
      "cell_type": "code",
      "execution_count": null,
      "metadata": {
        "id": "iSmzzfGGJWnQ"
      },
      "outputs": [],
      "source": []
    }
  ],
  "metadata": {
    "colab": {
      "provenance": []
    },
    "kernelspec": {
      "display_name": "jupyterenv",
      "language": "python",
      "name": "python3"
    },
    "language_info": {
      "codemirror_mode": {
        "name": "ipython",
        "version": 3
      },
      "file_extension": ".py",
      "mimetype": "text/x-python",
      "name": "python",
      "nbconvert_exporter": "python",
      "pygments_lexer": "ipython3",
      "version": "3.9.21"
    }
  },
  "nbformat": 4,
  "nbformat_minor": 0
}
