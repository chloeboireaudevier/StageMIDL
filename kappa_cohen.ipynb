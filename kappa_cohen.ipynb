{
 "cells": [
  {
   "cell_type": "code",
   "execution_count": 2,
   "metadata": {},
   "outputs": [],
   "source": [
    "import pandas as pd\n",
    "from sklearn.metrics import cohen_kappa_score"
   ]
  },
  {
   "cell_type": "code",
   "execution_count": 26,
   "metadata": {},
   "outputs": [
    {
     "data": {
      "text/html": [
       "<div>\n",
       "<style scoped>\n",
       "    .dataframe tbody tr th:only-of-type {\n",
       "        vertical-align: middle;\n",
       "    }\n",
       "\n",
       "    .dataframe tbody tr th {\n",
       "        vertical-align: top;\n",
       "    }\n",
       "\n",
       "    .dataframe thead th {\n",
       "        text-align: right;\n",
       "    }\n",
       "</style>\n",
       "<table border=\"1\" class=\"dataframe\">\n",
       "  <thead>\n",
       "    <tr style=\"text-align: right;\">\n",
       "      <th></th>\n",
       "      <th>messageID</th>\n",
       "      <th>user</th>\n",
       "      <th>role</th>\n",
       "      <th>message</th>\n",
       "      <th>groupID</th>\n",
       "      <th>fileID</th>\n",
       "      <th>date</th>\n",
       "      <th>time</th>\n",
       "      <th>seanceID</th>\n",
       "      <th>Forme ( du contenu )</th>\n",
       "      <th>Contenu</th>\n",
       "      <th>Nature</th>\n",
       "    </tr>\n",
       "  </thead>\n",
       "  <tbody>\n",
       "    <tr>\n",
       "      <th>0</th>\n",
       "      <td>24</td>\n",
       "      <td>145797</td>\n",
       "      <td>Driver</td>\n",
       "      <td>tu pense si je fais un for in in range avec un...</td>\n",
       "      <td>4</td>\n",
       "      <td>1db9dee2-2702-457f-aa07-6b60589446ce</td>\n",
       "      <td>2024-10-09</td>\n",
       "      <td>04:25:31</td>\n",
       "      <td>1</td>\n",
       "      <td>Question</td>\n",
       "      <td>Mots cl�s python</td>\n",
       "      <td>Demande d'aide</td>\n",
       "    </tr>\n",
       "    <tr>\n",
       "      <th>1</th>\n",
       "      <td>30</td>\n",
       "      <td>200807</td>\n",
       "      <td>Navigator</td>\n",
       "      <td>en vrai c'est pas mieux de faire un \"if len(a)...</td>\n",
       "      <td>4</td>\n",
       "      <td>1db9dee2-2702-457f-aa07-6b60589446ce</td>\n",
       "      <td>2024-10-09</td>\n",
       "      <td>04:28:50</td>\n",
       "      <td>1</td>\n",
       "      <td>Question</td>\n",
       "      <td>Mots cl�s python</td>\n",
       "      <td>Informations sur comment prod�der</td>\n",
       "    </tr>\n",
       "  </tbody>\n",
       "</table>\n",
       "</div>"
      ],
      "text/plain": [
       "  messageID    user       role  \\\n",
       "0        24  145797     Driver   \n",
       "1        30  200807  Navigator   \n",
       "\n",
       "                                             message groupID  \\\n",
       "0  tu pense si je fais un for in in range avec un...       4   \n",
       "1  en vrai c'est pas mieux de faire un \"if len(a)...       4   \n",
       "\n",
       "                                 fileID        date      time seanceID  \\\n",
       "0  1db9dee2-2702-457f-aa07-6b60589446ce  2024-10-09  04:25:31        1   \n",
       "1  1db9dee2-2702-457f-aa07-6b60589446ce  2024-10-09  04:28:50        1   \n",
       "\n",
       "  Forme ( du contenu )           Contenu                             Nature  \n",
       "0             Question  Mots cl�s python                     Demande d'aide  \n",
       "1             Question  Mots cl�s python  Informations sur comment prod�der  "
      ]
     },
     "execution_count": 26,
     "metadata": {},
     "output_type": "execute_result"
    }
   ],
   "source": [
    "#Récupération des données\n",
    "dataJulien = pd.df = pd.read_csv(\"SousCorpusMessagesJulien.csv\")\n",
    "dataJose = pd.df = pd.read_csv(\"SousCorpusMessagesJose.csv\")\n",
    "dataChloe = pd.df = pd.read_csv(\"SousCorpusMessagesChloe.csv\")\n",
    "dataChloe.head(2)"
   ]
  },
  {
   "cell_type": "code",
   "execution_count": 27,
   "metadata": {},
   "outputs": [
    {
     "data": {
      "text/plain": [
       "Index(['messageID', 'user', 'role', 'message', 'groupID', 'fileID', 'date',\n",
       "       'time', 'seanceID', 'Forme', 'Contenu', 'Nature'],\n",
       "      dtype='object')"
      ]
     },
     "execution_count": 27,
     "metadata": {},
     "output_type": "execute_result"
    }
   ],
   "source": [
    "dataJulien.columns"
   ]
  },
  {
   "cell_type": "code",
   "execution_count": 28,
   "metadata": {},
   "outputs": [
    {
     "data": {
      "text/plain": [
       "0        Question\n",
       "1     Explication\n",
       "2     Description\n",
       "3      Correction\n",
       "4      Correction\n",
       "5      Validation\n",
       "6        Question\n",
       "7     Description\n",
       "8           Autre\n",
       "9     Explication\n",
       "10    Instruction\n",
       "11    Explication\n",
       "12     Validation\n",
       "13    Explication\n",
       "14    Explication\n",
       "15       Question\n",
       "16     Validation\n",
       "17    Explication\n",
       "18    Explication\n",
       "19     Validation\n",
       "20    Instruction\n",
       "21       Question\n",
       "22    Instruction\n",
       "23          Autre\n",
       "24    Explication\n",
       "25    Instruction\n",
       "26    Explication\n",
       "27    Instruction\n",
       "28    Instruction\n",
       "29    Explication\n",
       "30    Description\n",
       "31    Explication\n",
       "32    Description\n",
       "33       Question\n",
       "34          Autre\n",
       "35    Explication\n",
       "36    Explication\n",
       "37    Description\n",
       "38    Explication\n",
       "39    Explication\n",
       "40    Instruction\n",
       "41    Explication\n",
       "42       Question\n",
       "43    Explication\n",
       "44          Autre\n",
       "45    Instruction\n",
       "46    Explication\n",
       "47    Instruction\n",
       "Name: Forme, dtype: object"
      ]
     },
     "execution_count": 28,
     "metadata": {},
     "output_type": "execute_result"
    }
   ],
   "source": [
    "dataJulien['Forme']"
   ]
  },
  {
   "cell_type": "code",
   "execution_count": 29,
   "metadata": {},
   "outputs": [
    {
     "data": {
      "text/plain": [
       "([np.float64(0.29304215337734896),\n",
       "  np.float64(0.38587512794268175),\n",
       "  np.float64(0.5268346111719606)],\n",
       " [np.float64(0.09148264984227128),\n",
       "  np.float64(0.5054545454545454),\n",
       "  np.float64(0.24878575283324333)],\n",
       " [np.float64(0.19565217391304346),\n",
       "  np.float64(0.45127925966249316),\n",
       "  np.float64(0.4181818181818182)])"
      ]
     },
     "execution_count": 29,
     "metadata": {},
     "output_type": "execute_result"
    }
   ],
   "source": [
    "#Kappa deux à deux avec la librairie\n",
    "score_forme = []\n",
    "score_forme.append(cohen_kappa_score(dataJulien['Forme'].to_numpy(),dataChloe['Forme ( du contenu )'].to_numpy()))\n",
    "score_forme.append(cohen_kappa_score(dataJulien['Forme'].to_numpy(),dataJose['Forme'].to_numpy()))\n",
    "score_forme.append(cohen_kappa_score(dataJose['Forme'].to_numpy(),dataChloe['Forme ( du contenu )'].to_numpy()))\n",
    "\n",
    "score_contenu=[]\n",
    "score_contenu.append(cohen_kappa_score(dataJulien['Contenu'].to_numpy(),dataChloe['Contenu'].to_numpy()))\n",
    "score_contenu.append(cohen_kappa_score(dataJulien['Contenu'].to_numpy(),dataJose['Contenu'].to_numpy()))\n",
    "score_contenu.append(cohen_kappa_score(dataJose['Contenu'].to_numpy(),dataChloe['Contenu'].to_numpy()))\n",
    "\n",
    "score_nature = []\n",
    "score_nature.append(cohen_kappa_score(dataJulien['Nature'].to_numpy(),dataChloe['Nature'].to_numpy()))\n",
    "score_nature.append(cohen_kappa_score(dataJulien['Nature'].to_numpy(),dataJose['Nature'].to_numpy()))\n",
    "score_nature.append(cohen_kappa_score(dataJose['Nature'].to_numpy(),dataChloe['Nature'].to_numpy()))\n",
    "\n",
    "score_forme,score_contenu,score_nature"
   ]
  },
  {
   "cell_type": "code",
   "execution_count": null,
   "metadata": {},
   "outputs": [],
   "source": [
    "#Kappa a plus de deux graders || kappa de fleiss\n",
    "from statsmodels.stats.inter_rater import fleiss_kappa\n",
    "from statsmodels.stats.inter_rater import aggregate_raters\n"
   ]
  },
  {
   "cell_type": "code",
   "execution_count": 44,
   "metadata": {},
   "outputs": [
    {
     "data": {
      "text/plain": [
       "(np.float64(0.026103464641670668),\n",
       " np.float64(0.04706887433383519),\n",
       " np.float64(0.06923807723325286))"
      ]
     },
     "execution_count": 44,
     "metadata": {},
     "output_type": "execute_result"
    }
   ],
   "source": [
    "agreg_forme = aggregate_raters([dataJulien['Forme'].to_numpy(),dataChloe['Forme ( du contenu )'].to_numpy(),dataJose['Forme'].to_numpy()])\n",
    "multi_score_forme = fleiss_kappa(agreg_forme[0])\n",
    "\n",
    "agreg_contenu = aggregate_raters([dataJulien['Contenu'].to_numpy(),dataChloe['Contenu'].to_numpy(),dataJose['Contenu'].to_numpy()])\n",
    "multi_score_contenu = fleiss_kappa(agreg_contenu[0])\n",
    "\n",
    "agreg_nature = aggregate_raters([dataJulien['Nature'].to_numpy(),dataChloe['Nature'].to_numpy(),dataJose['Nature'].to_numpy()])\n",
    "multi_score_nature = fleiss_kappa(agreg_nature[0])\n",
    "\n",
    "multi_score_forme,multi_score_contenu,multi_score_nature"
   ]
  },
  {
   "cell_type": "code",
   "execution_count": null,
   "metadata": {},
   "outputs": [],
   "source": []
  }
 ],
 "metadata": {
  "kernelspec": {
   "display_name": "jupyterenv",
   "language": "python",
   "name": "python3"
  },
  "language_info": {
   "codemirror_mode": {
    "name": "ipython",
    "version": 3
   },
   "file_extension": ".py",
   "mimetype": "text/x-python",
   "name": "python",
   "nbconvert_exporter": "python",
   "pygments_lexer": "ipython3",
   "version": "3.9.21"
  }
 },
 "nbformat": 4,
 "nbformat_minor": 2
}
