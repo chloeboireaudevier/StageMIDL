{
 "cells": [
  {
   "cell_type": "code",
   "execution_count": 21,
   "metadata": {},
   "outputs": [],
   "source": [
    "import pandas as pd\n",
    "import numpy as np\n",
    "from sklearn.metrics import cohen_kappa_score\n",
    "import matplotlib.pyplot as plt"
   ]
  },
  {
   "cell_type": "code",
   "execution_count": 48,
   "metadata": {},
   "outputs": [
    {
     "data": {
      "text/html": [
       "<div>\n",
       "<style scoped>\n",
       "    .dataframe tbody tr th:only-of-type {\n",
       "        vertical-align: middle;\n",
       "    }\n",
       "\n",
       "    .dataframe tbody tr th {\n",
       "        vertical-align: top;\n",
       "    }\n",
       "\n",
       "    .dataframe thead th {\n",
       "        text-align: right;\n",
       "    }\n",
       "</style>\n",
       "<table border=\"1\" class=\"dataframe\">\n",
       "  <thead>\n",
       "    <tr style=\"text-align: right;\">\n",
       "      <th></th>\n",
       "      <th>ï»¿messageID</th>\n",
       "      <th>user</th>\n",
       "      <th>role</th>\n",
       "      <th>message</th>\n",
       "      <th>groupID</th>\n",
       "      <th>fileID</th>\n",
       "      <th>date</th>\n",
       "      <th>time</th>\n",
       "      <th>seanceID</th>\n",
       "      <th>Forme</th>\n",
       "      <th>Contenu</th>\n",
       "      <th>Nature</th>\n",
       "    </tr>\n",
       "  </thead>\n",
       "  <tbody>\n",
       "    <tr>\n",
       "      <th>0</th>\n",
       "      <td>24</td>\n",
       "      <td>145797.0</td>\n",
       "      <td>Driver</td>\n",
       "      <td>tu pense si je fais un for in in range avec un...</td>\n",
       "      <td>4</td>\n",
       "      <td>1db9dee2-2702-457f-aa07-6b60589446ce</td>\n",
       "      <td>2024-10-09</td>\n",
       "      <td>04:25:31</td>\n",
       "      <td>1</td>\n",
       "      <td>Question</td>\n",
       "      <td>Mots clefs python</td>\n",
       "      <td>Demande d'aide</td>\n",
       "    </tr>\n",
       "    <tr>\n",
       "      <th>1</th>\n",
       "      <td>30</td>\n",
       "      <td>200807.0</td>\n",
       "      <td>Navigator</td>\n",
       "      <td>en vrai c'est pas mieux de faire un \"if len(a)...</td>\n",
       "      <td>4</td>\n",
       "      <td>1db9dee2-2702-457f-aa07-6b60589446ce</td>\n",
       "      <td>2024-10-09</td>\n",
       "      <td>04:28:50</td>\n",
       "      <td>1</td>\n",
       "      <td>Explication</td>\n",
       "      <td>Mots clefs python</td>\n",
       "      <td>Informations sur comment proceder</td>\n",
       "    </tr>\n",
       "  </tbody>\n",
       "</table>\n",
       "</div>"
      ],
      "text/plain": [
       "  ï»¿messageID      user       role  \\\n",
       "0           24  145797.0     Driver   \n",
       "1           30  200807.0  Navigator   \n",
       "\n",
       "                                             message groupID  \\\n",
       "0  tu pense si je fais un for in in range avec un...       4   \n",
       "1  en vrai c'est pas mieux de faire un \"if len(a)...       4   \n",
       "\n",
       "                                 fileID        date      time seanceID  \\\n",
       "0  1db9dee2-2702-457f-aa07-6b60589446ce  2024-10-09  04:25:31        1   \n",
       "1  1db9dee2-2702-457f-aa07-6b60589446ce  2024-10-09  04:28:50        1   \n",
       "\n",
       "         Forme            Contenu                             Nature  \n",
       "0     Question  Mots clefs python                     Demande d'aide  \n",
       "1  Explication  Mots clefs python  Informations sur comment proceder  "
      ]
     },
     "execution_count": 48,
     "metadata": {},
     "output_type": "execute_result"
    }
   ],
   "source": [
    "#Récupération des données\n",
    "dataJulien = pd.read_csv(\"SousCorpusMessagesJulien.csv\",encoding='latin-1')\n",
    "dataJose = pd.read_csv(\"SousCorpusMessagesJose.csv\",encoding='latin-1')\n",
    "dataChloe = pd.read_csv(\"SousCorpusMessagesChloe.csv\",encoding='latin-1')\n",
    "dataSebastien = pd.read_csv(\"SousCorpusMessagesSebastien.csv\",encoding='latin-1')\n",
    "dataJulien.head(2)"
   ]
  },
  {
   "cell_type": "code",
   "execution_count": 49,
   "metadata": {},
   "outputs": [
    {
     "data": {
      "text/plain": [
       "Index(['ï»¿messageID', 'user', 'role', 'message', 'groupID', 'fileID', 'date',\n",
       "       'time', 'seanceID', 'Forme', 'Contenu', 'Nature'],\n",
       "      dtype='object')"
      ]
     },
     "execution_count": 49,
     "metadata": {},
     "output_type": "execute_result"
    }
   ],
   "source": [
    "dataJulien.columns"
   ]
  },
  {
   "cell_type": "code",
   "execution_count": 50,
   "metadata": {},
   "outputs": [
    {
     "data": {
      "text/plain": [
       "0        Question\n",
       "1     Explication\n",
       "2     Description\n",
       "3      Correction\n",
       "4      Correction\n",
       "5      Validation\n",
       "6        Question\n",
       "7     Description\n",
       "8           Autre\n",
       "9     Explication\n",
       "10    Instruction\n",
       "11    Explication\n",
       "12     Validation\n",
       "13    Explication\n",
       "14    Explication\n",
       "15       Question\n",
       "16     Validation\n",
       "17    Explication\n",
       "18    Explication\n",
       "19     Validation\n",
       "20    Instruction\n",
       "21       Question\n",
       "22    Instruction\n",
       "23          Autre\n",
       "24    Explication\n",
       "25    Instruction\n",
       "26    Explication\n",
       "27    Instruction\n",
       "28    Instruction\n",
       "29    Explication\n",
       "30    Description\n",
       "31    Explication\n",
       "32    Description\n",
       "33       Question\n",
       "34          Autre\n",
       "35    Explication\n",
       "36    Explication\n",
       "37    Description\n",
       "38    Explication\n",
       "39    Explication\n",
       "40    Instruction\n",
       "41    Explication\n",
       "42       Question\n",
       "43    Explication\n",
       "44          Autre\n",
       "45    Instruction\n",
       "46    Explication\n",
       "47    Instruction\n",
       "Name: Forme, dtype: object"
      ]
     },
     "execution_count": 50,
     "metadata": {},
     "output_type": "execute_result"
    }
   ],
   "source": [
    "dataJulien['Forme']"
   ]
  },
  {
   "cell_type": "code",
   "execution_count": 51,
   "metadata": {},
   "outputs": [
    {
     "data": {
      "text/html": [
       "<div>\n",
       "<style scoped>\n",
       "    .dataframe tbody tr th:only-of-type {\n",
       "        vertical-align: middle;\n",
       "    }\n",
       "\n",
       "    .dataframe tbody tr th {\n",
       "        vertical-align: top;\n",
       "    }\n",
       "\n",
       "    .dataframe thead th {\n",
       "        text-align: right;\n",
       "    }\n",
       "</style>\n",
       "<table border=\"1\" class=\"dataframe\">\n",
       "  <thead>\n",
       "    <tr style=\"text-align: right;\">\n",
       "      <th></th>\n",
       "      <th>ï»¿messageID</th>\n",
       "      <th>user</th>\n",
       "      <th>role</th>\n",
       "      <th>message</th>\n",
       "      <th>groupID</th>\n",
       "      <th>fileID</th>\n",
       "      <th>date</th>\n",
       "      <th>time</th>\n",
       "      <th>seanceID</th>\n",
       "      <th>Forme</th>\n",
       "      <th>Contenu</th>\n",
       "      <th>Nature</th>\n",
       "      <th>Unnamed: 12</th>\n",
       "      <th>Forme v2 ( 3 valeurs )</th>\n",
       "      <th>Forme v2 (4 valeurs)</th>\n",
       "      <th>Forme v3</th>\n",
       "    </tr>\n",
       "  </thead>\n",
       "  <tbody>\n",
       "    <tr>\n",
       "      <th>0</th>\n",
       "      <td>24</td>\n",
       "      <td>145797.0</td>\n",
       "      <td>Driver</td>\n",
       "      <td>tu pense si je fais un for in in range avec un...</td>\n",
       "      <td>4</td>\n",
       "      <td>1db9dee2-2702-457f-aa07-6b60589446ce</td>\n",
       "      <td>2024-10-09</td>\n",
       "      <td>04:25:31</td>\n",
       "      <td>1</td>\n",
       "      <td>Question</td>\n",
       "      <td>Mots clefs python</td>\n",
       "      <td>Demande d'aide</td>\n",
       "      <td>NaN</td>\n",
       "      <td>instruction</td>\n",
       "      <td>instruction</td>\n",
       "      <td>autre</td>\n",
       "    </tr>\n",
       "    <tr>\n",
       "      <th>1</th>\n",
       "      <td>30</td>\n",
       "      <td>200807.0</td>\n",
       "      <td>Navigator</td>\n",
       "      <td>en vrai c'est pas mieux de faire un \"if len(a)...</td>\n",
       "      <td>4</td>\n",
       "      <td>1db9dee2-2702-457f-aa07-6b60589446ce</td>\n",
       "      <td>2024-10-09</td>\n",
       "      <td>04:28:50</td>\n",
       "      <td>1</td>\n",
       "      <td>Question</td>\n",
       "      <td>Mots clefs python</td>\n",
       "      <td>Informations sur comment proceder</td>\n",
       "      <td>NaN</td>\n",
       "      <td>instruction</td>\n",
       "      <td>correction</td>\n",
       "      <td>instruction</td>\n",
       "    </tr>\n",
       "    <tr>\n",
       "      <th>2</th>\n",
       "      <td>34</td>\n",
       "      <td>200807.0</td>\n",
       "      <td>Navigator</td>\n",
       "      <td>quand je teste le code il me disent y'a des er...</td>\n",
       "      <td>4</td>\n",
       "      <td>1db9dee2-2702-457f-aa07-6b60589446ce</td>\n",
       "      <td>2024-10-09</td>\n",
       "      <td>04:30:08</td>\n",
       "      <td>1</td>\n",
       "      <td>Description</td>\n",
       "      <td>Concepts cles de programmation</td>\n",
       "      <td>Erreurs, idees fausses</td>\n",
       "      <td>NaN</td>\n",
       "      <td>explication</td>\n",
       "      <td>explication</td>\n",
       "      <td>explication</td>\n",
       "    </tr>\n",
       "  </tbody>\n",
       "</table>\n",
       "</div>"
      ],
      "text/plain": [
       "  ï»¿messageID      user       role  \\\n",
       "0           24  145797.0     Driver   \n",
       "1           30  200807.0  Navigator   \n",
       "2           34  200807.0  Navigator   \n",
       "\n",
       "                                             message groupID  \\\n",
       "0  tu pense si je fais un for in in range avec un...       4   \n",
       "1  en vrai c'est pas mieux de faire un \"if len(a)...       4   \n",
       "2  quand je teste le code il me disent y'a des er...       4   \n",
       "\n",
       "                                 fileID        date      time seanceID  \\\n",
       "0  1db9dee2-2702-457f-aa07-6b60589446ce  2024-10-09  04:25:31        1   \n",
       "1  1db9dee2-2702-457f-aa07-6b60589446ce  2024-10-09  04:28:50        1   \n",
       "2  1db9dee2-2702-457f-aa07-6b60589446ce  2024-10-09  04:30:08        1   \n",
       "\n",
       "         Forme                         Contenu  \\\n",
       "0     Question               Mots clefs python   \n",
       "1     Question               Mots clefs python   \n",
       "2  Description  Concepts cles de programmation   \n",
       "\n",
       "                              Nature  Unnamed: 12 Forme v2 ( 3 valeurs )  \\\n",
       "0                     Demande d'aide          NaN            instruction   \n",
       "1  Informations sur comment proceder          NaN            instruction   \n",
       "2             Erreurs, idees fausses          NaN            explication   \n",
       "\n",
       "  Forme v2 (4 valeurs)     Forme v3  \n",
       "0          instruction        autre  \n",
       "1           correction  instruction  \n",
       "2          explication  explication  "
      ]
     },
     "execution_count": 51,
     "metadata": {},
     "output_type": "execute_result"
    }
   ],
   "source": [
    "dataJose.head(3)"
   ]
  },
  {
   "cell_type": "code",
   "execution_count": 52,
   "metadata": {},
   "outputs": [
    {
     "data": {
      "text/plain": [
       "([np.float64(0.29304215337734896),\n",
       "  np.float64(0.38587512794268175),\n",
       "  np.float64(0.5268346111719606),\n",
       "  np.float64(0.4453781512605043),\n",
       "  np.float64(0.415282392026578),\n",
       "  np.float64(0.41214057507987223)],\n",
       " [np.float64(0.32155477031802115),\n",
       "  np.float64(0.5054545454545454),\n",
       "  np.float64(0.4070588235294117),\n",
       "  np.float64(0.23010487353485487),\n",
       "  np.float64(0.21786360893180456),\n",
       "  np.float64(0.23684210526315785)],\n",
       " [np.float64(0.19565217391304346),\n",
       "  np.float64(0.45127925966249316),\n",
       "  np.float64(0.4181818181818182),\n",
       "  np.float64(0.4025974025974026),\n",
       "  np.float64(0.3344425956738769),\n",
       "  np.float64(0.29118597138901714)])"
      ]
     },
     "execution_count": 52,
     "metadata": {},
     "output_type": "execute_result"
    }
   ],
   "source": [
    "#Kappa deux à deux avec la librairie\n",
    "noms = [\"Julien-Chloe\",\"Julien-Jose\",\"Jose-Chloe\",\"Jose-Sebastien\",\"Sebastien-Julien\",\"Sebastien-Chloe\"]\n",
    "\n",
    "score_forme = []\n",
    "score_forme.append(cohen_kappa_score(dataJulien['Forme'].to_numpy(),dataChloe['Forme ( du contenu )'].to_numpy()))\n",
    "score_forme.append(cohen_kappa_score(dataJulien['Forme'].to_numpy(),dataJose['Forme'].to_numpy()))\n",
    "score_forme.append(cohen_kappa_score(dataJose['Forme'].to_numpy(),dataChloe['Forme ( du contenu )'].to_numpy()))\n",
    "score_forme.append(cohen_kappa_score(dataJose['Forme'].to_numpy(),dataSebastien['Forme'].to_numpy()))\n",
    "score_forme.append(cohen_kappa_score(dataSebastien['Forme'].to_numpy(),dataJulien['Forme'].to_numpy()))\n",
    "score_forme.append(cohen_kappa_score(dataSebastien['Forme'].to_numpy(),dataChloe['Forme ( du contenu )'].to_numpy()))\n",
    "\n",
    "score_contenu=[]\n",
    "score_contenu.append(cohen_kappa_score(dataJulien['Contenu'].to_numpy(),dataChloe['Contenu'].to_numpy()))\n",
    "score_contenu.append(cohen_kappa_score(dataJulien['Contenu'].to_numpy(),dataJose['Contenu'].to_numpy()))\n",
    "score_contenu.append(cohen_kappa_score(dataJose['Contenu'].to_numpy(),dataChloe['Contenu'].to_numpy()))\n",
    "score_contenu.append(cohen_kappa_score(dataJose['Contenu'].to_numpy(),dataSebastien['Contenu'].to_numpy()))\n",
    "score_contenu.append(cohen_kappa_score(dataSebastien['Contenu'].to_numpy(),dataJulien['Contenu'].to_numpy()))\n",
    "score_contenu.append(cohen_kappa_score(dataSebastien['Contenu'].to_numpy(),dataChloe['Contenu'].to_numpy()))\n",
    "\n",
    "score_nature = []\n",
    "score_nature.append(cohen_kappa_score(dataJulien['Nature'].to_numpy(),dataChloe['Nature'].to_numpy()))\n",
    "score_nature.append(cohen_kappa_score(dataJulien['Nature'].to_numpy(),dataJose['Nature'].to_numpy()))\n",
    "score_nature.append(cohen_kappa_score(dataJose['Nature'].to_numpy(),dataChloe['Nature'].to_numpy()))\n",
    "score_nature.append(cohen_kappa_score(dataJose['Nature'].to_numpy(),dataSebastien['Nature'].to_numpy()))\n",
    "score_nature.append(cohen_kappa_score(dataSebastien['Nature'].to_numpy(),dataJulien['Nature'].to_numpy()))\n",
    "score_nature.append(cohen_kappa_score(dataSebastien['Nature'].to_numpy(),dataChloe['Nature'].to_numpy()))\n",
    "\n",
    "score_forme,score_contenu,score_nature"
   ]
  },
  {
   "cell_type": "code",
   "execution_count": 53,
   "metadata": {},
   "outputs": [
    {
     "data": {
      "image/png": "[encoded data removed]",
      "text/plain": [
       "<Figure size 1500x700 with 3 Axes>"
      ]
     },
     "metadata": {},
     "output_type": "display_data"
    }
   ],
   "source": [
    "f, (ax1, ax2,ax3) = plt.subplots(1, 3)\n",
    "f.set_figheight(7)\n",
    "f.set_figwidth(15)\n",
    "f.subplots_adjust(bottom=0.2)\n",
    "\n",
    "ax1.bar(noms, score_forme)\n",
    "ax1.tick_params(axis='x', labelrotation=45)\n",
    "ax1.set_title('Score Forme')  # Title for first subplot\n",
    "\n",
    "ax2.bar(noms, score_contenu)\n",
    "ax2.tick_params(axis='x', labelrotation=45)\n",
    "ax2.set_title('Score Contenu')  # Title for second subplot\n",
    "\n",
    "ax3.bar(noms, score_nature)\n",
    "ax3.tick_params(axis='x', labelrotation=45)\n",
    "ax3.set_title('Score Nature')  # Title for third subplot\n",
    "f.suptitle(\"Kappa de Cohen en fonction des attributs annotés et des annotateurs\")\n",
    "plt.show()"
   ]
  },
  {
   "cell_type": "code",
   "execution_count": 54,
   "metadata": {},
   "outputs": [],
   "source": [
    "#Kappa à plus de deux graders || kappa de fleiss\n",
    "from statsmodels.stats.inter_rater import fleiss_kappa\n",
    "from statsmodels.stats.inter_rater import aggregate_raters\n"
   ]
  },
  {
   "cell_type": "code",
   "execution_count": 55,
   "metadata": {},
   "outputs": [
    {
     "data": {
      "text/plain": [
       "(np.float64(0.402391508800215),\n",
       " np.float64(0.30888638920134986),\n",
       " np.float64(0.32674791533034))"
      ]
     },
     "execution_count": 55,
     "metadata": {},
     "output_type": "execute_result"
    }
   ],
   "source": [
    "agreg_forme = aggregate_raters(np.array([dataJulien['Forme'].to_numpy(),dataChloe['Forme ( du contenu )'].to_numpy(),dataJose['Forme'].to_numpy(),dataSebastien['Forme'].to_numpy()]).transpose())\n",
    "multi_score_forme = fleiss_kappa(agreg_forme[0])\n",
    "\n",
    "agreg_contenu = aggregate_raters(np.array([dataJulien['Contenu'].to_numpy(),dataChloe['Contenu'].to_numpy(),dataJose['Contenu'].to_numpy(),dataSebastien['Contenu'].to_numpy()]).transpose())\n",
    "multi_score_contenu = fleiss_kappa(agreg_contenu[0])\n",
    "\n",
    "agreg_nature = aggregate_raters(np.array([dataJulien['Nature'].to_numpy(),dataChloe['Nature'].to_numpy(),dataJose['Nature'].to_numpy(),dataSebastien['Nature'].to_numpy()]).transpose())\n",
    "multi_score_nature = fleiss_kappa(agreg_nature[0])\n",
    "\n",
    "multi_score_forme,multi_score_contenu,multi_score_nature"
   ]
  },
  {
   "cell_type": "code",
   "execution_count": 56,
   "metadata": {},
   "outputs": [
    {
     "data": {
      "image/png": "[encoded data removed]",
      "text/plain": [
       "<Figure size 640x480 with 1 Axes>"
      ]
     },
     "metadata": {},
     "output_type": "display_data"
    }
   ],
   "source": [
    "plt.bar([\"Forme\",\"Contenu\",\"Nature\"],[multi_score_forme,multi_score_contenu,multi_score_nature])\n",
    "\n",
    "plt.title(\"Kappa de Fleiss en fonction de l'attribut (4 annotateurs)\")\n",
    "plt.show()"
   ]
  },
  {
   "cell_type": "markdown",
   "metadata": {},
   "source": [
    "#### Tests avec moins de valeurs pour forme"
   ]
  },
  {
   "cell_type": "code",
   "execution_count": 18,
   "metadata": {},
   "outputs": [
    {
     "name": "stdout",
     "output_type": "stream",
     "text": [
      "3 attributs : 0.5675675675675675\n"
     ]
    }
   ],
   "source": [
    "print(\"3 attributs : \" + str(cohen_kappa_score(dataJose['Forme v2 ( 3 valeurs )'].to_numpy(),dataChloe['Forme v2 ( 3 valeurs )'].to_numpy())))"
   ]
  },
  {
   "cell_type": "code",
   "execution_count": 19,
   "metadata": {},
   "outputs": [
    {
     "name": "stdout",
     "output_type": "stream",
     "text": [
      "4 attributs : 0.4600000000000001\n"
     ]
    }
   ],
   "source": [
    "print(\"4 attributs : \" + str(cohen_kappa_score(dataJose['Forme v2 (4 valeurs)'].to_numpy(),dataChloe['Forme v2 (4 valeurs)'].to_numpy())))"
   ]
  },
  {
   "cell_type": "markdown",
   "metadata": {},
   "source": [
    "#### Avec attribut \"autre\""
   ]
  },
  {
   "cell_type": "code",
   "execution_count": 20,
   "metadata": {},
   "outputs": [
    {
     "name": "stdout",
     "output_type": "stream",
     "text": [
      "3 attributs + autre : 0.5025906735751295\n"
     ]
    }
   ],
   "source": [
    "print(\"3 attributs + autre : \" + str(cohen_kappa_score(dataJose['Forme v3'].to_numpy(),dataChloe['Forme v3'].to_numpy())))"
   ]
  },
  {
   "cell_type": "markdown",
   "metadata": {},
   "source": [
    "#### Kappa pour le rapport"
   ]
  },
  {
   "cell_type": "code",
   "execution_count": 67,
   "metadata": {},
   "outputs": [
    {
     "data": {
      "text/html": [
       "<div>\n",
       "<style scoped>\n",
       "    .dataframe tbody tr th:only-of-type {\n",
       "        vertical-align: middle;\n",
       "    }\n",
       "\n",
       "    .dataframe tbody tr th {\n",
       "        vertical-align: top;\n",
       "    }\n",
       "\n",
       "    .dataframe thead th {\n",
       "        text-align: right;\n",
       "    }\n",
       "</style>\n",
       "<table border=\"1\" class=\"dataframe\">\n",
       "  <thead>\n",
       "    <tr style=\"text-align: right;\">\n",
       "      <th></th>\n",
       "      <th>seance_ID</th>\n",
       "      <th>groupe_ID</th>\n",
       "      <th>role</th>\n",
       "      <th>messageID</th>\n",
       "      <th>utterance_num</th>\n",
       "      <th>message</th>\n",
       "      <th>forme</th>\n",
       "      <th>ton</th>\n",
       "      <th>content</th>\n",
       "      <th>nature</th>\n",
       "    </tr>\n",
       "  </thead>\n",
       "  <tbody>\n",
       "    <tr>\n",
       "      <th>0</th>\n",
       "      <td>np.int64(1)</td>\n",
       "      <td>np.int64(4)</td>\n",
       "      <td>Driver</td>\n",
       "      <td>22</td>\n",
       "      <td>0</td>\n",
       "      <td>Bonjour</td>\n",
       "      <td>positiveSentence</td>\n",
       "      <td>positiveTone</td>\n",
       "      <td>notRelatedToProgramming_Other</td>\n",
       "      <td>noFeedback</td>\n",
       "    </tr>\n",
       "    <tr>\n",
       "      <th>1</th>\n",
       "      <td>np.int64(1)</td>\n",
       "      <td>np.int64(4)</td>\n",
       "      <td>Navigator</td>\n",
       "      <td>23</td>\n",
       "      <td>0</td>\n",
       "      <td>Bonjour</td>\n",
       "      <td>positiveSentence</td>\n",
       "      <td>positiveTone</td>\n",
       "      <td>notRelatedToProgramming_Other</td>\n",
       "      <td>noFeedback</td>\n",
       "    </tr>\n",
       "  </tbody>\n",
       "</table>\n",
       "</div>"
      ],
      "text/plain": [
       "     seance_ID    groupe_ID       role  messageID  utterance_num  message  \\\n",
       "0  np.int64(1)  np.int64(4)     Driver         22              0  Bonjour   \n",
       "1  np.int64(1)  np.int64(4)  Navigator         23              0  Bonjour   \n",
       "\n",
       "              forme           ton                        content      nature  \n",
       "0  positiveSentence  positiveTone  notRelatedToProgramming_Other  noFeedback  \n",
       "1  positiveSentence  positiveTone  notRelatedToProgramming_Other  noFeedback  "
      ]
     },
     "execution_count": 67,
     "metadata": {},
     "output_type": "execute_result"
    }
   ],
   "source": [
    "annotated = pd.read_csv(\"classified_by_hand.csv\",encoding='latin-1',index_col = 0)\n",
    "notAnnotated = pd.read_csv(\"classified_test.csv\",encoding='latin-1',index_col=0)\n",
    "annotated.head(2)"
   ]
  },
  {
   "cell_type": "code",
   "execution_count": 68,
   "metadata": {},
   "outputs": [
    {
     "data": {
      "text/html": [
       "<div>\n",
       "<style scoped>\n",
       "    .dataframe tbody tr th:only-of-type {\n",
       "        vertical-align: middle;\n",
       "    }\n",
       "\n",
       "    .dataframe tbody tr th {\n",
       "        vertical-align: top;\n",
       "    }\n",
       "\n",
       "    .dataframe thead th {\n",
       "        text-align: right;\n",
       "    }\n",
       "</style>\n",
       "<table border=\"1\" class=\"dataframe\">\n",
       "  <thead>\n",
       "    <tr style=\"text-align: right;\">\n",
       "      <th></th>\n",
       "      <th>seance_ID</th>\n",
       "      <th>groupe_ID</th>\n",
       "      <th>role</th>\n",
       "      <th>messageID</th>\n",
       "      <th>utterance_num</th>\n",
       "      <th>message</th>\n",
       "      <th>forme</th>\n",
       "      <th>ton</th>\n",
       "      <th>content</th>\n",
       "      <th>nature</th>\n",
       "    </tr>\n",
       "  </thead>\n",
       "  <tbody>\n",
       "    <tr>\n",
       "      <th>0</th>\n",
       "      <td>np.int64(1)</td>\n",
       "      <td>np.int64(4)</td>\n",
       "      <td>Driver</td>\n",
       "      <td>22</td>\n",
       "      <td>0</td>\n",
       "      <td>Bonjour</td>\n",
       "      <td>positiveSentence</td>\n",
       "      <td>positiveTone</td>\n",
       "      <td>notRelatedToProgramming_Other</td>\n",
       "      <td>noFeedback</td>\n",
       "    </tr>\n",
       "    <tr>\n",
       "      <th>1</th>\n",
       "      <td>np.int64(1)</td>\n",
       "      <td>np.int64(4)</td>\n",
       "      <td>Navigator</td>\n",
       "      <td>23</td>\n",
       "      <td>0</td>\n",
       "      <td>Bonjour</td>\n",
       "      <td>positiveSentence</td>\n",
       "      <td>positiveTone</td>\n",
       "      <td>notRelatedToProgramming_Other</td>\n",
       "      <td>noFeedback</td>\n",
       "    </tr>\n",
       "  </tbody>\n",
       "</table>\n",
       "</div>"
      ],
      "text/plain": [
       "     seance_ID    groupe_ID       role  messageID  utterance_num  message  \\\n",
       "0  np.int64(1)  np.int64(4)     Driver         22              0  Bonjour   \n",
       "1  np.int64(1)  np.int64(4)  Navigator         23              0  Bonjour   \n",
       "\n",
       "              forme           ton                        content      nature  \n",
       "0  positiveSentence  positiveTone  notRelatedToProgramming_Other  noFeedback  \n",
       "1  positiveSentence  positiveTone  notRelatedToProgramming_Other  noFeedback  "
      ]
     },
     "execution_count": 68,
     "metadata": {},
     "output_type": "execute_result"
    }
   ],
   "source": [
    "notAnnotated.head(2)"
   ]
  },
  {
   "cell_type": "code",
   "execution_count": 69,
   "metadata": {},
   "outputs": [
    {
     "name": "stderr",
     "output_type": "stream",
     "text": [
      "c:\\Users\\cbd65\\anaconda3\\envs\\jupyterenv\\lib\\site-packages\\sklearn\\metrics\\_classification.py:407: UserWarning: A single label was found in 'y_true' and 'y_pred'. For the confusion matrix to have the correct shape, use the 'labels' parameter to pass all known labels.\n",
      "  warnings.warn(\n",
      "c:\\Users\\cbd65\\anaconda3\\envs\\jupyterenv\\lib\\site-packages\\sklearn\\metrics\\_classification.py:758: RuntimeWarning: invalid value encountered in scalar divide\n",
      "  k = np.sum(w_mat * confusion) / np.sum(w_mat * expected)\n"
     ]
    },
    {
     "data": {
      "text/plain": [
       "[np.float64(0.9285714285714286),\n",
       " np.float64(nan),\n",
       " np.float64(0.7630331753554502),\n",
       " np.float64(0.3224932249322493)]"
      ]
     },
     "execution_count": 69,
     "metadata": {},
     "output_type": "execute_result"
    }
   ],
   "source": [
    "cols = ['forme','ton','content','nature']\n",
    "scores = []\n",
    "for col in cols:\n",
    "    scores.append(cohen_kappa_score(annotated[col],notAnnotated[col]))\n",
    "scores   "
   ]
  },
  {
   "cell_type": "markdown",
   "metadata": {},
   "source": [
    "Nan pour ton est sûrement dû au fait qu'il n'y ait qu'une catégorie."
   ]
  },
  {
   "cell_type": "code",
   "execution_count": 70,
   "metadata": {},
   "outputs": [
    {
     "data": {
      "text/plain": [
       "[]"
      ]
     },
     "execution_count": 70,
     "metadata": {},
     "output_type": "execute_result"
    },
    {
     "data": {
      "image/png": "[encoded data removed]",
      "text/plain": [
       "<Figure size 640x480 with 1 Axes>"
      ]
     },
     "metadata": {},
     "output_type": "display_data"
    }
   ],
   "source": [
    "plt.bar(cols,scores)\n",
    "plt.plot()"
   ]
  },
  {
   "cell_type": "code",
   "execution_count": null,
   "metadata": {},
   "outputs": [],
   "source": []
  }
 ],
 "metadata": {
  "kernelspec": {
   "display_name": "jupyterenv",
   "language": "python",
   "name": "python3"
  },
  "language_info": {
   "codemirror_mode": {
    "name": "ipython",
    "version": 3
   },
   "file_extension": ".py",
   "mimetype": "text/x-python",
   "name": "python",
   "nbconvert_exporter": "python",
   "pygments_lexer": "ipython3",
   "version": "3.9.21"
  }
 },
 "nbformat": 4,
 "nbformat_minor": 2
}
